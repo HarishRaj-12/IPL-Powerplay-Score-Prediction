{
  "cells": [
    {
      "cell_type": "code",
      "execution_count": 59,
      "metadata": {
        "id": "0m67RaDX6N6l"
      },
      "outputs": [],
      "source": [
        "import tensorflow as tf\n",
        "from tensorflow import keras\n",
        "import numpy as np\n",
        "import pandas as pd\n",
        "import seaborn as sns\n",
        "import matplotlib.pyplot as plt"
      ],
      "id": "0m67RaDX6N6l"
    },
    {
      "cell_type": "code",
      "source": [
        "from google.colab import drive\n",
        "drive.mount('/content/drive')"
      ],
      "metadata": {
        "id": "4pbbasTWMdX1",
        "colab": {
          "base_uri": "https://localhost:8080/"
        },
        "outputId": "21352ba2-e4b9-4115-bef7-4783b8dfe431"
      },
      "id": "4pbbasTWMdX1",
      "execution_count": 60,
      "outputs": [
        {
          "output_type": "stream",
          "name": "stdout",
          "text": [
            "Drive already mounted at /content/drive; to attempt to forcibly remount, call drive.mount(\"/content/drive\", force_remount=True).\n"
          ]
        }
      ]
    },
    {
      "cell_type": "code",
      "execution_count": 61,
      "metadata": {
        "id": "ryDlmBh57LsM"
      },
      "outputs": [],
      "source": [
        "iplbb=pd.read_csv('/content/drive/MyDrive/IPL_Ball_by_Ball_2008_2022.csv')"
      ],
      "id": "ryDlmBh57LsM"
    },
    {
      "cell_type": "code",
      "execution_count": 62,
      "metadata": {
        "colab": {
          "base_uri": "https://localhost:8080/",
          "height": 461
        },
        "id": "RG5LbG_SwzeZ",
        "outputId": "39797fba-5ae0-4eb6-bddf-ccaaaf5e6b22"
      },
      "outputs": [
        {
          "output_type": "execute_result",
          "data": {
            "text/plain": [
              "            ID  innings  overs  ballnumber    batter     bowler non-striker  \\\n",
              "225949  335982        2     14           5   P Kumar   I Sharma    SB Joshi   \n",
              "225950  335982        2     14           6  SB Joshi   I Sharma     P Kumar   \n",
              "225951  335982        2     14           7   P Kumar   I Sharma    SB Joshi   \n",
              "225952  335982        2     15           1  SB Joshi  LR Shukla     P Kumar   \n",
              "225953  335982        2     15           2  SB Joshi  LR Shukla     P Kumar   \n",
              "\n",
              "       extra_type  batsman_run  extras_run  total_run  non_boundary  \\\n",
              "225949    legbyes            0           1          1             0   \n",
              "225950        NaN            1           0          1             0   \n",
              "225951        NaN            0           0          0             0   \n",
              "225952      wides            0           1          1             0   \n",
              "225953        NaN            0           0          0             0   \n",
              "\n",
              "        isWicketDelivery player_out    kind fielders_involved  \\\n",
              "225949                 0        NaN     NaN               NaN   \n",
              "225950                 0        NaN     NaN               NaN   \n",
              "225951                 0        NaN     NaN               NaN   \n",
              "225952                 0        NaN     NaN               NaN   \n",
              "225953                 1   SB Joshi  caught       BB McCullum   \n",
              "\n",
              "                        BattingTeam  \n",
              "225949  Royal Challengers Bangalore  \n",
              "225950  Royal Challengers Bangalore  \n",
              "225951  Royal Challengers Bangalore  \n",
              "225952  Royal Challengers Bangalore  \n",
              "225953  Royal Challengers Bangalore  "
            ],
            "text/html": [
              "\n",
              "  <div id=\"df-9d6e7bef-74c8-4934-aef7-df8b392a81cf\">\n",
              "    <div class=\"colab-df-container\">\n",
              "      <div>\n",
              "<style scoped>\n",
              "    .dataframe tbody tr th:only-of-type {\n",
              "        vertical-align: middle;\n",
              "    }\n",
              "\n",
              "    .dataframe tbody tr th {\n",
              "        vertical-align: top;\n",
              "    }\n",
              "\n",
              "    .dataframe thead th {\n",
              "        text-align: right;\n",
              "    }\n",
              "</style>\n",
              "<table border=\"1\" class=\"dataframe\">\n",
              "  <thead>\n",
              "    <tr style=\"text-align: right;\">\n",
              "      <th></th>\n",
              "      <th>ID</th>\n",
              "      <th>innings</th>\n",
              "      <th>overs</th>\n",
              "      <th>ballnumber</th>\n",
              "      <th>batter</th>\n",
              "      <th>bowler</th>\n",
              "      <th>non-striker</th>\n",
              "      <th>extra_type</th>\n",
              "      <th>batsman_run</th>\n",
              "      <th>extras_run</th>\n",
              "      <th>total_run</th>\n",
              "      <th>non_boundary</th>\n",
              "      <th>isWicketDelivery</th>\n",
              "      <th>player_out</th>\n",
              "      <th>kind</th>\n",
              "      <th>fielders_involved</th>\n",
              "      <th>BattingTeam</th>\n",
              "    </tr>\n",
              "  </thead>\n",
              "  <tbody>\n",
              "    <tr>\n",
              "      <th>225949</th>\n",
              "      <td>335982</td>\n",
              "      <td>2</td>\n",
              "      <td>14</td>\n",
              "      <td>5</td>\n",
              "      <td>P Kumar</td>\n",
              "      <td>I Sharma</td>\n",
              "      <td>SB Joshi</td>\n",
              "      <td>legbyes</td>\n",
              "      <td>0</td>\n",
              "      <td>1</td>\n",
              "      <td>1</td>\n",
              "      <td>0</td>\n",
              "      <td>0</td>\n",
              "      <td>NaN</td>\n",
              "      <td>NaN</td>\n",
              "      <td>NaN</td>\n",
              "      <td>Royal Challengers Bangalore</td>\n",
              "    </tr>\n",
              "    <tr>\n",
              "      <th>225950</th>\n",
              "      <td>335982</td>\n",
              "      <td>2</td>\n",
              "      <td>14</td>\n",
              "      <td>6</td>\n",
              "      <td>SB Joshi</td>\n",
              "      <td>I Sharma</td>\n",
              "      <td>P Kumar</td>\n",
              "      <td>NaN</td>\n",
              "      <td>1</td>\n",
              "      <td>0</td>\n",
              "      <td>1</td>\n",
              "      <td>0</td>\n",
              "      <td>0</td>\n",
              "      <td>NaN</td>\n",
              "      <td>NaN</td>\n",
              "      <td>NaN</td>\n",
              "      <td>Royal Challengers Bangalore</td>\n",
              "    </tr>\n",
              "    <tr>\n",
              "      <th>225951</th>\n",
              "      <td>335982</td>\n",
              "      <td>2</td>\n",
              "      <td>14</td>\n",
              "      <td>7</td>\n",
              "      <td>P Kumar</td>\n",
              "      <td>I Sharma</td>\n",
              "      <td>SB Joshi</td>\n",
              "      <td>NaN</td>\n",
              "      <td>0</td>\n",
              "      <td>0</td>\n",
              "      <td>0</td>\n",
              "      <td>0</td>\n",
              "      <td>0</td>\n",
              "      <td>NaN</td>\n",
              "      <td>NaN</td>\n",
              "      <td>NaN</td>\n",
              "      <td>Royal Challengers Bangalore</td>\n",
              "    </tr>\n",
              "    <tr>\n",
              "      <th>225952</th>\n",
              "      <td>335982</td>\n",
              "      <td>2</td>\n",
              "      <td>15</td>\n",
              "      <td>1</td>\n",
              "      <td>SB Joshi</td>\n",
              "      <td>LR Shukla</td>\n",
              "      <td>P Kumar</td>\n",
              "      <td>wides</td>\n",
              "      <td>0</td>\n",
              "      <td>1</td>\n",
              "      <td>1</td>\n",
              "      <td>0</td>\n",
              "      <td>0</td>\n",
              "      <td>NaN</td>\n",
              "      <td>NaN</td>\n",
              "      <td>NaN</td>\n",
              "      <td>Royal Challengers Bangalore</td>\n",
              "    </tr>\n",
              "    <tr>\n",
              "      <th>225953</th>\n",
              "      <td>335982</td>\n",
              "      <td>2</td>\n",
              "      <td>15</td>\n",
              "      <td>2</td>\n",
              "      <td>SB Joshi</td>\n",
              "      <td>LR Shukla</td>\n",
              "      <td>P Kumar</td>\n",
              "      <td>NaN</td>\n",
              "      <td>0</td>\n",
              "      <td>0</td>\n",
              "      <td>0</td>\n",
              "      <td>0</td>\n",
              "      <td>1</td>\n",
              "      <td>SB Joshi</td>\n",
              "      <td>caught</td>\n",
              "      <td>BB McCullum</td>\n",
              "      <td>Royal Challengers Bangalore</td>\n",
              "    </tr>\n",
              "  </tbody>\n",
              "</table>\n",
              "</div>\n",
              "      <button class=\"colab-df-convert\" onclick=\"convertToInteractive('df-9d6e7bef-74c8-4934-aef7-df8b392a81cf')\"\n",
              "              title=\"Convert this dataframe to an interactive table.\"\n",
              "              style=\"display:none;\">\n",
              "        \n",
              "  <svg xmlns=\"http://www.w3.org/2000/svg\" height=\"24px\"viewBox=\"0 0 24 24\"\n",
              "       width=\"24px\">\n",
              "    <path d=\"M0 0h24v24H0V0z\" fill=\"none\"/>\n",
              "    <path d=\"M18.56 5.44l.94 2.06.94-2.06 2.06-.94-2.06-.94-.94-2.06-.94 2.06-2.06.94zm-11 1L8.5 8.5l.94-2.06 2.06-.94-2.06-.94L8.5 2.5l-.94 2.06-2.06.94zm10 10l.94 2.06.94-2.06 2.06-.94-2.06-.94-.94-2.06-.94 2.06-2.06.94z\"/><path d=\"M17.41 7.96l-1.37-1.37c-.4-.4-.92-.59-1.43-.59-.52 0-1.04.2-1.43.59L10.3 9.45l-7.72 7.72c-.78.78-.78 2.05 0 2.83L4 21.41c.39.39.9.59 1.41.59.51 0 1.02-.2 1.41-.59l7.78-7.78 2.81-2.81c.8-.78.8-2.07 0-2.86zM5.41 20L4 18.59l7.72-7.72 1.47 1.35L5.41 20z\"/>\n",
              "  </svg>\n",
              "      </button>\n",
              "      \n",
              "  <style>\n",
              "    .colab-df-container {\n",
              "      display:flex;\n",
              "      flex-wrap:wrap;\n",
              "      gap: 12px;\n",
              "    }\n",
              "\n",
              "    .colab-df-convert {\n",
              "      background-color: #E8F0FE;\n",
              "      border: none;\n",
              "      border-radius: 50%;\n",
              "      cursor: pointer;\n",
              "      display: none;\n",
              "      fill: #1967D2;\n",
              "      height: 32px;\n",
              "      padding: 0 0 0 0;\n",
              "      width: 32px;\n",
              "    }\n",
              "\n",
              "    .colab-df-convert:hover {\n",
              "      background-color: #E2EBFA;\n",
              "      box-shadow: 0px 1px 2px rgba(60, 64, 67, 0.3), 0px 1px 3px 1px rgba(60, 64, 67, 0.15);\n",
              "      fill: #174EA6;\n",
              "    }\n",
              "\n",
              "    [theme=dark] .colab-df-convert {\n",
              "      background-color: #3B4455;\n",
              "      fill: #D2E3FC;\n",
              "    }\n",
              "\n",
              "    [theme=dark] .colab-df-convert:hover {\n",
              "      background-color: #434B5C;\n",
              "      box-shadow: 0px 1px 3px 1px rgba(0, 0, 0, 0.15);\n",
              "      filter: drop-shadow(0px 1px 2px rgba(0, 0, 0, 0.3));\n",
              "      fill: #FFFFFF;\n",
              "    }\n",
              "  </style>\n",
              "\n",
              "      <script>\n",
              "        const buttonEl =\n",
              "          document.querySelector('#df-9d6e7bef-74c8-4934-aef7-df8b392a81cf button.colab-df-convert');\n",
              "        buttonEl.style.display =\n",
              "          google.colab.kernel.accessAllowed ? 'block' : 'none';\n",
              "\n",
              "        async function convertToInteractive(key) {\n",
              "          const element = document.querySelector('#df-9d6e7bef-74c8-4934-aef7-df8b392a81cf');\n",
              "          const dataTable =\n",
              "            await google.colab.kernel.invokeFunction('convertToInteractive',\n",
              "                                                     [key], {});\n",
              "          if (!dataTable) return;\n",
              "\n",
              "          const docLinkHtml = 'Like what you see? Visit the ' +\n",
              "            '<a target=\"_blank\" href=https://colab.research.google.com/notebooks/data_table.ipynb>data table notebook</a>'\n",
              "            + ' to learn more about interactive tables.';\n",
              "          element.innerHTML = '';\n",
              "          dataTable['output_type'] = 'display_data';\n",
              "          await google.colab.output.renderOutput(dataTable, element);\n",
              "          const docLink = document.createElement('div');\n",
              "          docLink.innerHTML = docLinkHtml;\n",
              "          element.appendChild(docLink);\n",
              "        }\n",
              "      </script>\n",
              "    </div>\n",
              "  </div>\n",
              "  "
            ]
          },
          "metadata": {},
          "execution_count": 62
        }
      ],
      "source": [
        "iplbb.tail()"
      ],
      "id": "RG5LbG_SwzeZ"
    },
    {
      "cell_type": "code",
      "execution_count": 63,
      "metadata": {
        "id": "spugrK6uyk7v"
      },
      "outputs": [],
      "source": [
        "players=sorted(iplbb.batter.unique())"
      ],
      "id": "spugrK6uyk7v"
    },
    {
      "cell_type": "code",
      "execution_count": 64,
      "metadata": {
        "colab": {
          "base_uri": "https://localhost:8080/"
        },
        "id": "NeoxAqItzE4q",
        "outputId": "79e9421a-96ae-4206-a8d6-382bbd2331c5"
      },
      "outputs": [
        {
          "output_type": "stream",
          "name": "stdout",
          "text": [
            "<class 'pandas.core.frame.DataFrame'>\n",
            "RangeIndex: 225954 entries, 0 to 225953\n",
            "Data columns (total 17 columns):\n",
            " #   Column             Non-Null Count   Dtype \n",
            "---  ------             --------------   ----- \n",
            " 0   ID                 225954 non-null  int64 \n",
            " 1   innings            225954 non-null  int64 \n",
            " 2   overs              225954 non-null  int64 \n",
            " 3   ballnumber         225954 non-null  int64 \n",
            " 4   batter             225954 non-null  object\n",
            " 5   bowler             225954 non-null  object\n",
            " 6   non-striker        225954 non-null  object\n",
            " 7   extra_type         12049 non-null   object\n",
            " 8   batsman_run        225954 non-null  int64 \n",
            " 9   extras_run         225954 non-null  int64 \n",
            " 10  total_run          225954 non-null  int64 \n",
            " 11  non_boundary       225954 non-null  int64 \n",
            " 12  isWicketDelivery   225954 non-null  int64 \n",
            " 13  player_out         11151 non-null   object\n",
            " 14  kind               11151 non-null   object\n",
            " 15  fielders_involved  7988 non-null    object\n",
            " 16  BattingTeam        225954 non-null  object\n",
            "dtypes: int64(9), object(8)\n",
            "memory usage: 29.3+ MB\n"
          ]
        }
      ],
      "source": [
        "iplbb.info()"
      ],
      "id": "NeoxAqItzE4q"
    },
    {
      "cell_type": "code",
      "execution_count": 65,
      "metadata": {
        "id": "0kQQkvBBzQkP"
      },
      "outputs": [],
      "source": [
        "# iplbb['ID'].unique()"
      ],
      "id": "0kQQkvBBzQkP"
    },
    {
      "cell_type": "code",
      "source": [
        "def batsman30plus(batsman):\n",
        "  b=iplbb[iplbb['batter']==batsman]\n",
        "  d=b.groupby(['ID'])['batsman_run'].sum().reset_index()\n",
        "  return len(d[d.batsman_run>30])"
      ],
      "metadata": {
        "id": "44lSmtVv04Mm"
      },
      "id": "44lSmtVv04Mm",
      "execution_count": 66,
      "outputs": []
    },
    {
      "cell_type": "code",
      "source": [
        "print(batsman30plus(\"V Kohli\"))"
      ],
      "metadata": {
        "colab": {
          "base_uri": "https://localhost:8080/"
        },
        "id": "hS50qCx7-n-J",
        "outputId": "9f851e55-cb82-4e2c-9a6e-961ce82d9e7d"
      },
      "id": "hS50qCx7-n-J",
      "execution_count": 67,
      "outputs": [
        {
          "output_type": "stream",
          "name": "stdout",
          "text": [
            "93\n"
          ]
        }
      ]
    },
    {
      "cell_type": "code",
      "source": [
        "plus30=[]\n",
        "batsman=[]\n",
        "for i in players:\n",
        "  r=batsman30plus(i)\n",
        "  if r>50:\n",
        "    plus30.append(r)\n",
        "    batsman.append(i)\n",
        "# df30plus=pd.DataFrame(batsman,plus30)\n",
        "fig, ax = plt.subplots(figsize=(14, 6))\n",
        "plt.title(\" No. of 30+ scores of Batsmans\")\n",
        "sns.barplot(x=batsman,y=plus30,ax=ax,errwidth=0)\n",
        "ax.bar_label(ax.containers[0])"
      ],
      "metadata": {
        "id": "fswa8zqeStbN",
        "colab": {
          "base_uri": "https://localhost:8080/",
          "height": 788
        },
        "outputId": "c99e1eba-9787-48ce-ed2e-e16bbfca4963"
      },
      "id": "fswa8zqeStbN",
      "execution_count": 68,
      "outputs": [
        {
          "output_type": "execute_result",
          "data": {
            "text/plain": [
              "[Text(0, 0, '66'),\n",
              " Text(0, 0, '54'),\n",
              " Text(0, 0, '56'),\n",
              " Text(0, 0, '60'),\n",
              " Text(0, 0, '85'),\n",
              " Text(0, 0, '57'),\n",
              " Text(0, 0, '54'),\n",
              " Text(0, 0, '59'),\n",
              " Text(0, 0, '79'),\n",
              " Text(0, 0, '69'),\n",
              " Text(0, 0, '86'),\n",
              " Text(0, 0, '74'),\n",
              " Text(0, 0, '52'),\n",
              " Text(0, 0, '93')]"
            ]
          },
          "metadata": {},
          "execution_count": 68
        },
        {
          "output_type": "display_data",
          "data": {
            "text/plain": [
              "<Figure size 1400x600 with 1 Axes>"
            ],
            "image/png": "[encoded data removed]"
          },
          "metadata": {}
        }
      ]
    },
    {
      "cell_type": "code",
      "source": [
        "# df30plus"
      ],
      "metadata": {
        "id": "BUFqScjETgIb"
      },
      "id": "BUFqScjETgIb",
      "execution_count": 69,
      "outputs": []
    },
    {
      "cell_type": "code",
      "source": [
        "def wickettakers(batter):\n",
        "  d=[]\n",
        "  b=iplbb[iplbb['batter']==batter]\n",
        "  b.drop(b[b['isWicketDelivery'] == 0].index, inplace = True)\n",
        "  w=[]\n",
        "  for i in b.bowler:\n",
        "    d.append(i)\n",
        "  print(w)\n",
        "  bowl=set(list(d))\n",
        "  for i in bowl:\n",
        "    w.append(d.count(i))\n",
        "  df=pd.DataFrame(list(zip(bowl,w)),columns=['bowlers','no.of Wickets'])\n",
        "  h=df[df['no.of Wickets']>3]\n",
        "  fig, ax = plt.subplots(figsize=(14, 6))\n",
        "  plt.title(\"{} wicket takers\".format(batter))\n",
        "  sns.barplot(x=h.bowlers,y=h['no.of Wickets'],ax=ax)\n",
        "  ax.bar_label(ax.containers[0])"
      ],
      "metadata": {
        "id": "govUf2OxT8lP"
      },
      "id": "govUf2OxT8lP",
      "execution_count": 70,
      "outputs": []
    },
    {
      "cell_type": "code",
      "source": [
        "wickettakers(\"V Kohli\")"
      ],
      "metadata": {
        "colab": {
          "base_uri": "https://localhost:8080/",
          "height": 668
        },
        "id": "A_zOUCETea2A",
        "outputId": "c02af9f3-f978-41a0-c41e-fa641be49097"
      },
      "id": "A_zOUCETea2A",
      "execution_count": 71,
      "outputs": [
        {
          "output_type": "stream",
          "name": "stderr",
          "text": [
            "<ipython-input-70-b6b1d0b7914f>:4: SettingWithCopyWarning: \n",
            "A value is trying to be set on a copy of a slice from a DataFrame\n",
            "\n",
            "See the caveats in the documentation: https://pandas.pydata.org/pandas-docs/stable/user_guide/indexing.html#returning-a-view-versus-a-copy\n",
            "  b.drop(b[b['isWicketDelivery'] == 0].index, inplace = True)\n"
          ]
        },
        {
          "output_type": "stream",
          "name": "stdout",
          "text": [
            "[]\n"
          ]
        },
        {
          "output_type": "display_data",
          "data": {
            "text/plain": [
              "<Figure size 1400x600 with 1 Axes>"
            ],
            "image/png": "[encoded data removed]"
          },
          "metadata": {}
        }
      ]
    },
    {
      "cell_type": "code",
      "source": [
        "# matchresult.sample(1)"
      ],
      "metadata": {
        "id": "PqIlYT5fW6rt"
      },
      "id": "PqIlYT5fW6rt",
      "execution_count": 72,
      "outputs": []
    },
    {
      "cell_type": "code",
      "source": [
        "iplbb['BattingTeam'].unique()"
      ],
      "metadata": {
        "colab": {
          "base_uri": "https://localhost:8080/"
        },
        "id": "rVFlwld-HhnR",
        "outputId": "17db92bf-df51-4de6-fe1f-52b9b63eee57"
      },
      "id": "rVFlwld-HhnR",
      "execution_count": 73,
      "outputs": [
        {
          "output_type": "execute_result",
          "data": {
            "text/plain": [
              "array(['Rajasthan Royals', 'Gujarat Titans',\n",
              "       'Royal Challengers Bangalore', 'Lucknow Super Giants',\n",
              "       'Sunrisers Hyderabad', 'Punjab Kings', 'Delhi Capitals',\n",
              "       'Mumbai Indians', 'Chennai Super Kings', 'Kolkata Knight Riders',\n",
              "       'Kings XI Punjab', 'Delhi Daredevils', 'Rising Pune Supergiant',\n",
              "       'Gujarat Lions', 'Rising Pune Supergiants', 'Pune Warriors',\n",
              "       'Deccan Chargers', 'Kochi Tuskers Kerala'], dtype=object)"
            ]
          },
          "metadata": {},
          "execution_count": 73
        }
      ]
    },
    {
      "cell_type": "code",
      "source": [
        "not_present_team=['Rising Pune Supergiant',\n",
        "       'Gujarat Lions', 'Rising Pune Supergiants', 'Pune Warriors',\n",
        "       'Deccan Chargers', 'Kochi Tuskers Kerala','Gujarat Titans','Lucknow Super Giants']\n",
        "iplbb_pre=iplbb\n",
        "for team in not_present_team:\n",
        "  iplbb_pre.drop(iplbb[iplbb['BattingTeam']==team].index,inplace=True)"
      ],
      "metadata": {
        "id": "0FBxblDDKElg"
      },
      "id": "0FBxblDDKElg",
      "execution_count": 74,
      "outputs": []
    },
    {
      "cell_type": "code",
      "source": [
        "iplbb_pre['BattingTeam'].unique()"
      ],
      "metadata": {
        "colab": {
          "base_uri": "https://localhost:8080/"
        },
        "id": "ITJehac7KNHc",
        "outputId": "eeba5db0-bed8-41ee-9bc8-5d08230b169c"
      },
      "id": "ITJehac7KNHc",
      "execution_count": 75,
      "outputs": [
        {
          "output_type": "execute_result",
          "data": {
            "text/plain": [
              "array(['Rajasthan Royals', 'Royal Challengers Bangalore',\n",
              "       'Sunrisers Hyderabad', 'Punjab Kings', 'Delhi Capitals',\n",
              "       'Mumbai Indians', 'Chennai Super Kings', 'Kolkata Knight Riders',\n",
              "       'Kings XI Punjab', 'Delhi Daredevils'], dtype=object)"
            ]
          },
          "metadata": {},
          "execution_count": 75
        }
      ]
    },
    {
      "cell_type": "code",
      "source": [
        "iplbb_pre.replace('Delhi Daredevils','Delhi Capitals',inplace=True)\n",
        "iplbb_pre.replace('Kings XI Punjab','Punjab Kings',inplace=True)\n"
      ],
      "metadata": {
        "id": "1IUZ5hQyLVnn"
      },
      "id": "1IUZ5hQyLVnn",
      "execution_count": 76,
      "outputs": []
    },
    {
      "cell_type": "code",
      "source": [
        "iplbb_pre.BattingTeam.unique()"
      ],
      "metadata": {
        "colab": {
          "base_uri": "https://localhost:8080/"
        },
        "id": "xiHVvfhDNPx6",
        "outputId": "eceb0e65-1f68-4e41-bc81-d9e83a404b21"
      },
      "id": "xiHVvfhDNPx6",
      "execution_count": 77,
      "outputs": [
        {
          "output_type": "execute_result",
          "data": {
            "text/plain": [
              "array(['Rajasthan Royals', 'Royal Challengers Bangalore',\n",
              "       'Sunrisers Hyderabad', 'Punjab Kings', 'Delhi Capitals',\n",
              "       'Mumbai Indians', 'Chennai Super Kings', 'Kolkata Knight Riders'],\n",
              "      dtype=object)"
            ]
          },
          "metadata": {},
          "execution_count": 77
        }
      ]
    },
    {
      "cell_type": "code",
      "source": [
        "iplbb_pre.sample(5)"
      ],
      "metadata": {
        "colab": {
          "base_uri": "https://localhost:8080/",
          "height": 409
        },
        "id": "MdqcjVNhNnnr",
        "outputId": "46797a70-94d1-46ef-f3e4-b16124a68a1a"
      },
      "id": "MdqcjVNhNnnr",
      "execution_count": 78,
      "outputs": [
        {
          "output_type": "execute_result",
          "data": {
            "text/plain": [
              "             ID  innings  overs  ballnumber           batter     bowler  \\\n",
              "86790   1082601        1      3           4          M Vohra  CR Woakes   \n",
              "66465   1136599        2     18           1  C de Grandhomme     S Kaul   \n",
              "219252   336010        2      2           1    S Chanderpaul   AB Dinda   \n",
              "75486   1136561        2     18           4         DJ Bravo  JJ Bumrah   \n",
              "19435   1254111        1      7           6   LS Livingstone   IC Porel   \n",
              "\n",
              "          non-striker extra_type  batsman_run  extras_run  total_run  \\\n",
              "86790         HM Amla        NaN            0           0          0   \n",
              "66465   Mandeep Singh        NaN            1           0          1   \n",
              "219252    J Arunkumar      wides            0           1          1   \n",
              "75486     Imran Tahir        NaN            0           0          0   \n",
              "19435     YBK Jaiswal      wides            0           1          1   \n",
              "\n",
              "        non_boundary  isWicketDelivery player_out kind fielders_involved  \\\n",
              "86790              0                 0        NaN  NaN               NaN   \n",
              "66465              0                 0        NaN  NaN               NaN   \n",
              "219252             0                 0        NaN  NaN               NaN   \n",
              "75486              0                 0        NaN  NaN               NaN   \n",
              "19435              0                 0        NaN  NaN               NaN   \n",
              "\n",
              "                        BattingTeam  \n",
              "86790                  Punjab Kings  \n",
              "66465   Royal Challengers Bangalore  \n",
              "219252  Royal Challengers Bangalore  \n",
              "75486           Chennai Super Kings  \n",
              "19435              Rajasthan Royals  "
            ],
            "text/html": [
              "\n",
              "  <div id=\"df-930fada6-774b-4a72-805a-00489ab635f1\">\n",
              "    <div class=\"colab-df-container\">\n",
              "      <div>\n",
              "<style scoped>\n",
              "    .dataframe tbody tr th:only-of-type {\n",
              "        vertical-align: middle;\n",
              "    }\n",
              "\n",
              "    .dataframe tbody tr th {\n",
              "        vertical-align: top;\n",
              "    }\n",
              "\n",
              "    .dataframe thead th {\n",
              "        text-align: right;\n",
              "    }\n",
              "</style>\n",
              "<table border=\"1\" class=\"dataframe\">\n",
              "  <thead>\n",
              "    <tr style=\"text-align: right;\">\n",
              "      <th></th>\n",
              "      <th>ID</th>\n",
              "      <th>innings</th>\n",
              "      <th>overs</th>\n",
              "      <th>ballnumber</th>\n",
              "      <th>batter</th>\n",
              "      <th>bowler</th>\n",
              "      <th>non-striker</th>\n",
              "      <th>extra_type</th>\n",
              "      <th>batsman_run</th>\n",
              "      <th>extras_run</th>\n",
              "      <th>total_run</th>\n",
              "      <th>non_boundary</th>\n",
              "      <th>isWicketDelivery</th>\n",
              "      <th>player_out</th>\n",
              "      <th>kind</th>\n",
              "      <th>fielders_involved</th>\n",
              "      <th>BattingTeam</th>\n",
              "    </tr>\n",
              "  </thead>\n",
              "  <tbody>\n",
              "    <tr>\n",
              "      <th>86790</th>\n",
              "      <td>1082601</td>\n",
              "      <td>1</td>\n",
              "      <td>3</td>\n",
              "      <td>4</td>\n",
              "      <td>M Vohra</td>\n",
              "      <td>CR Woakes</td>\n",
              "      <td>HM Amla</td>\n",
              "      <td>NaN</td>\n",
              "      <td>0</td>\n",
              "      <td>0</td>\n",
              "      <td>0</td>\n",
              "      <td>0</td>\n",
              "      <td>0</td>\n",
              "      <td>NaN</td>\n",
              "      <td>NaN</td>\n",
              "      <td>NaN</td>\n",
              "      <td>Punjab Kings</td>\n",
              "    </tr>\n",
              "    <tr>\n",
              "      <th>66465</th>\n",
              "      <td>1136599</td>\n",
              "      <td>2</td>\n",
              "      <td>18</td>\n",
              "      <td>1</td>\n",
              "      <td>C de Grandhomme</td>\n",
              "      <td>S Kaul</td>\n",
              "      <td>Mandeep Singh</td>\n",
              "      <td>NaN</td>\n",
              "      <td>1</td>\n",
              "      <td>0</td>\n",
              "      <td>1</td>\n",
              "      <td>0</td>\n",
              "      <td>0</td>\n",
              "      <td>NaN</td>\n",
              "      <td>NaN</td>\n",
              "      <td>NaN</td>\n",
              "      <td>Royal Challengers Bangalore</td>\n",
              "    </tr>\n",
              "    <tr>\n",
              "      <th>219252</th>\n",
              "      <td>336010</td>\n",
              "      <td>2</td>\n",
              "      <td>2</td>\n",
              "      <td>1</td>\n",
              "      <td>S Chanderpaul</td>\n",
              "      <td>AB Dinda</td>\n",
              "      <td>J Arunkumar</td>\n",
              "      <td>wides</td>\n",
              "      <td>0</td>\n",
              "      <td>1</td>\n",
              "      <td>1</td>\n",
              "      <td>0</td>\n",
              "      <td>0</td>\n",
              "      <td>NaN</td>\n",
              "      <td>NaN</td>\n",
              "      <td>NaN</td>\n",
              "      <td>Royal Challengers Bangalore</td>\n",
              "    </tr>\n",
              "    <tr>\n",
              "      <th>75486</th>\n",
              "      <td>1136561</td>\n",
              "      <td>2</td>\n",
              "      <td>18</td>\n",
              "      <td>4</td>\n",
              "      <td>DJ Bravo</td>\n",
              "      <td>JJ Bumrah</td>\n",
              "      <td>Imran Tahir</td>\n",
              "      <td>NaN</td>\n",
              "      <td>0</td>\n",
              "      <td>0</td>\n",
              "      <td>0</td>\n",
              "      <td>0</td>\n",
              "      <td>0</td>\n",
              "      <td>NaN</td>\n",
              "      <td>NaN</td>\n",
              "      <td>NaN</td>\n",
              "      <td>Chennai Super Kings</td>\n",
              "    </tr>\n",
              "    <tr>\n",
              "      <th>19435</th>\n",
              "      <td>1254111</td>\n",
              "      <td>1</td>\n",
              "      <td>7</td>\n",
              "      <td>6</td>\n",
              "      <td>LS Livingstone</td>\n",
              "      <td>IC Porel</td>\n",
              "      <td>YBK Jaiswal</td>\n",
              "      <td>wides</td>\n",
              "      <td>0</td>\n",
              "      <td>1</td>\n",
              "      <td>1</td>\n",
              "      <td>0</td>\n",
              "      <td>0</td>\n",
              "      <td>NaN</td>\n",
              "      <td>NaN</td>\n",
              "      <td>NaN</td>\n",
              "      <td>Rajasthan Royals</td>\n",
              "    </tr>\n",
              "  </tbody>\n",
              "</table>\n",
              "</div>\n",
              "      <button class=\"colab-df-convert\" onclick=\"convertToInteractive('df-930fada6-774b-4a72-805a-00489ab635f1')\"\n",
              "              title=\"Convert this dataframe to an interactive table.\"\n",
              "              style=\"display:none;\">\n",
              "        \n",
              "  <svg xmlns=\"http://www.w3.org/2000/svg\" height=\"24px\"viewBox=\"0 0 24 24\"\n",
              "       width=\"24px\">\n",
              "    <path d=\"M0 0h24v24H0V0z\" fill=\"none\"/>\n",
              "    <path d=\"M18.56 5.44l.94 2.06.94-2.06 2.06-.94-2.06-.94-.94-2.06-.94 2.06-2.06.94zm-11 1L8.5 8.5l.94-2.06 2.06-.94-2.06-.94L8.5 2.5l-.94 2.06-2.06.94zm10 10l.94 2.06.94-2.06 2.06-.94-2.06-.94-.94-2.06-.94 2.06-2.06.94z\"/><path d=\"M17.41 7.96l-1.37-1.37c-.4-.4-.92-.59-1.43-.59-.52 0-1.04.2-1.43.59L10.3 9.45l-7.72 7.72c-.78.78-.78 2.05 0 2.83L4 21.41c.39.39.9.59 1.41.59.51 0 1.02-.2 1.41-.59l7.78-7.78 2.81-2.81c.8-.78.8-2.07 0-2.86zM5.41 20L4 18.59l7.72-7.72 1.47 1.35L5.41 20z\"/>\n",
              "  </svg>\n",
              "      </button>\n",
              "      \n",
              "  <style>\n",
              "    .colab-df-container {\n",
              "      display:flex;\n",
              "      flex-wrap:wrap;\n",
              "      gap: 12px;\n",
              "    }\n",
              "\n",
              "    .colab-df-convert {\n",
              "      background-color: #E8F0FE;\n",
              "      border: none;\n",
              "      border-radius: 50%;\n",
              "      cursor: pointer;\n",
              "      display: none;\n",
              "      fill: #1967D2;\n",
              "      height: 32px;\n",
              "      padding: 0 0 0 0;\n",
              "      width: 32px;\n",
              "    }\n",
              "\n",
              "    .colab-df-convert:hover {\n",
              "      background-color: #E2EBFA;\n",
              "      box-shadow: 0px 1px 2px rgba(60, 64, 67, 0.3), 0px 1px 3px 1px rgba(60, 64, 67, 0.15);\n",
              "      fill: #174EA6;\n",
              "    }\n",
              "\n",
              "    [theme=dark] .colab-df-convert {\n",
              "      background-color: #3B4455;\n",
              "      fill: #D2E3FC;\n",
              "    }\n",
              "\n",
              "    [theme=dark] .colab-df-convert:hover {\n",
              "      background-color: #434B5C;\n",
              "      box-shadow: 0px 1px 3px 1px rgba(0, 0, 0, 0.15);\n",
              "      filter: drop-shadow(0px 1px 2px rgba(0, 0, 0, 0.3));\n",
              "      fill: #FFFFFF;\n",
              "    }\n",
              "  </style>\n",
              "\n",
              "      <script>\n",
              "        const buttonEl =\n",
              "          document.querySelector('#df-930fada6-774b-4a72-805a-00489ab635f1 button.colab-df-convert');\n",
              "        buttonEl.style.display =\n",
              "          google.colab.kernel.accessAllowed ? 'block' : 'none';\n",
              "\n",
              "        async function convertToInteractive(key) {\n",
              "          const element = document.querySelector('#df-930fada6-774b-4a72-805a-00489ab635f1');\n",
              "          const dataTable =\n",
              "            await google.colab.kernel.invokeFunction('convertToInteractive',\n",
              "                                                     [key], {});\n",
              "          if (!dataTable) return;\n",
              "\n",
              "          const docLinkHtml = 'Like what you see? Visit the ' +\n",
              "            '<a target=\"_blank\" href=https://colab.research.google.com/notebooks/data_table.ipynb>data table notebook</a>'\n",
              "            + ' to learn more about interactive tables.';\n",
              "          element.innerHTML = '';\n",
              "          dataTable['output_type'] = 'display_data';\n",
              "          await google.colab.output.renderOutput(dataTable, element);\n",
              "          const docLink = document.createElement('div');\n",
              "          docLink.innerHTML = docLinkHtml;\n",
              "          element.appendChild(docLink);\n",
              "        }\n",
              "      </script>\n",
              "    </div>\n",
              "  </div>\n",
              "  "
            ]
          },
          "metadata": {},
          "execution_count": 78
        }
      ]
    },
    {
      "cell_type": "code",
      "source": [
        "droped_col=[\"batter\",\"bowler\",\"non-striker\",\"extra_type\",\"batsman_run\",\"extras_run\",\n",
        "            \"non_boundary\",\"isWicketDelivery\",\"player_out\",\"kind\",\"fielders_involved\",\"BattingTeam\"]\n",
        "# for col in droped_col:\n",
        "iplbb_pre.drop(droped_col,inplace=True,axis=1)"
      ],
      "metadata": {
        "id": "a-XKXXmrhbaq"
      },
      "id": "a-XKXXmrhbaq",
      "execution_count": 79,
      "outputs": []
    },
    {
      "cell_type": "code",
      "source": [
        "iplbb_pre.sample(10)"
      ],
      "metadata": {
        "colab": {
          "base_uri": "https://localhost:8080/",
          "height": 363
        },
        "id": "ofHwvKYBQ2mA",
        "outputId": "774d7e1f-f0ff-4413-dfbf-02d3dbcc097a"
      },
      "id": "ofHwvKYBQ2mA",
      "execution_count": 80,
      "outputs": [
        {
          "output_type": "execute_result",
          "data": {
            "text/plain": [
              "             ID  innings  overs  ballnumber  total_run\n",
              "149149   597999        1      8           4          4\n",
              "116030   829713        2      5           2          6\n",
              "127745   729309        1     17           7          0\n",
              "92143    980995        1      0           3          0\n",
              "164534   548318        2     14           5          0\n",
              "74494   1136565        2     12           5          1\n",
              "84930   1082609        2      1           5          0\n",
              "201958   392227        2      6           6          1\n",
              "211435   392186        2      3           2          1\n",
              "199160   392238        1      9           1          1"
            ],
            "text/html": [
              "\n",
              "  <div id=\"df-11200ab8-bc32-4832-a3f2-8af1dd2827f7\">\n",
              "    <div class=\"colab-df-container\">\n",
              "      <div>\n",
              "<style scoped>\n",
              "    .dataframe tbody tr th:only-of-type {\n",
              "        vertical-align: middle;\n",
              "    }\n",
              "\n",
              "    .dataframe tbody tr th {\n",
              "        vertical-align: top;\n",
              "    }\n",
              "\n",
              "    .dataframe thead th {\n",
              "        text-align: right;\n",
              "    }\n",
              "</style>\n",
              "<table border=\"1\" class=\"dataframe\">\n",
              "  <thead>\n",
              "    <tr style=\"text-align: right;\">\n",
              "      <th></th>\n",
              "      <th>ID</th>\n",
              "      <th>innings</th>\n",
              "      <th>overs</th>\n",
              "      <th>ballnumber</th>\n",
              "      <th>total_run</th>\n",
              "    </tr>\n",
              "  </thead>\n",
              "  <tbody>\n",
              "    <tr>\n",
              "      <th>149149</th>\n",
              "      <td>597999</td>\n",
              "      <td>1</td>\n",
              "      <td>8</td>\n",
              "      <td>4</td>\n",
              "      <td>4</td>\n",
              "    </tr>\n",
              "    <tr>\n",
              "      <th>116030</th>\n",
              "      <td>829713</td>\n",
              "      <td>2</td>\n",
              "      <td>5</td>\n",
              "      <td>2</td>\n",
              "      <td>6</td>\n",
              "    </tr>\n",
              "    <tr>\n",
              "      <th>127745</th>\n",
              "      <td>729309</td>\n",
              "      <td>1</td>\n",
              "      <td>17</td>\n",
              "      <td>7</td>\n",
              "      <td>0</td>\n",
              "    </tr>\n",
              "    <tr>\n",
              "      <th>92143</th>\n",
              "      <td>980995</td>\n",
              "      <td>1</td>\n",
              "      <td>0</td>\n",
              "      <td>3</td>\n",
              "      <td>0</td>\n",
              "    </tr>\n",
              "    <tr>\n",
              "      <th>164534</th>\n",
              "      <td>548318</td>\n",
              "      <td>2</td>\n",
              "      <td>14</td>\n",
              "      <td>5</td>\n",
              "      <td>0</td>\n",
              "    </tr>\n",
              "    <tr>\n",
              "      <th>74494</th>\n",
              "      <td>1136565</td>\n",
              "      <td>2</td>\n",
              "      <td>12</td>\n",
              "      <td>5</td>\n",
              "      <td>1</td>\n",
              "    </tr>\n",
              "    <tr>\n",
              "      <th>84930</th>\n",
              "      <td>1082609</td>\n",
              "      <td>2</td>\n",
              "      <td>1</td>\n",
              "      <td>5</td>\n",
              "      <td>0</td>\n",
              "    </tr>\n",
              "    <tr>\n",
              "      <th>201958</th>\n",
              "      <td>392227</td>\n",
              "      <td>2</td>\n",
              "      <td>6</td>\n",
              "      <td>6</td>\n",
              "      <td>1</td>\n",
              "    </tr>\n",
              "    <tr>\n",
              "      <th>211435</th>\n",
              "      <td>392186</td>\n",
              "      <td>2</td>\n",
              "      <td>3</td>\n",
              "      <td>2</td>\n",
              "      <td>1</td>\n",
              "    </tr>\n",
              "    <tr>\n",
              "      <th>199160</th>\n",
              "      <td>392238</td>\n",
              "      <td>1</td>\n",
              "      <td>9</td>\n",
              "      <td>1</td>\n",
              "      <td>1</td>\n",
              "    </tr>\n",
              "  </tbody>\n",
              "</table>\n",
              "</div>\n",
              "      <button class=\"colab-df-convert\" onclick=\"convertToInteractive('df-11200ab8-bc32-4832-a3f2-8af1dd2827f7')\"\n",
              "              title=\"Convert this dataframe to an interactive table.\"\n",
              "              style=\"display:none;\">\n",
              "        \n",
              "  <svg xmlns=\"http://www.w3.org/2000/svg\" height=\"24px\"viewBox=\"0 0 24 24\"\n",
              "       width=\"24px\">\n",
              "    <path d=\"M0 0h24v24H0V0z\" fill=\"none\"/>\n",
              "    <path d=\"M18.56 5.44l.94 2.06.94-2.06 2.06-.94-2.06-.94-.94-2.06-.94 2.06-2.06.94zm-11 1L8.5 8.5l.94-2.06 2.06-.94-2.06-.94L8.5 2.5l-.94 2.06-2.06.94zm10 10l.94 2.06.94-2.06 2.06-.94-2.06-.94-.94-2.06-.94 2.06-2.06.94z\"/><path d=\"M17.41 7.96l-1.37-1.37c-.4-.4-.92-.59-1.43-.59-.52 0-1.04.2-1.43.59L10.3 9.45l-7.72 7.72c-.78.78-.78 2.05 0 2.83L4 21.41c.39.39.9.59 1.41.59.51 0 1.02-.2 1.41-.59l7.78-7.78 2.81-2.81c.8-.78.8-2.07 0-2.86zM5.41 20L4 18.59l7.72-7.72 1.47 1.35L5.41 20z\"/>\n",
              "  </svg>\n",
              "      </button>\n",
              "      \n",
              "  <style>\n",
              "    .colab-df-container {\n",
              "      display:flex;\n",
              "      flex-wrap:wrap;\n",
              "      gap: 12px;\n",
              "    }\n",
              "\n",
              "    .colab-df-convert {\n",
              "      background-color: #E8F0FE;\n",
              "      border: none;\n",
              "      border-radius: 50%;\n",
              "      cursor: pointer;\n",
              "      display: none;\n",
              "      fill: #1967D2;\n",
              "      height: 32px;\n",
              "      padding: 0 0 0 0;\n",
              "      width: 32px;\n",
              "    }\n",
              "\n",
              "    .colab-df-convert:hover {\n",
              "      background-color: #E2EBFA;\n",
              "      box-shadow: 0px 1px 2px rgba(60, 64, 67, 0.3), 0px 1px 3px 1px rgba(60, 64, 67, 0.15);\n",
              "      fill: #174EA6;\n",
              "    }\n",
              "\n",
              "    [theme=dark] .colab-df-convert {\n",
              "      background-color: #3B4455;\n",
              "      fill: #D2E3FC;\n",
              "    }\n",
              "\n",
              "    [theme=dark] .colab-df-convert:hover {\n",
              "      background-color: #434B5C;\n",
              "      box-shadow: 0px 1px 3px 1px rgba(0, 0, 0, 0.15);\n",
              "      filter: drop-shadow(0px 1px 2px rgba(0, 0, 0, 0.3));\n",
              "      fill: #FFFFFF;\n",
              "    }\n",
              "  </style>\n",
              "\n",
              "      <script>\n",
              "        const buttonEl =\n",
              "          document.querySelector('#df-11200ab8-bc32-4832-a3f2-8af1dd2827f7 button.colab-df-convert');\n",
              "        buttonEl.style.display =\n",
              "          google.colab.kernel.accessAllowed ? 'block' : 'none';\n",
              "\n",
              "        async function convertToInteractive(key) {\n",
              "          const element = document.querySelector('#df-11200ab8-bc32-4832-a3f2-8af1dd2827f7');\n",
              "          const dataTable =\n",
              "            await google.colab.kernel.invokeFunction('convertToInteractive',\n",
              "                                                     [key], {});\n",
              "          if (!dataTable) return;\n",
              "\n",
              "          const docLinkHtml = 'Like what you see? Visit the ' +\n",
              "            '<a target=\"_blank\" href=https://colab.research.google.com/notebooks/data_table.ipynb>data table notebook</a>'\n",
              "            + ' to learn more about interactive tables.';\n",
              "          element.innerHTML = '';\n",
              "          dataTable['output_type'] = 'display_data';\n",
              "          await google.colab.output.renderOutput(dataTable, element);\n",
              "          const docLink = document.createElement('div');\n",
              "          docLink.innerHTML = docLinkHtml;\n",
              "          element.appendChild(docLink);\n",
              "        }\n",
              "      </script>\n",
              "    </div>\n",
              "  </div>\n",
              "  "
            ]
          },
          "metadata": {},
          "execution_count": 80
        }
      ]
    },
    {
      "cell_type": "code",
      "source": [
        "iplbb_pre=iplbb_pre[iplbb_pre.overs<=6]\n",
        "iplbb_pre1=iplbb_pre.groupby(iplbb_pre.ID)[\"total_run\"].sum().reset_index()"
      ],
      "metadata": {
        "id": "4UTe9yV4RDgK"
      },
      "id": "4UTe9yV4RDgK",
      "execution_count": 81,
      "outputs": []
    },
    {
      "cell_type": "code",
      "source": [
        "iplbb_pre1.total_run/=2\n",
        "iplbb_pre1.rename(columns = {'total_run':'innings_avg_score'}, inplace = True)"
      ],
      "metadata": {
        "id": "iZ9qnEXpLZpz"
      },
      "id": "iZ9qnEXpLZpz",
      "execution_count": 82,
      "outputs": []
    },
    {
      "cell_type": "code",
      "source": [
        "iplbb_pre1"
      ],
      "metadata": {
        "id": "j2olqvXnMh36",
        "colab": {
          "base_uri": "https://localhost:8080/",
          "height": 424
        },
        "outputId": "9541cc70-d22c-4317-d911-82ad2eef487f"
      },
      "id": "j2olqvXnMh36",
      "execution_count": 83,
      "outputs": [
        {
          "output_type": "execute_result",
          "data": {
            "text/plain": [
              "          ID  innings_avg_score\n",
              "0     335982               50.5\n",
              "1     335983               65.5\n",
              "2     335984               51.5\n",
              "3     335985               50.0\n",
              "4     335986               16.5\n",
              "..       ...                ...\n",
              "933  1304116               60.0\n",
              "934  1312197               30.5\n",
              "935  1312198               30.0\n",
              "936  1312199               64.5\n",
              "937  1312200               27.0\n",
              "\n",
              "[938 rows x 2 columns]"
            ],
            "text/html": [
              "\n",
              "  <div id=\"df-d837bdc4-47cf-45c0-8420-19c41a598650\">\n",
              "    <div class=\"colab-df-container\">\n",
              "      <div>\n",
              "<style scoped>\n",
              "    .dataframe tbody tr th:only-of-type {\n",
              "        vertical-align: middle;\n",
              "    }\n",
              "\n",
              "    .dataframe tbody tr th {\n",
              "        vertical-align: top;\n",
              "    }\n",
              "\n",
              "    .dataframe thead th {\n",
              "        text-align: right;\n",
              "    }\n",
              "</style>\n",
              "<table border=\"1\" class=\"dataframe\">\n",
              "  <thead>\n",
              "    <tr style=\"text-align: right;\">\n",
              "      <th></th>\n",
              "      <th>ID</th>\n",
              "      <th>innings_avg_score</th>\n",
              "    </tr>\n",
              "  </thead>\n",
              "  <tbody>\n",
              "    <tr>\n",
              "      <th>0</th>\n",
              "      <td>335982</td>\n",
              "      <td>50.5</td>\n",
              "    </tr>\n",
              "    <tr>\n",
              "      <th>1</th>\n",
              "      <td>335983</td>\n",
              "      <td>65.5</td>\n",
              "    </tr>\n",
              "    <tr>\n",
              "      <th>2</th>\n",
              "      <td>335984</td>\n",
              "      <td>51.5</td>\n",
              "    </tr>\n",
              "    <tr>\n",
              "      <th>3</th>\n",
              "      <td>335985</td>\n",
              "      <td>50.0</td>\n",
              "    </tr>\n",
              "    <tr>\n",
              "      <th>4</th>\n",
              "      <td>335986</td>\n",
              "      <td>16.5</td>\n",
              "    </tr>\n",
              "    <tr>\n",
              "      <th>...</th>\n",
              "      <td>...</td>\n",
              "      <td>...</td>\n",
              "    </tr>\n",
              "    <tr>\n",
              "      <th>933</th>\n",
              "      <td>1304116</td>\n",
              "      <td>60.0</td>\n",
              "    </tr>\n",
              "    <tr>\n",
              "      <th>934</th>\n",
              "      <td>1312197</td>\n",
              "      <td>30.5</td>\n",
              "    </tr>\n",
              "    <tr>\n",
              "      <th>935</th>\n",
              "      <td>1312198</td>\n",
              "      <td>30.0</td>\n",
              "    </tr>\n",
              "    <tr>\n",
              "      <th>936</th>\n",
              "      <td>1312199</td>\n",
              "      <td>64.5</td>\n",
              "    </tr>\n",
              "    <tr>\n",
              "      <th>937</th>\n",
              "      <td>1312200</td>\n",
              "      <td>27.0</td>\n",
              "    </tr>\n",
              "  </tbody>\n",
              "</table>\n",
              "<p>938 rows × 2 columns</p>\n",
              "</div>\n",
              "      <button class=\"colab-df-convert\" onclick=\"convertToInteractive('df-d837bdc4-47cf-45c0-8420-19c41a598650')\"\n",
              "              title=\"Convert this dataframe to an interactive table.\"\n",
              "              style=\"display:none;\">\n",
              "        \n",
              "  <svg xmlns=\"http://www.w3.org/2000/svg\" height=\"24px\"viewBox=\"0 0 24 24\"\n",
              "       width=\"24px\">\n",
              "    <path d=\"M0 0h24v24H0V0z\" fill=\"none\"/>\n",
              "    <path d=\"M18.56 5.44l.94 2.06.94-2.06 2.06-.94-2.06-.94-.94-2.06-.94 2.06-2.06.94zm-11 1L8.5 8.5l.94-2.06 2.06-.94-2.06-.94L8.5 2.5l-.94 2.06-2.06.94zm10 10l.94 2.06.94-2.06 2.06-.94-2.06-.94-.94-2.06-.94 2.06-2.06.94z\"/><path d=\"M17.41 7.96l-1.37-1.37c-.4-.4-.92-.59-1.43-.59-.52 0-1.04.2-1.43.59L10.3 9.45l-7.72 7.72c-.78.78-.78 2.05 0 2.83L4 21.41c.39.39.9.59 1.41.59.51 0 1.02-.2 1.41-.59l7.78-7.78 2.81-2.81c.8-.78.8-2.07 0-2.86zM5.41 20L4 18.59l7.72-7.72 1.47 1.35L5.41 20z\"/>\n",
              "  </svg>\n",
              "      </button>\n",
              "      \n",
              "  <style>\n",
              "    .colab-df-container {\n",
              "      display:flex;\n",
              "      flex-wrap:wrap;\n",
              "      gap: 12px;\n",
              "    }\n",
              "\n",
              "    .colab-df-convert {\n",
              "      background-color: #E8F0FE;\n",
              "      border: none;\n",
              "      border-radius: 50%;\n",
              "      cursor: pointer;\n",
              "      display: none;\n",
              "      fill: #1967D2;\n",
              "      height: 32px;\n",
              "      padding: 0 0 0 0;\n",
              "      width: 32px;\n",
              "    }\n",
              "\n",
              "    .colab-df-convert:hover {\n",
              "      background-color: #E2EBFA;\n",
              "      box-shadow: 0px 1px 2px rgba(60, 64, 67, 0.3), 0px 1px 3px 1px rgba(60, 64, 67, 0.15);\n",
              "      fill: #174EA6;\n",
              "    }\n",
              "\n",
              "    [theme=dark] .colab-df-convert {\n",
              "      background-color: #3B4455;\n",
              "      fill: #D2E3FC;\n",
              "    }\n",
              "\n",
              "    [theme=dark] .colab-df-convert:hover {\n",
              "      background-color: #434B5C;\n",
              "      box-shadow: 0px 1px 3px 1px rgba(0, 0, 0, 0.15);\n",
              "      filter: drop-shadow(0px 1px 2px rgba(0, 0, 0, 0.3));\n",
              "      fill: #FFFFFF;\n",
              "    }\n",
              "  </style>\n",
              "\n",
              "      <script>\n",
              "        const buttonEl =\n",
              "          document.querySelector('#df-d837bdc4-47cf-45c0-8420-19c41a598650 button.colab-df-convert');\n",
              "        buttonEl.style.display =\n",
              "          google.colab.kernel.accessAllowed ? 'block' : 'none';\n",
              "\n",
              "        async function convertToInteractive(key) {\n",
              "          const element = document.querySelector('#df-d837bdc4-47cf-45c0-8420-19c41a598650');\n",
              "          const dataTable =\n",
              "            await google.colab.kernel.invokeFunction('convertToInteractive',\n",
              "                                                     [key], {});\n",
              "          if (!dataTable) return;\n",
              "\n",
              "          const docLinkHtml = 'Like what you see? Visit the ' +\n",
              "            '<a target=\"_blank\" href=https://colab.research.google.com/notebooks/data_table.ipynb>data table notebook</a>'\n",
              "            + ' to learn more about interactive tables.';\n",
              "          element.innerHTML = '';\n",
              "          dataTable['output_type'] = 'display_data';\n",
              "          await google.colab.output.renderOutput(dataTable, element);\n",
              "          const docLink = document.createElement('div');\n",
              "          docLink.innerHTML = docLinkHtml;\n",
              "          element.appendChild(docLink);\n",
              "        }\n",
              "      </script>\n",
              "    </div>\n",
              "  </div>\n",
              "  "
            ]
          },
          "metadata": {},
          "execution_count": 83
        }
      ]
    },
    {
      "cell_type": "code",
      "source": [
        "matchresult=pd.read_csv(\"/content/drive/MyDrive/IPL_Matches_Result_2008_2022.csv\")\n",
        "matchresult.head()"
      ],
      "metadata": {
        "id": "_pWV9oFE0OFq",
        "colab": {
          "base_uri": "https://localhost:8080/",
          "height": 565
        },
        "outputId": "8489f98d-17bd-4077-915d-6161fa469f93"
      },
      "id": "_pWV9oFE0OFq",
      "execution_count": 84,
      "outputs": [
        {
          "output_type": "execute_result",
          "data": {
            "text/plain": [
              "        ID       City        Date Season  MatchNumber  \\\n",
              "0  1312200  Ahmedabad  2022-05-29   2022        Final   \n",
              "1  1312199  Ahmedabad  2022-05-27   2022  Qualifier 2   \n",
              "2  1312198    Kolkata  2022-05-25   2022   Eliminator   \n",
              "3  1312197    Kolkata  2022-05-24   2022  Qualifier 1   \n",
              "4  1304116     Mumbai  2022-05-22   2022           70   \n",
              "\n",
              "                         Team1                 Team2  \\\n",
              "0             Rajasthan Royals        Gujarat Titans   \n",
              "1  Royal Challengers Bangalore      Rajasthan Royals   \n",
              "2  Royal Challengers Bangalore  Lucknow Super Giants   \n",
              "3             Rajasthan Royals        Gujarat Titans   \n",
              "4          Sunrisers Hyderabad          Punjab Kings   \n",
              "\n",
              "                              Venue            TossWinner TossDecision  \\\n",
              "0  Narendra Modi Stadium, Ahmedabad      Rajasthan Royals          bat   \n",
              "1  Narendra Modi Stadium, Ahmedabad      Rajasthan Royals        field   \n",
              "2             Eden Gardens, Kolkata  Lucknow Super Giants        field   \n",
              "3             Eden Gardens, Kolkata        Gujarat Titans        field   \n",
              "4          Wankhede Stadium, Mumbai   Sunrisers Hyderabad          bat   \n",
              "\n",
              "  SuperOver                  WinningTeam    WonBy  Margin method  \\\n",
              "0         N               Gujarat Titans  Wickets     7.0    NaN   \n",
              "1         N             Rajasthan Royals  Wickets     7.0    NaN   \n",
              "2         N  Royal Challengers Bangalore     Runs    14.0    NaN   \n",
              "3         N               Gujarat Titans  Wickets     7.0    NaN   \n",
              "4         N                 Punjab Kings  Wickets     5.0    NaN   \n",
              "\n",
              "  Player_of_Match                                       Team1Players  \\\n",
              "0       HH Pandya  ['YBK Jaiswal', 'JC Buttler', 'SV Samson', 'D ...   \n",
              "1      JC Buttler  ['V Kohli', 'F du Plessis', 'RM Patidar', 'GJ ...   \n",
              "2      RM Patidar  ['V Kohli', 'F du Plessis', 'RM Patidar', 'GJ ...   \n",
              "3       DA Miller  ['YBK Jaiswal', 'JC Buttler', 'SV Samson', 'D ...   \n",
              "4   Harpreet Brar  ['PK Garg', 'Abhishek Sharma', 'RA Tripathi', ...   \n",
              "\n",
              "                                        Team2Players        Umpire1  \\\n",
              "0  ['WP Saha', 'Shubman Gill', 'MS Wade', 'HH Pan...    CB Gaffaney   \n",
              "1  ['YBK Jaiswal', 'JC Buttler', 'SV Samson', 'D ...    CB Gaffaney   \n",
              "2  ['Q de Kock', 'KL Rahul', 'M Vohra', 'DJ Hooda...  J Madanagopal   \n",
              "3  ['WP Saha', 'Shubman Gill', 'MS Wade', 'HH Pan...   BNJ Oxenford   \n",
              "4  ['JM Bairstow', 'S Dhawan', 'M Shahrukh Khan',...   AK Chaudhary   \n",
              "\n",
              "         Umpire2  \n",
              "0    Nitin Menon  \n",
              "1    Nitin Menon  \n",
              "2       MA Gough  \n",
              "3      VK Sharma  \n",
              "4  NA Patwardhan  "
            ],
            "text/html": [
              "\n",
              "  <div id=\"df-de48922d-79ad-4959-9d8f-70d675d26572\">\n",
              "    <div class=\"colab-df-container\">\n",
              "      <div>\n",
              "<style scoped>\n",
              "    .dataframe tbody tr th:only-of-type {\n",
              "        vertical-align: middle;\n",
              "    }\n",
              "\n",
              "    .dataframe tbody tr th {\n",
              "        vertical-align: top;\n",
              "    }\n",
              "\n",
              "    .dataframe thead th {\n",
              "        text-align: right;\n",
              "    }\n",
              "</style>\n",
              "<table border=\"1\" class=\"dataframe\">\n",
              "  <thead>\n",
              "    <tr style=\"text-align: right;\">\n",
              "      <th></th>\n",
              "      <th>ID</th>\n",
              "      <th>City</th>\n",
              "      <th>Date</th>\n",
              "      <th>Season</th>\n",
              "      <th>MatchNumber</th>\n",
              "      <th>Team1</th>\n",
              "      <th>Team2</th>\n",
              "      <th>Venue</th>\n",
              "      <th>TossWinner</th>\n",
              "      <th>TossDecision</th>\n",
              "      <th>SuperOver</th>\n",
              "      <th>WinningTeam</th>\n",
              "      <th>WonBy</th>\n",
              "      <th>Margin</th>\n",
              "      <th>method</th>\n",
              "      <th>Player_of_Match</th>\n",
              "      <th>Team1Players</th>\n",
              "      <th>Team2Players</th>\n",
              "      <th>Umpire1</th>\n",
              "      <th>Umpire2</th>\n",
              "    </tr>\n",
              "  </thead>\n",
              "  <tbody>\n",
              "    <tr>\n",
              "      <th>0</th>\n",
              "      <td>1312200</td>\n",
              "      <td>Ahmedabad</td>\n",
              "      <td>2022-05-29</td>\n",
              "      <td>2022</td>\n",
              "      <td>Final</td>\n",
              "      <td>Rajasthan Royals</td>\n",
              "      <td>Gujarat Titans</td>\n",
              "      <td>Narendra Modi Stadium, Ahmedabad</td>\n",
              "      <td>Rajasthan Royals</td>\n",
              "      <td>bat</td>\n",
              "      <td>N</td>\n",
              "      <td>Gujarat Titans</td>\n",
              "      <td>Wickets</td>\n",
              "      <td>7.0</td>\n",
              "      <td>NaN</td>\n",
              "      <td>HH Pandya</td>\n",
              "      <td>['YBK Jaiswal', 'JC Buttler', 'SV Samson', 'D ...</td>\n",
              "      <td>['WP Saha', 'Shubman Gill', 'MS Wade', 'HH Pan...</td>\n",
              "      <td>CB Gaffaney</td>\n",
              "      <td>Nitin Menon</td>\n",
              "    </tr>\n",
              "    <tr>\n",
              "      <th>1</th>\n",
              "      <td>1312199</td>\n",
              "      <td>Ahmedabad</td>\n",
              "      <td>2022-05-27</td>\n",
              "      <td>2022</td>\n",
              "      <td>Qualifier 2</td>\n",
              "      <td>Royal Challengers Bangalore</td>\n",
              "      <td>Rajasthan Royals</td>\n",
              "      <td>Narendra Modi Stadium, Ahmedabad</td>\n",
              "      <td>Rajasthan Royals</td>\n",
              "      <td>field</td>\n",
              "      <td>N</td>\n",
              "      <td>Rajasthan Royals</td>\n",
              "      <td>Wickets</td>\n",
              "      <td>7.0</td>\n",
              "      <td>NaN</td>\n",
              "      <td>JC Buttler</td>\n",
              "      <td>['V Kohli', 'F du Plessis', 'RM Patidar', 'GJ ...</td>\n",
              "      <td>['YBK Jaiswal', 'JC Buttler', 'SV Samson', 'D ...</td>\n",
              "      <td>CB Gaffaney</td>\n",
              "      <td>Nitin Menon</td>\n",
              "    </tr>\n",
              "    <tr>\n",
              "      <th>2</th>\n",
              "      <td>1312198</td>\n",
              "      <td>Kolkata</td>\n",
              "      <td>2022-05-25</td>\n",
              "      <td>2022</td>\n",
              "      <td>Eliminator</td>\n",
              "      <td>Royal Challengers Bangalore</td>\n",
              "      <td>Lucknow Super Giants</td>\n",
              "      <td>Eden Gardens, Kolkata</td>\n",
              "      <td>Lucknow Super Giants</td>\n",
              "      <td>field</td>\n",
              "      <td>N</td>\n",
              "      <td>Royal Challengers Bangalore</td>\n",
              "      <td>Runs</td>\n",
              "      <td>14.0</td>\n",
              "      <td>NaN</td>\n",
              "      <td>RM Patidar</td>\n",
              "      <td>['V Kohli', 'F du Plessis', 'RM Patidar', 'GJ ...</td>\n",
              "      <td>['Q de Kock', 'KL Rahul', 'M Vohra', 'DJ Hooda...</td>\n",
              "      <td>J Madanagopal</td>\n",
              "      <td>MA Gough</td>\n",
              "    </tr>\n",
              "    <tr>\n",
              "      <th>3</th>\n",
              "      <td>1312197</td>\n",
              "      <td>Kolkata</td>\n",
              "      <td>2022-05-24</td>\n",
              "      <td>2022</td>\n",
              "      <td>Qualifier 1</td>\n",
              "      <td>Rajasthan Royals</td>\n",
              "      <td>Gujarat Titans</td>\n",
              "      <td>Eden Gardens, Kolkata</td>\n",
              "      <td>Gujarat Titans</td>\n",
              "      <td>field</td>\n",
              "      <td>N</td>\n",
              "      <td>Gujarat Titans</td>\n",
              "      <td>Wickets</td>\n",
              "      <td>7.0</td>\n",
              "      <td>NaN</td>\n",
              "      <td>DA Miller</td>\n",
              "      <td>['YBK Jaiswal', 'JC Buttler', 'SV Samson', 'D ...</td>\n",
              "      <td>['WP Saha', 'Shubman Gill', 'MS Wade', 'HH Pan...</td>\n",
              "      <td>BNJ Oxenford</td>\n",
              "      <td>VK Sharma</td>\n",
              "    </tr>\n",
              "    <tr>\n",
              "      <th>4</th>\n",
              "      <td>1304116</td>\n",
              "      <td>Mumbai</td>\n",
              "      <td>2022-05-22</td>\n",
              "      <td>2022</td>\n",
              "      <td>70</td>\n",
              "      <td>Sunrisers Hyderabad</td>\n",
              "      <td>Punjab Kings</td>\n",
              "      <td>Wankhede Stadium, Mumbai</td>\n",
              "      <td>Sunrisers Hyderabad</td>\n",
              "      <td>bat</td>\n",
              "      <td>N</td>\n",
              "      <td>Punjab Kings</td>\n",
              "      <td>Wickets</td>\n",
              "      <td>5.0</td>\n",
              "      <td>NaN</td>\n",
              "      <td>Harpreet Brar</td>\n",
              "      <td>['PK Garg', 'Abhishek Sharma', 'RA Tripathi', ...</td>\n",
              "      <td>['JM Bairstow', 'S Dhawan', 'M Shahrukh Khan',...</td>\n",
              "      <td>AK Chaudhary</td>\n",
              "      <td>NA Patwardhan</td>\n",
              "    </tr>\n",
              "  </tbody>\n",
              "</table>\n",
              "</div>\n",
              "      <button class=\"colab-df-convert\" onclick=\"convertToInteractive('df-de48922d-79ad-4959-9d8f-70d675d26572')\"\n",
              "              title=\"Convert this dataframe to an interactive table.\"\n",
              "              style=\"display:none;\">\n",
              "        \n",
              "  <svg xmlns=\"http://www.w3.org/2000/svg\" height=\"24px\"viewBox=\"0 0 24 24\"\n",
              "       width=\"24px\">\n",
              "    <path d=\"M0 0h24v24H0V0z\" fill=\"none\"/>\n",
              "    <path d=\"M18.56 5.44l.94 2.06.94-2.06 2.06-.94-2.06-.94-.94-2.06-.94 2.06-2.06.94zm-11 1L8.5 8.5l.94-2.06 2.06-.94-2.06-.94L8.5 2.5l-.94 2.06-2.06.94zm10 10l.94 2.06.94-2.06 2.06-.94-2.06-.94-.94-2.06-.94 2.06-2.06.94z\"/><path d=\"M17.41 7.96l-1.37-1.37c-.4-.4-.92-.59-1.43-.59-.52 0-1.04.2-1.43.59L10.3 9.45l-7.72 7.72c-.78.78-.78 2.05 0 2.83L4 21.41c.39.39.9.59 1.41.59.51 0 1.02-.2 1.41-.59l7.78-7.78 2.81-2.81c.8-.78.8-2.07 0-2.86zM5.41 20L4 18.59l7.72-7.72 1.47 1.35L5.41 20z\"/>\n",
              "  </svg>\n",
              "      </button>\n",
              "      \n",
              "  <style>\n",
              "    .colab-df-container {\n",
              "      display:flex;\n",
              "      flex-wrap:wrap;\n",
              "      gap: 12px;\n",
              "    }\n",
              "\n",
              "    .colab-df-convert {\n",
              "      background-color: #E8F0FE;\n",
              "      border: none;\n",
              "      border-radius: 50%;\n",
              "      cursor: pointer;\n",
              "      display: none;\n",
              "      fill: #1967D2;\n",
              "      height: 32px;\n",
              "      padding: 0 0 0 0;\n",
              "      width: 32px;\n",
              "    }\n",
              "\n",
              "    .colab-df-convert:hover {\n",
              "      background-color: #E2EBFA;\n",
              "      box-shadow: 0px 1px 2px rgba(60, 64, 67, 0.3), 0px 1px 3px 1px rgba(60, 64, 67, 0.15);\n",
              "      fill: #174EA6;\n",
              "    }\n",
              "\n",
              "    [theme=dark] .colab-df-convert {\n",
              "      background-color: #3B4455;\n",
              "      fill: #D2E3FC;\n",
              "    }\n",
              "\n",
              "    [theme=dark] .colab-df-convert:hover {\n",
              "      background-color: #434B5C;\n",
              "      box-shadow: 0px 1px 3px 1px rgba(0, 0, 0, 0.15);\n",
              "      filter: drop-shadow(0px 1px 2px rgba(0, 0, 0, 0.3));\n",
              "      fill: #FFFFFF;\n",
              "    }\n",
              "  </style>\n",
              "\n",
              "      <script>\n",
              "        const buttonEl =\n",
              "          document.querySelector('#df-de48922d-79ad-4959-9d8f-70d675d26572 button.colab-df-convert');\n",
              "        buttonEl.style.display =\n",
              "          google.colab.kernel.accessAllowed ? 'block' : 'none';\n",
              "\n",
              "        async function convertToInteractive(key) {\n",
              "          const element = document.querySelector('#df-de48922d-79ad-4959-9d8f-70d675d26572');\n",
              "          const dataTable =\n",
              "            await google.colab.kernel.invokeFunction('convertToInteractive',\n",
              "                                                     [key], {});\n",
              "          if (!dataTable) return;\n",
              "\n",
              "          const docLinkHtml = 'Like what you see? Visit the ' +\n",
              "            '<a target=\"_blank\" href=https://colab.research.google.com/notebooks/data_table.ipynb>data table notebook</a>'\n",
              "            + ' to learn more about interactive tables.';\n",
              "          element.innerHTML = '';\n",
              "          dataTable['output_type'] = 'display_data';\n",
              "          await google.colab.output.renderOutput(dataTable, element);\n",
              "          const docLink = document.createElement('div');\n",
              "          docLink.innerHTML = docLinkHtml;\n",
              "          element.appendChild(docLink);\n",
              "        }\n",
              "      </script>\n",
              "    </div>\n",
              "  </div>\n",
              "  "
            ]
          },
          "metadata": {},
          "execution_count": 84
        }
      ]
    },
    {
      "cell_type": "code",
      "source": [
        "matchresult['City'].unique()"
      ],
      "metadata": {
        "colab": {
          "base_uri": "https://localhost:8080/"
        },
        "id": "bkx8UZFQLNQB",
        "outputId": "b573105f-fcc5-492c-ecbf-df3a83e46099"
      },
      "id": "bkx8UZFQLNQB",
      "execution_count": 85,
      "outputs": [
        {
          "output_type": "execute_result",
          "data": {
            "text/plain": [
              "array(['Ahmedabad', 'Kolkata', 'Mumbai', 'Navi Mumbai', 'Pune', 'Dubai',\n",
              "       'Sharjah', 'Abu Dhabi', 'Delhi', 'Chennai', nan, 'Hyderabad',\n",
              "       'Visakhapatnam', 'Chandigarh', 'Bengaluru', 'Jaipur', 'Indore',\n",
              "       'Bangalore', 'Kanpur', 'Rajkot', 'Raipur', 'Ranchi', 'Cuttack',\n",
              "       'Dharamsala', 'Kochi', 'Nagpur', 'Johannesburg', 'Centurion',\n",
              "       'Durban', 'Bloemfontein', 'Port Elizabeth', 'Kimberley',\n",
              "       'East London', 'Cape Town'], dtype=object)"
            ]
          },
          "metadata": {},
          "execution_count": 85
        }
      ]
    },
    {
      "cell_type": "code",
      "source": [
        "drop_city=['Ahmedabad','Dubai','Sharjah', 'Abu Dhabi','Visakhapatnam', 'Chandigarh', 'Indore',\n",
        "            'Kanpur', 'Rajkot', 'Raipur', 'Ranchi', 'Cuttack','Kochi', 'Nagpur', 'Johannesburg', 'Centurion',\n",
        "       'Durban', 'Bloemfontein', 'Port Elizabeth', 'Kimberley','East London', 'Cape Town']\n",
        "matchresult_pre=matchresult\n",
        "matchresult_pre['City'].replace('Navi Mumbai','Mumbai',inplace=True)\n",
        "matchresult_pre['City'].replace('Bengaluru','Bangalore',inplace=True)\n",
        "for city in drop_city:\n",
        "  matchresult_pre.drop(matchresult_pre[matchresult_pre.City==city].index,inplace=True)"
      ],
      "metadata": {
        "id": "oNdUcTDuMJx7"
      },
      "id": "oNdUcTDuMJx7",
      "execution_count": 86,
      "outputs": []
    },
    {
      "cell_type": "code",
      "source": [
        "matchresult_pre['City'].unique()"
      ],
      "metadata": {
        "colab": {
          "base_uri": "https://localhost:8080/"
        },
        "id": "7nZAcIYFLrnq",
        "outputId": "7288cb5a-cdb2-4900-e22a-e9866bff0f12"
      },
      "id": "7nZAcIYFLrnq",
      "execution_count": 87,
      "outputs": [
        {
          "output_type": "execute_result",
          "data": {
            "text/plain": [
              "array(['Kolkata', 'Mumbai', 'Pune', 'Delhi', 'Chennai', nan, 'Hyderabad',\n",
              "       'Bangalore', 'Jaipur', 'Dharamsala'], dtype=object)"
            ]
          },
          "metadata": {},
          "execution_count": 87
        }
      ]
    },
    {
      "cell_type": "code",
      "source": [
        "matchresult_pre.Team1.unique()"
      ],
      "metadata": {
        "colab": {
          "base_uri": "https://localhost:8080/"
        },
        "id": "YH6Dopylw-lX",
        "outputId": "297ea3f0-7c35-4730-ca5d-953d5f26d76d"
      },
      "id": "YH6Dopylw-lX",
      "execution_count": 88,
      "outputs": [
        {
          "output_type": "execute_result",
          "data": {
            "text/plain": [
              "array(['Royal Challengers Bangalore', 'Rajasthan Royals',\n",
              "       'Sunrisers Hyderabad', 'Delhi Capitals', 'Chennai Super Kings',\n",
              "       'Gujarat Titans', 'Lucknow Super Giants', 'Kolkata Knight Riders',\n",
              "       'Punjab Kings', 'Mumbai Indians', 'Kings XI Punjab',\n",
              "       'Delhi Daredevils', 'Rising Pune Supergiant', 'Gujarat Lions',\n",
              "       'Rising Pune Supergiants', 'Pune Warriors', 'Deccan Chargers'],\n",
              "      dtype=object)"
            ]
          },
          "metadata": {},
          "execution_count": 88
        }
      ]
    },
    {
      "cell_type": "code",
      "source": [
        "matchresult_pre=matchresult_pre[['ID','Team1',\"Team2\",'City']]\n",
        "not_present_team=['Rising Pune Supergiant',\n",
        "       'Gujarat Lions', 'Rising Pune Supergiants', 'Pune Warriors',\n",
        "       'Deccan Chargers', 'Kochi Tuskers Kerala','Gujarat Titans','Lucknow Super Giants']\n",
        "for team in not_present_team:\n",
        "  matchresult_pre.drop(matchresult_pre[matchresult_pre['Team1']==team].index,inplace=True)\n",
        "  matchresult_pre.drop(matchresult_pre[matchresult_pre['Team2']==team].index,inplace=True)\n",
        "matchresult_pre.replace('Delhi Daredevils','Delhi Capitals',inplace=True)\n",
        "matchresult_pre.replace('Kings XI Punjab','Punjab Kings',inplace=True)"
      ],
      "metadata": {
        "id": "k5-p8XDrRIh0",
        "colab": {
          "base_uri": "https://localhost:8080/"
        },
        "outputId": "9857b630-d489-4491-d2a7-250ce3957482"
      },
      "id": "k5-p8XDrRIh0",
      "execution_count": 89,
      "outputs": [
        {
          "output_type": "stream",
          "name": "stderr",
          "text": [
            "<ipython-input-89-267957ea5d1e>:6: SettingWithCopyWarning: \n",
            "A value is trying to be set on a copy of a slice from a DataFrame\n",
            "\n",
            "See the caveats in the documentation: https://pandas.pydata.org/pandas-docs/stable/user_guide/indexing.html#returning-a-view-versus-a-copy\n",
            "  matchresult_pre.drop(matchresult_pre[matchresult_pre['Team1']==team].index,inplace=True)\n",
            "<ipython-input-89-267957ea5d1e>:7: SettingWithCopyWarning: \n",
            "A value is trying to be set on a copy of a slice from a DataFrame\n",
            "\n",
            "See the caveats in the documentation: https://pandas.pydata.org/pandas-docs/stable/user_guide/indexing.html#returning-a-view-versus-a-copy\n",
            "  matchresult_pre.drop(matchresult_pre[matchresult_pre['Team2']==team].index,inplace=True)\n",
            "<ipython-input-89-267957ea5d1e>:8: SettingWithCopyWarning: \n",
            "A value is trying to be set on a copy of a slice from a DataFrame\n",
            "\n",
            "See the caveats in the documentation: https://pandas.pydata.org/pandas-docs/stable/user_guide/indexing.html#returning-a-view-versus-a-copy\n",
            "  matchresult_pre.replace('Delhi Daredevils','Delhi Capitals',inplace=True)\n",
            "<ipython-input-89-267957ea5d1e>:9: SettingWithCopyWarning: \n",
            "A value is trying to be set on a copy of a slice from a DataFrame\n",
            "\n",
            "See the caveats in the documentation: https://pandas.pydata.org/pandas-docs/stable/user_guide/indexing.html#returning-a-view-versus-a-copy\n",
            "  matchresult_pre.replace('Kings XI Punjab','Punjab Kings',inplace=True)\n"
          ]
        }
      ]
    },
    {
      "cell_type": "code",
      "source": [
        "matchresult_pre.Team1.unique()"
      ],
      "metadata": {
        "colab": {
          "base_uri": "https://localhost:8080/"
        },
        "id": "4AVQrbGXxvoW",
        "outputId": "0eba6c2f-8b61-4916-f6de-7c36271ce368"
      },
      "id": "4AVQrbGXxvoW",
      "execution_count": 90,
      "outputs": [
        {
          "output_type": "execute_result",
          "data": {
            "text/plain": [
              "array(['Sunrisers Hyderabad', 'Delhi Capitals', 'Chennai Super Kings',\n",
              "       'Kolkata Knight Riders', 'Punjab Kings', 'Rajasthan Royals',\n",
              "       'Royal Challengers Bangalore', 'Mumbai Indians'], dtype=object)"
            ]
          },
          "metadata": {},
          "execution_count": 90
        }
      ]
    },
    {
      "cell_type": "code",
      "source": [
        "avg_inn=iplbb_pre1.merge(matchresult_pre,on='ID',how='right')"
      ],
      "metadata": {
        "id": "F393DuplPNgW"
      },
      "id": "F393DuplPNgW",
      "execution_count": 91,
      "outputs": []
    },
    {
      "cell_type": "code",
      "source": [
        "avg_inn"
      ],
      "metadata": {
        "colab": {
          "base_uri": "https://localhost:8080/",
          "height": 424
        },
        "id": "sCSAkNl3RlJU",
        "outputId": "f4cc1f71-460c-48b0-dd70-d42f1a2159f1"
      },
      "id": "sCSAkNl3RlJU",
      "execution_count": 92,
      "outputs": [
        {
          "output_type": "execute_result",
          "data": {
            "text/plain": [
              "          ID  innings_avg_score                        Team1  \\\n",
              "0    1304116               60.0          Sunrisers Hyderabad   \n",
              "1    1304115               37.0               Delhi Capitals   \n",
              "2    1304114               71.0          Chennai Super Kings   \n",
              "3    1304111               59.0          Sunrisers Hyderabad   \n",
              "4    1304110               63.0               Delhi Capitals   \n",
              "..       ...                ...                          ...   \n",
              "537   335989               58.0          Chennai Super Kings   \n",
              "538   335987               59.5             Rajasthan Royals   \n",
              "539   335985               50.0               Mumbai Indians   \n",
              "540   335984               51.5               Delhi Capitals   \n",
              "541   335982               50.5  Royal Challengers Bangalore   \n",
              "\n",
              "                           Team2       City  \n",
              "0                   Punjab Kings     Mumbai  \n",
              "1                 Mumbai Indians     Mumbai  \n",
              "2               Rajasthan Royals     Mumbai  \n",
              "3                 Mumbai Indians     Mumbai  \n",
              "4                   Punjab Kings     Mumbai  \n",
              "..                           ...        ...  \n",
              "537               Mumbai Indians    Chennai  \n",
              "538                 Punjab Kings     Jaipur  \n",
              "539  Royal Challengers Bangalore     Mumbai  \n",
              "540             Rajasthan Royals      Delhi  \n",
              "541        Kolkata Knight Riders  Bangalore  \n",
              "\n",
              "[542 rows x 5 columns]"
            ],
            "text/html": [
              "\n",
              "  <div id=\"df-af8bde44-0ad6-4f04-9dbf-be6471ca72b0\">\n",
              "    <div class=\"colab-df-container\">\n",
              "      <div>\n",
              "<style scoped>\n",
              "    .dataframe tbody tr th:only-of-type {\n",
              "        vertical-align: middle;\n",
              "    }\n",
              "\n",
              "    .dataframe tbody tr th {\n",
              "        vertical-align: top;\n",
              "    }\n",
              "\n",
              "    .dataframe thead th {\n",
              "        text-align: right;\n",
              "    }\n",
              "</style>\n",
              "<table border=\"1\" class=\"dataframe\">\n",
              "  <thead>\n",
              "    <tr style=\"text-align: right;\">\n",
              "      <th></th>\n",
              "      <th>ID</th>\n",
              "      <th>innings_avg_score</th>\n",
              "      <th>Team1</th>\n",
              "      <th>Team2</th>\n",
              "      <th>City</th>\n",
              "    </tr>\n",
              "  </thead>\n",
              "  <tbody>\n",
              "    <tr>\n",
              "      <th>0</th>\n",
              "      <td>1304116</td>\n",
              "      <td>60.0</td>\n",
              "      <td>Sunrisers Hyderabad</td>\n",
              "      <td>Punjab Kings</td>\n",
              "      <td>Mumbai</td>\n",
              "    </tr>\n",
              "    <tr>\n",
              "      <th>1</th>\n",
              "      <td>1304115</td>\n",
              "      <td>37.0</td>\n",
              "      <td>Delhi Capitals</td>\n",
              "      <td>Mumbai Indians</td>\n",
              "      <td>Mumbai</td>\n",
              "    </tr>\n",
              "    <tr>\n",
              "      <th>2</th>\n",
              "      <td>1304114</td>\n",
              "      <td>71.0</td>\n",
              "      <td>Chennai Super Kings</td>\n",
              "      <td>Rajasthan Royals</td>\n",
              "      <td>Mumbai</td>\n",
              "    </tr>\n",
              "    <tr>\n",
              "      <th>3</th>\n",
              "      <td>1304111</td>\n",
              "      <td>59.0</td>\n",
              "      <td>Sunrisers Hyderabad</td>\n",
              "      <td>Mumbai Indians</td>\n",
              "      <td>Mumbai</td>\n",
              "    </tr>\n",
              "    <tr>\n",
              "      <th>4</th>\n",
              "      <td>1304110</td>\n",
              "      <td>63.0</td>\n",
              "      <td>Delhi Capitals</td>\n",
              "      <td>Punjab Kings</td>\n",
              "      <td>Mumbai</td>\n",
              "    </tr>\n",
              "    <tr>\n",
              "      <th>...</th>\n",
              "      <td>...</td>\n",
              "      <td>...</td>\n",
              "      <td>...</td>\n",
              "      <td>...</td>\n",
              "      <td>...</td>\n",
              "    </tr>\n",
              "    <tr>\n",
              "      <th>537</th>\n",
              "      <td>335989</td>\n",
              "      <td>58.0</td>\n",
              "      <td>Chennai Super Kings</td>\n",
              "      <td>Mumbai Indians</td>\n",
              "      <td>Chennai</td>\n",
              "    </tr>\n",
              "    <tr>\n",
              "      <th>538</th>\n",
              "      <td>335987</td>\n",
              "      <td>59.5</td>\n",
              "      <td>Rajasthan Royals</td>\n",
              "      <td>Punjab Kings</td>\n",
              "      <td>Jaipur</td>\n",
              "    </tr>\n",
              "    <tr>\n",
              "      <th>539</th>\n",
              "      <td>335985</td>\n",
              "      <td>50.0</td>\n",
              "      <td>Mumbai Indians</td>\n",
              "      <td>Royal Challengers Bangalore</td>\n",
              "      <td>Mumbai</td>\n",
              "    </tr>\n",
              "    <tr>\n",
              "      <th>540</th>\n",
              "      <td>335984</td>\n",
              "      <td>51.5</td>\n",
              "      <td>Delhi Capitals</td>\n",
              "      <td>Rajasthan Royals</td>\n",
              "      <td>Delhi</td>\n",
              "    </tr>\n",
              "    <tr>\n",
              "      <th>541</th>\n",
              "      <td>335982</td>\n",
              "      <td>50.5</td>\n",
              "      <td>Royal Challengers Bangalore</td>\n",
              "      <td>Kolkata Knight Riders</td>\n",
              "      <td>Bangalore</td>\n",
              "    </tr>\n",
              "  </tbody>\n",
              "</table>\n",
              "<p>542 rows × 5 columns</p>\n",
              "</div>\n",
              "      <button class=\"colab-df-convert\" onclick=\"convertToInteractive('df-af8bde44-0ad6-4f04-9dbf-be6471ca72b0')\"\n",
              "              title=\"Convert this dataframe to an interactive table.\"\n",
              "              style=\"display:none;\">\n",
              "        \n",
              "  <svg xmlns=\"http://www.w3.org/2000/svg\" height=\"24px\"viewBox=\"0 0 24 24\"\n",
              "       width=\"24px\">\n",
              "    <path d=\"M0 0h24v24H0V0z\" fill=\"none\"/>\n",
              "    <path d=\"M18.56 5.44l.94 2.06.94-2.06 2.06-.94-2.06-.94-.94-2.06-.94 2.06-2.06.94zm-11 1L8.5 8.5l.94-2.06 2.06-.94-2.06-.94L8.5 2.5l-.94 2.06-2.06.94zm10 10l.94 2.06.94-2.06 2.06-.94-2.06-.94-.94-2.06-.94 2.06-2.06.94z\"/><path d=\"M17.41 7.96l-1.37-1.37c-.4-.4-.92-.59-1.43-.59-.52 0-1.04.2-1.43.59L10.3 9.45l-7.72 7.72c-.78.78-.78 2.05 0 2.83L4 21.41c.39.39.9.59 1.41.59.51 0 1.02-.2 1.41-.59l7.78-7.78 2.81-2.81c.8-.78.8-2.07 0-2.86zM5.41 20L4 18.59l7.72-7.72 1.47 1.35L5.41 20z\"/>\n",
              "  </svg>\n",
              "      </button>\n",
              "      \n",
              "  <style>\n",
              "    .colab-df-container {\n",
              "      display:flex;\n",
              "      flex-wrap:wrap;\n",
              "      gap: 12px;\n",
              "    }\n",
              "\n",
              "    .colab-df-convert {\n",
              "      background-color: #E8F0FE;\n",
              "      border: none;\n",
              "      border-radius: 50%;\n",
              "      cursor: pointer;\n",
              "      display: none;\n",
              "      fill: #1967D2;\n",
              "      height: 32px;\n",
              "      padding: 0 0 0 0;\n",
              "      width: 32px;\n",
              "    }\n",
              "\n",
              "    .colab-df-convert:hover {\n",
              "      background-color: #E2EBFA;\n",
              "      box-shadow: 0px 1px 2px rgba(60, 64, 67, 0.3), 0px 1px 3px 1px rgba(60, 64, 67, 0.15);\n",
              "      fill: #174EA6;\n",
              "    }\n",
              "\n",
              "    [theme=dark] .colab-df-convert {\n",
              "      background-color: #3B4455;\n",
              "      fill: #D2E3FC;\n",
              "    }\n",
              "\n",
              "    [theme=dark] .colab-df-convert:hover {\n",
              "      background-color: #434B5C;\n",
              "      box-shadow: 0px 1px 3px 1px rgba(0, 0, 0, 0.15);\n",
              "      filter: drop-shadow(0px 1px 2px rgba(0, 0, 0, 0.3));\n",
              "      fill: #FFFFFF;\n",
              "    }\n",
              "  </style>\n",
              "\n",
              "      <script>\n",
              "        const buttonEl =\n",
              "          document.querySelector('#df-af8bde44-0ad6-4f04-9dbf-be6471ca72b0 button.colab-df-convert');\n",
              "        buttonEl.style.display =\n",
              "          google.colab.kernel.accessAllowed ? 'block' : 'none';\n",
              "\n",
              "        async function convertToInteractive(key) {\n",
              "          const element = document.querySelector('#df-af8bde44-0ad6-4f04-9dbf-be6471ca72b0');\n",
              "          const dataTable =\n",
              "            await google.colab.kernel.invokeFunction('convertToInteractive',\n",
              "                                                     [key], {});\n",
              "          if (!dataTable) return;\n",
              "\n",
              "          const docLinkHtml = 'Like what you see? Visit the ' +\n",
              "            '<a target=\"_blank\" href=https://colab.research.google.com/notebooks/data_table.ipynb>data table notebook</a>'\n",
              "            + ' to learn more about interactive tables.';\n",
              "          element.innerHTML = '';\n",
              "          dataTable['output_type'] = 'display_data';\n",
              "          await google.colab.output.renderOutput(dataTable, element);\n",
              "          const docLink = document.createElement('div');\n",
              "          docLink.innerHTML = docLinkHtml;\n",
              "          element.appendChild(docLink);\n",
              "        }\n",
              "      </script>\n",
              "    </div>\n",
              "  </div>\n",
              "  "
            ]
          },
          "metadata": {},
          "execution_count": 92
        }
      ]
    },
    {
      "cell_type": "code",
      "source": [
        "avg_inn.Team1.unique()"
      ],
      "metadata": {
        "colab": {
          "base_uri": "https://localhost:8080/"
        },
        "id": "leqjwdmMYR3l",
        "outputId": "e65bbbef-91c3-4079-de28-3617a03ba2fe"
      },
      "id": "leqjwdmMYR3l",
      "execution_count": 93,
      "outputs": [
        {
          "output_type": "execute_result",
          "data": {
            "text/plain": [
              "array(['Sunrisers Hyderabad', 'Delhi Capitals', 'Chennai Super Kings',\n",
              "       'Kolkata Knight Riders', 'Punjab Kings', 'Rajasthan Royals',\n",
              "       'Royal Challengers Bangalore', 'Mumbai Indians'], dtype=object)"
            ]
          },
          "metadata": {},
          "execution_count": 93
        }
      ]
    },
    {
      "cell_type": "code",
      "source": [
        "avg_inn.dropna()\n",
        "avg_inn=pd.get_dummies(avg_inn)"
      ],
      "metadata": {
        "id": "DwpXcKk3R4GK"
      },
      "id": "DwpXcKk3R4GK",
      "execution_count": 94,
      "outputs": []
    },
    {
      "cell_type": "code",
      "source": [
        "avg_inn.drop('ID',inplace=True,axis=1)"
      ],
      "metadata": {
        "id": "paVl_0EMXrmn"
      },
      "id": "paVl_0EMXrmn",
      "execution_count": 95,
      "outputs": []
    },
    {
      "cell_type": "code",
      "source": [
        "avg_inn.head()"
      ],
      "metadata": {
        "colab": {
          "base_uri": "https://localhost:8080/",
          "height": 334
        },
        "id": "tE2nBXzRyUzK",
        "outputId": "1be3a69e-5567-4edb-df07-4b7487747633"
      },
      "id": "tE2nBXzRyUzK",
      "execution_count": 96,
      "outputs": [
        {
          "output_type": "execute_result",
          "data": {
            "text/plain": [
              "   innings_avg_score  Team1_Chennai Super Kings  Team1_Delhi Capitals  \\\n",
              "0               60.0                          0                     0   \n",
              "1               37.0                          0                     1   \n",
              "2               71.0                          1                     0   \n",
              "3               59.0                          0                     0   \n",
              "4               63.0                          0                     1   \n",
              "\n",
              "   Team1_Kolkata Knight Riders  Team1_Mumbai Indians  Team1_Punjab Kings  \\\n",
              "0                            0                     0                   0   \n",
              "1                            0                     0                   0   \n",
              "2                            0                     0                   0   \n",
              "3                            0                     0                   0   \n",
              "4                            0                     0                   0   \n",
              "\n",
              "   Team1_Rajasthan Royals  Team1_Royal Challengers Bangalore  \\\n",
              "0                       0                                  0   \n",
              "1                       0                                  0   \n",
              "2                       0                                  0   \n",
              "3                       0                                  0   \n",
              "4                       0                                  0   \n",
              "\n",
              "   Team1_Sunrisers Hyderabad  Team2_Chennai Super Kings  ...  \\\n",
              "0                          1                          0  ...   \n",
              "1                          0                          0  ...   \n",
              "2                          0                          0  ...   \n",
              "3                          1                          0  ...   \n",
              "4                          0                          0  ...   \n",
              "\n",
              "   Team2_Sunrisers Hyderabad  City_Bangalore  City_Chennai  City_Delhi  \\\n",
              "0                          0               0             0           0   \n",
              "1                          0               0             0           0   \n",
              "2                          0               0             0           0   \n",
              "3                          0               0             0           0   \n",
              "4                          0               0             0           0   \n",
              "\n",
              "   City_Dharamsala  City_Hyderabad  City_Jaipur  City_Kolkata  City_Mumbai  \\\n",
              "0                0               0            0             0            1   \n",
              "1                0               0            0             0            1   \n",
              "2                0               0            0             0            1   \n",
              "3                0               0            0             0            1   \n",
              "4                0               0            0             0            1   \n",
              "\n",
              "   City_Pune  \n",
              "0          0  \n",
              "1          0  \n",
              "2          0  \n",
              "3          0  \n",
              "4          0  \n",
              "\n",
              "[5 rows x 26 columns]"
            ],
            "text/html": [
              "\n",
              "  <div id=\"df-1350797d-4051-40c0-b734-614b67ec18d2\">\n",
              "    <div class=\"colab-df-container\">\n",
              "      <div>\n",
              "<style scoped>\n",
              "    .dataframe tbody tr th:only-of-type {\n",
              "        vertical-align: middle;\n",
              "    }\n",
              "\n",
              "    .dataframe tbody tr th {\n",
              "        vertical-align: top;\n",
              "    }\n",
              "\n",
              "    .dataframe thead th {\n",
              "        text-align: right;\n",
              "    }\n",
              "</style>\n",
              "<table border=\"1\" class=\"dataframe\">\n",
              "  <thead>\n",
              "    <tr style=\"text-align: right;\">\n",
              "      <th></th>\n",
              "      <th>innings_avg_score</th>\n",
              "      <th>Team1_Chennai Super Kings</th>\n",
              "      <th>Team1_Delhi Capitals</th>\n",
              "      <th>Team1_Kolkata Knight Riders</th>\n",
              "      <th>Team1_Mumbai Indians</th>\n",
              "      <th>Team1_Punjab Kings</th>\n",
              "      <th>Team1_Rajasthan Royals</th>\n",
              "      <th>Team1_Royal Challengers Bangalore</th>\n",
              "      <th>Team1_Sunrisers Hyderabad</th>\n",
              "      <th>Team2_Chennai Super Kings</th>\n",
              "      <th>...</th>\n",
              "      <th>Team2_Sunrisers Hyderabad</th>\n",
              "      <th>City_Bangalore</th>\n",
              "      <th>City_Chennai</th>\n",
              "      <th>City_Delhi</th>\n",
              "      <th>City_Dharamsala</th>\n",
              "      <th>City_Hyderabad</th>\n",
              "      <th>City_Jaipur</th>\n",
              "      <th>City_Kolkata</th>\n",
              "      <th>City_Mumbai</th>\n",
              "      <th>City_Pune</th>\n",
              "    </tr>\n",
              "  </thead>\n",
              "  <tbody>\n",
              "    <tr>\n",
              "      <th>0</th>\n",
              "      <td>60.0</td>\n",
              "      <td>0</td>\n",
              "      <td>0</td>\n",
              "      <td>0</td>\n",
              "      <td>0</td>\n",
              "      <td>0</td>\n",
              "      <td>0</td>\n",
              "      <td>0</td>\n",
              "      <td>1</td>\n",
              "      <td>0</td>\n",
              "      <td>...</td>\n",
              "      <td>0</td>\n",
              "      <td>0</td>\n",
              "      <td>0</td>\n",
              "      <td>0</td>\n",
              "      <td>0</td>\n",
              "      <td>0</td>\n",
              "      <td>0</td>\n",
              "      <td>0</td>\n",
              "      <td>1</td>\n",
              "      <td>0</td>\n",
              "    </tr>\n",
              "    <tr>\n",
              "      <th>1</th>\n",
              "      <td>37.0</td>\n",
              "      <td>0</td>\n",
              "      <td>1</td>\n",
              "      <td>0</td>\n",
              "      <td>0</td>\n",
              "      <td>0</td>\n",
              "      <td>0</td>\n",
              "      <td>0</td>\n",
              "      <td>0</td>\n",
              "      <td>0</td>\n",
              "      <td>...</td>\n",
              "      <td>0</td>\n",
              "      <td>0</td>\n",
              "      <td>0</td>\n",
              "      <td>0</td>\n",
              "      <td>0</td>\n",
              "      <td>0</td>\n",
              "      <td>0</td>\n",
              "      <td>0</td>\n",
              "      <td>1</td>\n",
              "      <td>0</td>\n",
              "    </tr>\n",
              "    <tr>\n",
              "      <th>2</th>\n",
              "      <td>71.0</td>\n",
              "      <td>1</td>\n",
              "      <td>0</td>\n",
              "      <td>0</td>\n",
              "      <td>0</td>\n",
              "      <td>0</td>\n",
              "      <td>0</td>\n",
              "      <td>0</td>\n",
              "      <td>0</td>\n",
              "      <td>0</td>\n",
              "      <td>...</td>\n",
              "      <td>0</td>\n",
              "      <td>0</td>\n",
              "      <td>0</td>\n",
              "      <td>0</td>\n",
              "      <td>0</td>\n",
              "      <td>0</td>\n",
              "      <td>0</td>\n",
              "      <td>0</td>\n",
              "      <td>1</td>\n",
              "      <td>0</td>\n",
              "    </tr>\n",
              "    <tr>\n",
              "      <th>3</th>\n",
              "      <td>59.0</td>\n",
              "      <td>0</td>\n",
              "      <td>0</td>\n",
              "      <td>0</td>\n",
              "      <td>0</td>\n",
              "      <td>0</td>\n",
              "      <td>0</td>\n",
              "      <td>0</td>\n",
              "      <td>1</td>\n",
              "      <td>0</td>\n",
              "      <td>...</td>\n",
              "      <td>0</td>\n",
              "      <td>0</td>\n",
              "      <td>0</td>\n",
              "      <td>0</td>\n",
              "      <td>0</td>\n",
              "      <td>0</td>\n",
              "      <td>0</td>\n",
              "      <td>0</td>\n",
              "      <td>1</td>\n",
              "      <td>0</td>\n",
              "    </tr>\n",
              "    <tr>\n",
              "      <th>4</th>\n",
              "      <td>63.0</td>\n",
              "      <td>0</td>\n",
              "      <td>1</td>\n",
              "      <td>0</td>\n",
              "      <td>0</td>\n",
              "      <td>0</td>\n",
              "      <td>0</td>\n",
              "      <td>0</td>\n",
              "      <td>0</td>\n",
              "      <td>0</td>\n",
              "      <td>...</td>\n",
              "      <td>0</td>\n",
              "      <td>0</td>\n",
              "      <td>0</td>\n",
              "      <td>0</td>\n",
              "      <td>0</td>\n",
              "      <td>0</td>\n",
              "      <td>0</td>\n",
              "      <td>0</td>\n",
              "      <td>1</td>\n",
              "      <td>0</td>\n",
              "    </tr>\n",
              "  </tbody>\n",
              "</table>\n",
              "<p>5 rows × 26 columns</p>\n",
              "</div>\n",
              "      <button class=\"colab-df-convert\" onclick=\"convertToInteractive('df-1350797d-4051-40c0-b734-614b67ec18d2')\"\n",
              "              title=\"Convert this dataframe to an interactive table.\"\n",
              "              style=\"display:none;\">\n",
              "        \n",
              "  <svg xmlns=\"http://www.w3.org/2000/svg\" height=\"24px\"viewBox=\"0 0 24 24\"\n",
              "       width=\"24px\">\n",
              "    <path d=\"M0 0h24v24H0V0z\" fill=\"none\"/>\n",
              "    <path d=\"M18.56 5.44l.94 2.06.94-2.06 2.06-.94-2.06-.94-.94-2.06-.94 2.06-2.06.94zm-11 1L8.5 8.5l.94-2.06 2.06-.94-2.06-.94L8.5 2.5l-.94 2.06-2.06.94zm10 10l.94 2.06.94-2.06 2.06-.94-2.06-.94-.94-2.06-.94 2.06-2.06.94z\"/><path d=\"M17.41 7.96l-1.37-1.37c-.4-.4-.92-.59-1.43-.59-.52 0-1.04.2-1.43.59L10.3 9.45l-7.72 7.72c-.78.78-.78 2.05 0 2.83L4 21.41c.39.39.9.59 1.41.59.51 0 1.02-.2 1.41-.59l7.78-7.78 2.81-2.81c.8-.78.8-2.07 0-2.86zM5.41 20L4 18.59l7.72-7.72 1.47 1.35L5.41 20z\"/>\n",
              "  </svg>\n",
              "      </button>\n",
              "      \n",
              "  <style>\n",
              "    .colab-df-container {\n",
              "      display:flex;\n",
              "      flex-wrap:wrap;\n",
              "      gap: 12px;\n",
              "    }\n",
              "\n",
              "    .colab-df-convert {\n",
              "      background-color: #E8F0FE;\n",
              "      border: none;\n",
              "      border-radius: 50%;\n",
              "      cursor: pointer;\n",
              "      display: none;\n",
              "      fill: #1967D2;\n",
              "      height: 32px;\n",
              "      padding: 0 0 0 0;\n",
              "      width: 32px;\n",
              "    }\n",
              "\n",
              "    .colab-df-convert:hover {\n",
              "      background-color: #E2EBFA;\n",
              "      box-shadow: 0px 1px 2px rgba(60, 64, 67, 0.3), 0px 1px 3px 1px rgba(60, 64, 67, 0.15);\n",
              "      fill: #174EA6;\n",
              "    }\n",
              "\n",
              "    [theme=dark] .colab-df-convert {\n",
              "      background-color: #3B4455;\n",
              "      fill: #D2E3FC;\n",
              "    }\n",
              "\n",
              "    [theme=dark] .colab-df-convert:hover {\n",
              "      background-color: #434B5C;\n",
              "      box-shadow: 0px 1px 3px 1px rgba(0, 0, 0, 0.15);\n",
              "      filter: drop-shadow(0px 1px 2px rgba(0, 0, 0, 0.3));\n",
              "      fill: #FFFFFF;\n",
              "    }\n",
              "  </style>\n",
              "\n",
              "      <script>\n",
              "        const buttonEl =\n",
              "          document.querySelector('#df-1350797d-4051-40c0-b734-614b67ec18d2 button.colab-df-convert');\n",
              "        buttonEl.style.display =\n",
              "          google.colab.kernel.accessAllowed ? 'block' : 'none';\n",
              "\n",
              "        async function convertToInteractive(key) {\n",
              "          const element = document.querySelector('#df-1350797d-4051-40c0-b734-614b67ec18d2');\n",
              "          const dataTable =\n",
              "            await google.colab.kernel.invokeFunction('convertToInteractive',\n",
              "                                                     [key], {});\n",
              "          if (!dataTable) return;\n",
              "\n",
              "          const docLinkHtml = 'Like what you see? Visit the ' +\n",
              "            '<a target=\"_blank\" href=https://colab.research.google.com/notebooks/data_table.ipynb>data table notebook</a>'\n",
              "            + ' to learn more about interactive tables.';\n",
              "          element.innerHTML = '';\n",
              "          dataTable['output_type'] = 'display_data';\n",
              "          await google.colab.output.renderOutput(dataTable, element);\n",
              "          const docLink = document.createElement('div');\n",
              "          docLink.innerHTML = docLinkHtml;\n",
              "          element.appendChild(docLink);\n",
              "        }\n",
              "      </script>\n",
              "    </div>\n",
              "  </div>\n",
              "  "
            ]
          },
          "metadata": {},
          "execution_count": 96
        }
      ]
    },
    {
      "cell_type": "code",
      "source": [
        "x=avg_inn.drop('innings_avg_score',axis=1)\n",
        "y=avg_inn['innings_avg_score']"
      ],
      "metadata": {
        "id": "81BhooIUSI9b"
      },
      "id": "81BhooIUSI9b",
      "execution_count": 97,
      "outputs": []
    },
    {
      "cell_type": "code",
      "source": [
        "avg_inn.info()"
      ],
      "metadata": {
        "colab": {
          "base_uri": "https://localhost:8080/"
        },
        "id": "Ylrun4GbOQYE",
        "outputId": "ffdae55e-9bec-436c-f0ec-65ae47285697"
      },
      "id": "Ylrun4GbOQYE",
      "execution_count": 98,
      "outputs": [
        {
          "output_type": "stream",
          "name": "stdout",
          "text": [
            "<class 'pandas.core.frame.DataFrame'>\n",
            "Int64Index: 542 entries, 0 to 541\n",
            "Data columns (total 26 columns):\n",
            " #   Column                             Non-Null Count  Dtype  \n",
            "---  ------                             --------------  -----  \n",
            " 0   innings_avg_score                  542 non-null    float64\n",
            " 1   Team1_Chennai Super Kings          542 non-null    uint8  \n",
            " 2   Team1_Delhi Capitals               542 non-null    uint8  \n",
            " 3   Team1_Kolkata Knight Riders        542 non-null    uint8  \n",
            " 4   Team1_Mumbai Indians               542 non-null    uint8  \n",
            " 5   Team1_Punjab Kings                 542 non-null    uint8  \n",
            " 6   Team1_Rajasthan Royals             542 non-null    uint8  \n",
            " 7   Team1_Royal Challengers Bangalore  542 non-null    uint8  \n",
            " 8   Team1_Sunrisers Hyderabad          542 non-null    uint8  \n",
            " 9   Team2_Chennai Super Kings          542 non-null    uint8  \n",
            " 10  Team2_Delhi Capitals               542 non-null    uint8  \n",
            " 11  Team2_Kolkata Knight Riders        542 non-null    uint8  \n",
            " 12  Team2_Mumbai Indians               542 non-null    uint8  \n",
            " 13  Team2_Punjab Kings                 542 non-null    uint8  \n",
            " 14  Team2_Rajasthan Royals             542 non-null    uint8  \n",
            " 15  Team2_Royal Challengers Bangalore  542 non-null    uint8  \n",
            " 16  Team2_Sunrisers Hyderabad          542 non-null    uint8  \n",
            " 17  City_Bangalore                     542 non-null    uint8  \n",
            " 18  City_Chennai                       542 non-null    uint8  \n",
            " 19  City_Delhi                         542 non-null    uint8  \n",
            " 20  City_Dharamsala                    542 non-null    uint8  \n",
            " 21  City_Hyderabad                     542 non-null    uint8  \n",
            " 22  City_Jaipur                        542 non-null    uint8  \n",
            " 23  City_Kolkata                       542 non-null    uint8  \n",
            " 24  City_Mumbai                        542 non-null    uint8  \n",
            " 25  City_Pune                          542 non-null    uint8  \n",
            "dtypes: float64(1), uint8(25)\n",
            "memory usage: 21.7 KB\n"
          ]
        }
      ]
    },
    {
      "cell_type": "code",
      "source": [
        "from sklearn.model_selection import train_test_split\n",
        "x1,x2,y1,y2=train_test_split(x,y)"
      ],
      "metadata": {
        "id": "UA6rkyaQQpaU"
      },
      "id": "UA6rkyaQQpaU",
      "execution_count": 99,
      "outputs": []
    },
    {
      "cell_type": "code",
      "source": [
        "from sklearn.linear_model import LinearRegression\n",
        "m=LinearRegression()\n",
        "m.fit(x1,y1)"
      ],
      "metadata": {
        "id": "iHc7IrWSVyg0",
        "colab": {
          "base_uri": "https://localhost:8080/",
          "height": 75
        },
        "outputId": "6f7eaae1-159e-45c6-a166-d9aa26ed0661"
      },
      "id": "iHc7IrWSVyg0",
      "execution_count": 100,
      "outputs": [
        {
          "output_type": "execute_result",
          "data": {
            "text/plain": [
              "LinearRegression()"
            ],
            "text/html": [
              "<style>#sk-container-id-5 {color: black;background-color: white;}#sk-container-id-5 pre{padding: 0;}#sk-container-id-5 div.sk-toggleable {background-color: white;}#sk-container-id-5 label.sk-toggleable__label {cursor: pointer;display: block;width: 100%;margin-bottom: 0;padding: 0.3em;box-sizing: border-box;text-align: center;}#sk-container-id-5 label.sk-toggleable__label-arrow:before {content: \"▸\";float: left;margin-right: 0.25em;color: #696969;}#sk-container-id-5 label.sk-toggleable__label-arrow:hover:before {color: black;}#sk-container-id-5 div.sk-estimator:hover label.sk-toggleable__label-arrow:before {color: black;}#sk-container-id-5 div.sk-toggleable__content {max-height: 0;max-width: 0;overflow: hidden;text-align: left;background-color: #f0f8ff;}#sk-container-id-5 div.sk-toggleable__content pre {margin: 0.2em;color: black;border-radius: 0.25em;background-color: #f0f8ff;}#sk-container-id-5 input.sk-toggleable__control:checked~div.sk-toggleable__content {max-height: 200px;max-width: 100%;overflow: auto;}#sk-container-id-5 input.sk-toggleable__control:checked~label.sk-toggleable__label-arrow:before {content: \"▾\";}#sk-container-id-5 div.sk-estimator input.sk-toggleable__control:checked~label.sk-toggleable__label {background-color: #d4ebff;}#sk-container-id-5 div.sk-label input.sk-toggleable__control:checked~label.sk-toggleable__label {background-color: #d4ebff;}#sk-container-id-5 input.sk-hidden--visually {border: 0;clip: rect(1px 1px 1px 1px);clip: rect(1px, 1px, 1px, 1px);height: 1px;margin: -1px;overflow: hidden;padding: 0;position: absolute;width: 1px;}#sk-container-id-5 div.sk-estimator {font-family: monospace;background-color: #f0f8ff;border: 1px dotted black;border-radius: 0.25em;box-sizing: border-box;margin-bottom: 0.5em;}#sk-container-id-5 div.sk-estimator:hover {background-color: #d4ebff;}#sk-container-id-5 div.sk-parallel-item::after {content: \"\";width: 100%;border-bottom: 1px solid gray;flex-grow: 1;}#sk-container-id-5 div.sk-label:hover label.sk-toggleable__label {background-color: #d4ebff;}#sk-container-id-5 div.sk-serial::before {content: \"\";position: absolute;border-left: 1px solid gray;box-sizing: border-box;top: 0;bottom: 0;left: 50%;z-index: 0;}#sk-container-id-5 div.sk-serial {display: flex;flex-direction: column;align-items: center;background-color: white;padding-right: 0.2em;padding-left: 0.2em;position: relative;}#sk-container-id-5 div.sk-item {position: relative;z-index: 1;}#sk-container-id-5 div.sk-parallel {display: flex;align-items: stretch;justify-content: center;background-color: white;position: relative;}#sk-container-id-5 div.sk-item::before, #sk-container-id-5 div.sk-parallel-item::before {content: \"\";position: absolute;border-left: 1px solid gray;box-sizing: border-box;top: 0;bottom: 0;left: 50%;z-index: -1;}#sk-container-id-5 div.sk-parallel-item {display: flex;flex-direction: column;z-index: 1;position: relative;background-color: white;}#sk-container-id-5 div.sk-parallel-item:first-child::after {align-self: flex-end;width: 50%;}#sk-container-id-5 div.sk-parallel-item:last-child::after {align-self: flex-start;width: 50%;}#sk-container-id-5 div.sk-parallel-item:only-child::after {width: 0;}#sk-container-id-5 div.sk-dashed-wrapped {border: 1px dashed gray;margin: 0 0.4em 0.5em 0.4em;box-sizing: border-box;padding-bottom: 0.4em;background-color: white;}#sk-container-id-5 div.sk-label label {font-family: monospace;font-weight: bold;display: inline-block;line-height: 1.2em;}#sk-container-id-5 div.sk-label-container {text-align: center;}#sk-container-id-5 div.sk-container {/* jupyter's `normalize.less` sets `[hidden] { display: none; }` but bootstrap.min.css set `[hidden] { display: none !important; }` so we also need the `!important` here to be able to override the default hidden behavior on the sphinx rendered scikit-learn.org. See: https://github.com/scikit-learn/scikit-learn/issues/21755 */display: inline-block !important;position: relative;}#sk-container-id-5 div.sk-text-repr-fallback {display: none;}</style><div id=\"sk-container-id-5\" class=\"sk-top-container\"><div class=\"sk-text-repr-fallback\"><pre>LinearRegression()</pre><b>In a Jupyter environment, please rerun this cell to show the HTML representation or trust the notebook. <br />On GitHub, the HTML representation is unable to render, please try loading this page with nbviewer.org.</b></div><div class=\"sk-container\" hidden><div class=\"sk-item\"><div class=\"sk-estimator sk-toggleable\"><input class=\"sk-toggleable__control sk-hidden--visually\" id=\"sk-estimator-id-7\" type=\"checkbox\" checked><label for=\"sk-estimator-id-7\" class=\"sk-toggleable__label sk-toggleable__label-arrow\">LinearRegression</label><div class=\"sk-toggleable__content\"><pre>LinearRegression()</pre></div></div></div></div></div>"
            ]
          },
          "metadata": {},
          "execution_count": 100
        }
      ]
    },
    {
      "cell_type": "code",
      "source": [
        "# Linear Regression - Model Evaluation\n",
        "from sklearn.metrics import mean_absolute_error as mae, mean_squared_error as mse, accuracy_score\n",
        "print(\"---- Linear Regression - Model Evaluation ----\")\n",
        "print(\"Mean Absolute Error (MAE): {}\".format(mae(y2,m.predict(x2))))\n",
        "print(\"Mean Squared Error (MSE): {}\".format(mse(y2,m.predict(x2))))\n",
        "print(\"Root Mean Squared Error (RMSE): {}\".format(np.sqrt(mse(y2,m.predict(x2)))))"
      ],
      "metadata": {
        "colab": {
          "base_uri": "https://localhost:8080/"
        },
        "id": "gNo0IOwXRfe2",
        "outputId": "eb7ce310-b9d1-4dd1-c8b8-05c02e784766"
      },
      "id": "gNo0IOwXRfe2",
      "execution_count": 101,
      "outputs": [
        {
          "output_type": "stream",
          "name": "stdout",
          "text": [
            "---- Linear Regression - Model Evaluation ----\n",
            "Mean Absolute Error (MAE): 7.601102941176471\n",
            "Mean Squared Error (MSE): 94.47748161764706\n",
            "Root Mean Squared Error (RMSE): 9.719952757994612\n"
          ]
        }
      ]
    },
    {
      "cell_type": "code",
      "source": [
        "# Decision Tree Regression Model\n",
        "from sklearn.tree import DecisionTreeRegressor\n",
        "decision_regressor = DecisionTreeRegressor()\n",
        "decision_regressor.fit(x1,y1)"
      ],
      "metadata": {
        "colab": {
          "base_uri": "https://localhost:8080/",
          "height": 75
        },
        "id": "MPqW0LYzRrwo",
        "outputId": "e72c2d7f-9b0f-48bf-eca1-e2b67df2cd2b"
      },
      "id": "MPqW0LYzRrwo",
      "execution_count": 102,
      "outputs": [
        {
          "output_type": "execute_result",
          "data": {
            "text/plain": [
              "DecisionTreeRegressor()"
            ],
            "text/html": [
              "<style>#sk-container-id-6 {color: black;background-color: white;}#sk-container-id-6 pre{padding: 0;}#sk-container-id-6 div.sk-toggleable {background-color: white;}#sk-container-id-6 label.sk-toggleable__label {cursor: pointer;display: block;width: 100%;margin-bottom: 0;padding: 0.3em;box-sizing: border-box;text-align: center;}#sk-container-id-6 label.sk-toggleable__label-arrow:before {content: \"▸\";float: left;margin-right: 0.25em;color: #696969;}#sk-container-id-6 label.sk-toggleable__label-arrow:hover:before {color: black;}#sk-container-id-6 div.sk-estimator:hover label.sk-toggleable__label-arrow:before {color: black;}#sk-container-id-6 div.sk-toggleable__content {max-height: 0;max-width: 0;overflow: hidden;text-align: left;background-color: #f0f8ff;}#sk-container-id-6 div.sk-toggleable__content pre {margin: 0.2em;color: black;border-radius: 0.25em;background-color: #f0f8ff;}#sk-container-id-6 input.sk-toggleable__control:checked~div.sk-toggleable__content {max-height: 200px;max-width: 100%;overflow: auto;}#sk-container-id-6 input.sk-toggleable__control:checked~label.sk-toggleable__label-arrow:before {content: \"▾\";}#sk-container-id-6 div.sk-estimator input.sk-toggleable__control:checked~label.sk-toggleable__label {background-color: #d4ebff;}#sk-container-id-6 div.sk-label input.sk-toggleable__control:checked~label.sk-toggleable__label {background-color: #d4ebff;}#sk-container-id-6 input.sk-hidden--visually {border: 0;clip: rect(1px 1px 1px 1px);clip: rect(1px, 1px, 1px, 1px);height: 1px;margin: -1px;overflow: hidden;padding: 0;position: absolute;width: 1px;}#sk-container-id-6 div.sk-estimator {font-family: monospace;background-color: #f0f8ff;border: 1px dotted black;border-radius: 0.25em;box-sizing: border-box;margin-bottom: 0.5em;}#sk-container-id-6 div.sk-estimator:hover {background-color: #d4ebff;}#sk-container-id-6 div.sk-parallel-item::after {content: \"\";width: 100%;border-bottom: 1px solid gray;flex-grow: 1;}#sk-container-id-6 div.sk-label:hover label.sk-toggleable__label {background-color: #d4ebff;}#sk-container-id-6 div.sk-serial::before {content: \"\";position: absolute;border-left: 1px solid gray;box-sizing: border-box;top: 0;bottom: 0;left: 50%;z-index: 0;}#sk-container-id-6 div.sk-serial {display: flex;flex-direction: column;align-items: center;background-color: white;padding-right: 0.2em;padding-left: 0.2em;position: relative;}#sk-container-id-6 div.sk-item {position: relative;z-index: 1;}#sk-container-id-6 div.sk-parallel {display: flex;align-items: stretch;justify-content: center;background-color: white;position: relative;}#sk-container-id-6 div.sk-item::before, #sk-container-id-6 div.sk-parallel-item::before {content: \"\";position: absolute;border-left: 1px solid gray;box-sizing: border-box;top: 0;bottom: 0;left: 50%;z-index: -1;}#sk-container-id-6 div.sk-parallel-item {display: flex;flex-direction: column;z-index: 1;position: relative;background-color: white;}#sk-container-id-6 div.sk-parallel-item:first-child::after {align-self: flex-end;width: 50%;}#sk-container-id-6 div.sk-parallel-item:last-child::after {align-self: flex-start;width: 50%;}#sk-container-id-6 div.sk-parallel-item:only-child::after {width: 0;}#sk-container-id-6 div.sk-dashed-wrapped {border: 1px dashed gray;margin: 0 0.4em 0.5em 0.4em;box-sizing: border-box;padding-bottom: 0.4em;background-color: white;}#sk-container-id-6 div.sk-label label {font-family: monospace;font-weight: bold;display: inline-block;line-height: 1.2em;}#sk-container-id-6 div.sk-label-container {text-align: center;}#sk-container-id-6 div.sk-container {/* jupyter's `normalize.less` sets `[hidden] { display: none; }` but bootstrap.min.css set `[hidden] { display: none !important; }` so we also need the `!important` here to be able to override the default hidden behavior on the sphinx rendered scikit-learn.org. See: https://github.com/scikit-learn/scikit-learn/issues/21755 */display: inline-block !important;position: relative;}#sk-container-id-6 div.sk-text-repr-fallback {display: none;}</style><div id=\"sk-container-id-6\" class=\"sk-top-container\"><div class=\"sk-text-repr-fallback\"><pre>DecisionTreeRegressor()</pre><b>In a Jupyter environment, please rerun this cell to show the HTML representation or trust the notebook. <br />On GitHub, the HTML representation is unable to render, please try loading this page with nbviewer.org.</b></div><div class=\"sk-container\" hidden><div class=\"sk-item\"><div class=\"sk-estimator sk-toggleable\"><input class=\"sk-toggleable__control sk-hidden--visually\" id=\"sk-estimator-id-8\" type=\"checkbox\" checked><label for=\"sk-estimator-id-8\" class=\"sk-toggleable__label sk-toggleable__label-arrow\">DecisionTreeRegressor</label><div class=\"sk-toggleable__content\"><pre>DecisionTreeRegressor()</pre></div></div></div></div></div>"
            ]
          },
          "metadata": {},
          "execution_count": 102
        }
      ]
    },
    {
      "cell_type": "code",
      "source": [
        "# Predicting results\n",
        "y_pred_dt = decision_regressor.predict(x2)\n",
        "\n",
        "\n",
        "# Decision Tree Regression - Model Evaluation\n",
        "print(\"---- Decision Tree Regression - Model Evaluation ----\")\n",
        "print(\"Mean Absolute Error (MAE): {}\".format(mae(y2, y_pred_dt)))\n",
        "print(\"Mean Squared Error (MSE): {}\".format(mse(y2, y_pred_dt)))\n",
        "print(\"Root Mean Squared Error (RMSE): {}\".format(np.sqrt(mse(y2, y_pred_dt))))"
      ],
      "metadata": {
        "id": "vCP1WB8LR8T4",
        "colab": {
          "base_uri": "https://localhost:8080/"
        },
        "outputId": "dfc25e54-cc22-48c8-efc9-81d7b0a3544b"
      },
      "id": "vCP1WB8LR8T4",
      "execution_count": 103,
      "outputs": [
        {
          "output_type": "stream",
          "name": "stdout",
          "text": [
            "---- Decision Tree Regression - Model Evaluation ----\n",
            "Mean Absolute Error (MAE): 8.890730042016807\n",
            "Mean Squared Error (MSE): 138.5496710923953\n",
            "Root Mean Squared Error (RMSE): 11.770712429262526\n"
          ]
        }
      ]
    },
    {
      "cell_type": "code",
      "source": [
        "# Random Forest Regression Model\n",
        "from sklearn.ensemble import RandomForestRegressor\n",
        "random_regressor = RandomForestRegressor()\n",
        "random_regressor.fit(x1,y1)"
      ],
      "metadata": {
        "colab": {
          "base_uri": "https://localhost:8080/",
          "height": 75
        },
        "id": "9Hd_pzL_XsaO",
        "outputId": "da3770a1-10fc-406a-9cfa-3728ecb45c27"
      },
      "id": "9Hd_pzL_XsaO",
      "execution_count": 104,
      "outputs": [
        {
          "output_type": "execute_result",
          "data": {
            "text/plain": [
              "RandomForestRegressor()"
            ],
            "text/html": [
              "<style>#sk-container-id-7 {color: black;background-color: white;}#sk-container-id-7 pre{padding: 0;}#sk-container-id-7 div.sk-toggleable {background-color: white;}#sk-container-id-7 label.sk-toggleable__label {cursor: pointer;display: block;width: 100%;margin-bottom: 0;padding: 0.3em;box-sizing: border-box;text-align: center;}#sk-container-id-7 label.sk-toggleable__label-arrow:before {content: \"▸\";float: left;margin-right: 0.25em;color: #696969;}#sk-container-id-7 label.sk-toggleable__label-arrow:hover:before {color: black;}#sk-container-id-7 div.sk-estimator:hover label.sk-toggleable__label-arrow:before {color: black;}#sk-container-id-7 div.sk-toggleable__content {max-height: 0;max-width: 0;overflow: hidden;text-align: left;background-color: #f0f8ff;}#sk-container-id-7 div.sk-toggleable__content pre {margin: 0.2em;color: black;border-radius: 0.25em;background-color: #f0f8ff;}#sk-container-id-7 input.sk-toggleable__control:checked~div.sk-toggleable__content {max-height: 200px;max-width: 100%;overflow: auto;}#sk-container-id-7 input.sk-toggleable__control:checked~label.sk-toggleable__label-arrow:before {content: \"▾\";}#sk-container-id-7 div.sk-estimator input.sk-toggleable__control:checked~label.sk-toggleable__label {background-color: #d4ebff;}#sk-container-id-7 div.sk-label input.sk-toggleable__control:checked~label.sk-toggleable__label {background-color: #d4ebff;}#sk-container-id-7 input.sk-hidden--visually {border: 0;clip: rect(1px 1px 1px 1px);clip: rect(1px, 1px, 1px, 1px);height: 1px;margin: -1px;overflow: hidden;padding: 0;position: absolute;width: 1px;}#sk-container-id-7 div.sk-estimator {font-family: monospace;background-color: #f0f8ff;border: 1px dotted black;border-radius: 0.25em;box-sizing: border-box;margin-bottom: 0.5em;}#sk-container-id-7 div.sk-estimator:hover {background-color: #d4ebff;}#sk-container-id-7 div.sk-parallel-item::after {content: \"\";width: 100%;border-bottom: 1px solid gray;flex-grow: 1;}#sk-container-id-7 div.sk-label:hover label.sk-toggleable__label {background-color: #d4ebff;}#sk-container-id-7 div.sk-serial::before {content: \"\";position: absolute;border-left: 1px solid gray;box-sizing: border-box;top: 0;bottom: 0;left: 50%;z-index: 0;}#sk-container-id-7 div.sk-serial {display: flex;flex-direction: column;align-items: center;background-color: white;padding-right: 0.2em;padding-left: 0.2em;position: relative;}#sk-container-id-7 div.sk-item {position: relative;z-index: 1;}#sk-container-id-7 div.sk-parallel {display: flex;align-items: stretch;justify-content: center;background-color: white;position: relative;}#sk-container-id-7 div.sk-item::before, #sk-container-id-7 div.sk-parallel-item::before {content: \"\";position: absolute;border-left: 1px solid gray;box-sizing: border-box;top: 0;bottom: 0;left: 50%;z-index: -1;}#sk-container-id-7 div.sk-parallel-item {display: flex;flex-direction: column;z-index: 1;position: relative;background-color: white;}#sk-container-id-7 div.sk-parallel-item:first-child::after {align-self: flex-end;width: 50%;}#sk-container-id-7 div.sk-parallel-item:last-child::after {align-self: flex-start;width: 50%;}#sk-container-id-7 div.sk-parallel-item:only-child::after {width: 0;}#sk-container-id-7 div.sk-dashed-wrapped {border: 1px dashed gray;margin: 0 0.4em 0.5em 0.4em;box-sizing: border-box;padding-bottom: 0.4em;background-color: white;}#sk-container-id-7 div.sk-label label {font-family: monospace;font-weight: bold;display: inline-block;line-height: 1.2em;}#sk-container-id-7 div.sk-label-container {text-align: center;}#sk-container-id-7 div.sk-container {/* jupyter's `normalize.less` sets `[hidden] { display: none; }` but bootstrap.min.css set `[hidden] { display: none !important; }` so we also need the `!important` here to be able to override the default hidden behavior on the sphinx rendered scikit-learn.org. See: https://github.com/scikit-learn/scikit-learn/issues/21755 */display: inline-block !important;position: relative;}#sk-container-id-7 div.sk-text-repr-fallback {display: none;}</style><div id=\"sk-container-id-7\" class=\"sk-top-container\"><div class=\"sk-text-repr-fallback\"><pre>RandomForestRegressor()</pre><b>In a Jupyter environment, please rerun this cell to show the HTML representation or trust the notebook. <br />On GitHub, the HTML representation is unable to render, please try loading this page with nbviewer.org.</b></div><div class=\"sk-container\" hidden><div class=\"sk-item\"><div class=\"sk-estimator sk-toggleable\"><input class=\"sk-toggleable__control sk-hidden--visually\" id=\"sk-estimator-id-9\" type=\"checkbox\" checked><label for=\"sk-estimator-id-9\" class=\"sk-toggleable__label sk-toggleable__label-arrow\">RandomForestRegressor</label><div class=\"sk-toggleable__content\"><pre>RandomForestRegressor()</pre></div></div></div></div></div>"
            ]
          },
          "metadata": {},
          "execution_count": 104
        }
      ]
    },
    {
      "cell_type": "code",
      "source": [
        "# Predicting results\n",
        "y_pred_rf = random_regressor.predict(x2)\n",
        "\n",
        "\n",
        "# Random Forest Regression - Model Evaluation\n",
        "print(\"---- Random Forest Regression - Model Evaluation ----\")\n",
        "print(\"Mean Absolute Error (MAE): {}\".format(mae(y2, y_pred_rf)))\n",
        "print(\"Mean Squared Error (MSE): {}\".format(mse(y2, y_pred_rf)))\n",
        "print(\"Root Mean Squared Error (RMSE): {}\".format(np.sqrt(mse(y2, y_pred_rf))))\n",
        ""
      ],
      "metadata": {
        "colab": {
          "base_uri": "https://localhost:8080/"
        },
        "id": "f2_awvCAX-5g",
        "outputId": "bc238563-a11c-4e92-bea7-fa6db852327e"
      },
      "id": "f2_awvCAX-5g",
      "execution_count": 105,
      "outputs": [
        {
          "output_type": "stream",
          "name": "stdout",
          "text": [
            "---- Random Forest Regression - Model Evaluation ----\n",
            "Mean Absolute Error (MAE): 8.488243702485972\n",
            "Mean Squared Error (MSE): 122.66321761960768\n",
            "Root Mean Squared Error (RMSE): 11.075342776619046\n"
          ]
        }
      ]
    },
    {
      "cell_type": "markdown",
      "source": [
        "Note: Since Linear Regression model performs best as compared to other two, we use this model and boost it's performance using AdaBoost Algorithm"
      ],
      "metadata": {
        "id": "7GdTxh5sYa_l"
      },
      "id": "7GdTxh5sYa_l"
    },
    {
      "cell_type": "code",
      "source": [
        "# AdaBoost Model using Linear Regression as the base learner\n",
        "from sklearn.ensemble import AdaBoostRegressor\n",
        "adb_regressor = AdaBoostRegressor(base_estimator=m, n_estimators=100)\n",
        "adb_regressor.fit(x1, y1)"
      ],
      "metadata": {
        "colab": {
          "base_uri": "https://localhost:8080/",
          "height": 172
        },
        "id": "7CYoEMLdYPUT",
        "outputId": "b2283498-64fb-44cf-ba2e-1502c65fbf98"
      },
      "id": "7CYoEMLdYPUT",
      "execution_count": 106,
      "outputs": [
        {
          "output_type": "stream",
          "name": "stderr",
          "text": [
            "/usr/local/lib/python3.10/dist-packages/sklearn/ensemble/_base.py:166: FutureWarning: `base_estimator` was renamed to `estimator` in version 1.2 and will be removed in 1.4.\n",
            "  warnings.warn(\n"
          ]
        },
        {
          "output_type": "execute_result",
          "data": {
            "text/plain": [
              "AdaBoostRegressor(base_estimator=LinearRegression(), n_estimators=100)"
            ],
            "text/html": [
              "<style>#sk-container-id-8 {color: black;background-color: white;}#sk-container-id-8 pre{padding: 0;}#sk-container-id-8 div.sk-toggleable {background-color: white;}#sk-container-id-8 label.sk-toggleable__label {cursor: pointer;display: block;width: 100%;margin-bottom: 0;padding: 0.3em;box-sizing: border-box;text-align: center;}#sk-container-id-8 label.sk-toggleable__label-arrow:before {content: \"▸\";float: left;margin-right: 0.25em;color: #696969;}#sk-container-id-8 label.sk-toggleable__label-arrow:hover:before {color: black;}#sk-container-id-8 div.sk-estimator:hover label.sk-toggleable__label-arrow:before {color: black;}#sk-container-id-8 div.sk-toggleable__content {max-height: 0;max-width: 0;overflow: hidden;text-align: left;background-color: #f0f8ff;}#sk-container-id-8 div.sk-toggleable__content pre {margin: 0.2em;color: black;border-radius: 0.25em;background-color: #f0f8ff;}#sk-container-id-8 input.sk-toggleable__control:checked~div.sk-toggleable__content {max-height: 200px;max-width: 100%;overflow: auto;}#sk-container-id-8 input.sk-toggleable__control:checked~label.sk-toggleable__label-arrow:before {content: \"▾\";}#sk-container-id-8 div.sk-estimator input.sk-toggleable__control:checked~label.sk-toggleable__label {background-color: #d4ebff;}#sk-container-id-8 div.sk-label input.sk-toggleable__control:checked~label.sk-toggleable__label {background-color: #d4ebff;}#sk-container-id-8 input.sk-hidden--visually {border: 0;clip: rect(1px 1px 1px 1px);clip: rect(1px, 1px, 1px, 1px);height: 1px;margin: -1px;overflow: hidden;padding: 0;position: absolute;width: 1px;}#sk-container-id-8 div.sk-estimator {font-family: monospace;background-color: #f0f8ff;border: 1px dotted black;border-radius: 0.25em;box-sizing: border-box;margin-bottom: 0.5em;}#sk-container-id-8 div.sk-estimator:hover {background-color: #d4ebff;}#sk-container-id-8 div.sk-parallel-item::after {content: \"\";width: 100%;border-bottom: 1px solid gray;flex-grow: 1;}#sk-container-id-8 div.sk-label:hover label.sk-toggleable__label {background-color: #d4ebff;}#sk-container-id-8 div.sk-serial::before {content: \"\";position: absolute;border-left: 1px solid gray;box-sizing: border-box;top: 0;bottom: 0;left: 50%;z-index: 0;}#sk-container-id-8 div.sk-serial {display: flex;flex-direction: column;align-items: center;background-color: white;padding-right: 0.2em;padding-left: 0.2em;position: relative;}#sk-container-id-8 div.sk-item {position: relative;z-index: 1;}#sk-container-id-8 div.sk-parallel {display: flex;align-items: stretch;justify-content: center;background-color: white;position: relative;}#sk-container-id-8 div.sk-item::before, #sk-container-id-8 div.sk-parallel-item::before {content: \"\";position: absolute;border-left: 1px solid gray;box-sizing: border-box;top: 0;bottom: 0;left: 50%;z-index: -1;}#sk-container-id-8 div.sk-parallel-item {display: flex;flex-direction: column;z-index: 1;position: relative;background-color: white;}#sk-container-id-8 div.sk-parallel-item:first-child::after {align-self: flex-end;width: 50%;}#sk-container-id-8 div.sk-parallel-item:last-child::after {align-self: flex-start;width: 50%;}#sk-container-id-8 div.sk-parallel-item:only-child::after {width: 0;}#sk-container-id-8 div.sk-dashed-wrapped {border: 1px dashed gray;margin: 0 0.4em 0.5em 0.4em;box-sizing: border-box;padding-bottom: 0.4em;background-color: white;}#sk-container-id-8 div.sk-label label {font-family: monospace;font-weight: bold;display: inline-block;line-height: 1.2em;}#sk-container-id-8 div.sk-label-container {text-align: center;}#sk-container-id-8 div.sk-container {/* jupyter's `normalize.less` sets `[hidden] { display: none; }` but bootstrap.min.css set `[hidden] { display: none !important; }` so we also need the `!important` here to be able to override the default hidden behavior on the sphinx rendered scikit-learn.org. See: https://github.com/scikit-learn/scikit-learn/issues/21755 */display: inline-block !important;position: relative;}#sk-container-id-8 div.sk-text-repr-fallback {display: none;}</style><div id=\"sk-container-id-8\" class=\"sk-top-container\"><div class=\"sk-text-repr-fallback\"><pre>AdaBoostRegressor(base_estimator=LinearRegression(), n_estimators=100)</pre><b>In a Jupyter environment, please rerun this cell to show the HTML representation or trust the notebook. <br />On GitHub, the HTML representation is unable to render, please try loading this page with nbviewer.org.</b></div><div class=\"sk-container\" hidden><div class=\"sk-item sk-dashed-wrapped\"><div class=\"sk-label-container\"><div class=\"sk-label sk-toggleable\"><input class=\"sk-toggleable__control sk-hidden--visually\" id=\"sk-estimator-id-10\" type=\"checkbox\" ><label for=\"sk-estimator-id-10\" class=\"sk-toggleable__label sk-toggleable__label-arrow\">AdaBoostRegressor</label><div class=\"sk-toggleable__content\"><pre>AdaBoostRegressor(base_estimator=LinearRegression(), n_estimators=100)</pre></div></div></div><div class=\"sk-parallel\"><div class=\"sk-parallel-item\"><div class=\"sk-item\"><div class=\"sk-label-container\"><div class=\"sk-label sk-toggleable\"><input class=\"sk-toggleable__control sk-hidden--visually\" id=\"sk-estimator-id-11\" type=\"checkbox\" ><label for=\"sk-estimator-id-11\" class=\"sk-toggleable__label sk-toggleable__label-arrow\">base_estimator: LinearRegression</label><div class=\"sk-toggleable__content\"><pre>LinearRegression()</pre></div></div></div><div class=\"sk-serial\"><div class=\"sk-item\"><div class=\"sk-estimator sk-toggleable\"><input class=\"sk-toggleable__control sk-hidden--visually\" id=\"sk-estimator-id-12\" type=\"checkbox\" ><label for=\"sk-estimator-id-12\" class=\"sk-toggleable__label sk-toggleable__label-arrow\">LinearRegression</label><div class=\"sk-toggleable__content\"><pre>LinearRegression()</pre></div></div></div></div></div></div></div></div></div></div>"
            ]
          },
          "metadata": {},
          "execution_count": 106
        }
      ]
    },
    {
      "cell_type": "code",
      "source": [
        "# Predicting results\n",
        "y_pred_adb = adb_regressor.predict(x2)\n",
        "\n",
        "\n",
        "# AdaBoost Regression - Model Evaluation\n",
        "print(\"---- AdaBoost Regression - Model Evaluation ----\")\n",
        "print(\"Mean Absolute Error (MAE): {}\".format(mae(y2, y_pred_adb)))\n",
        "print(\"Mean Squared Error (MSE): {}\".format(mse(y2, y_pred_adb)))\n",
        "print(\"Root Mean Squared Error (RMSE): {}\".format(np.sqrt(mse(y2, y_pred_adb))))"
      ],
      "metadata": {
        "colab": {
          "base_uri": "https://localhost:8080/"
        },
        "id": "UUliJnrrYyd_",
        "outputId": "c6778f58-95d1-4291-d944-375d9492e10c"
      },
      "id": "UUliJnrrYyd_",
      "execution_count": 107,
      "outputs": [
        {
          "output_type": "stream",
          "name": "stdout",
          "text": [
            "---- AdaBoost Regression - Model Evaluation ----\n",
            "Mean Absolute Error (MAE): 7.9140625\n",
            "Mean Squared Error (MSE): 97.47561465992646\n",
            "Root Mean Squared Error (RMSE): 9.872973952154764\n"
          ]
        }
      ]
    },
    {
      "cell_type": "code",
      "source": [],
      "metadata": {
        "id": "bvmGSdwfZjKG"
      },
      "id": "bvmGSdwfZjKG",
      "execution_count": 107,
      "outputs": []
    }
  ],
  "metadata": {
    "colab": {
      "provenance": []
    },
    "kernelspec": {
      "display_name": "Python 3 (ipykernel)",
      "language": "python",
      "name": "python3"
    },
    "language_info": {
      "codemirror_mode": {
        "name": "ipython",
        "version": 3
      },
      "file_extension": ".py",
      "mimetype": "text/x-python",
      "name": "python",
      "nbconvert_exporter": "python",
      "pygments_lexer": "ipython3",
      "version": "3.9.12"
    }
  },
  "nbformat": 4,
  "nbformat_minor": 5
}