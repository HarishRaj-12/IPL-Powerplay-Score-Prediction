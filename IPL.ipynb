{
  "cells": [
    {
      "cell_type": "code",
      "execution_count": 2,
      "id": "0m67RaDX6N6l",
      "metadata": {
        "id": "0m67RaDX6N6l"
      },
      "outputs": [],
      "source": [
        "import tensorflow as tf\n",
        "from tensorflow import keras\n",
        "import numpy as np\n",
        "import pandas as pd\n",
        "import seaborn as sns\n",
        "import matplotlib.pyplot as plt"
      ]
    },
    {
      "cell_type": "code",
      "execution_count": 3,
      "id": "4pbbasTWMdX1",
      "metadata": {
        "colab": {
          "base_uri": "https://localhost:8080/"
        },
        "id": "4pbbasTWMdX1",
        "outputId": "409e3fe9-1af3-46cd-b315-2409c9f8f166"
      },
      "outputs": [],
      "source": [
        "# from google.colab import drive\n",
        "# drive.mount('/content/drive')"
      ]
    },
    {
      "cell_type": "code",
      "execution_count": 4,
      "id": "ryDlmBh57LsM",
      "metadata": {
        "id": "ryDlmBh57LsM"
      },
      "outputs": [],
      "source": [
        "iplbb=pd.read_csv(\"./IPL_Ball_by_Ball_2008_2022.csv\")"
      ]
    },
    {
      "cell_type": "code",
      "execution_count": 5,
      "id": "RG5LbG_SwzeZ",
      "metadata": {
        "colab": {
          "base_uri": "https://localhost:8080/",
          "height": 461
        },
        "id": "RG5LbG_SwzeZ",
        "outputId": "422097c2-27b8-4a9b-a72d-83eabfde80b9"
      },
      "outputs": [
        {
          "data": {
            "text/html": [
              "<div>\n",
              "<style scoped>\n",
              "    .dataframe tbody tr th:only-of-type {\n",
              "        vertical-align: middle;\n",
              "    }\n",
              "\n",
              "    .dataframe tbody tr th {\n",
              "        vertical-align: top;\n",
              "    }\n",
              "\n",
              "    .dataframe thead th {\n",
              "        text-align: right;\n",
              "    }\n",
              "</style>\n",
              "<table border=\"1\" class=\"dataframe\">\n",
              "  <thead>\n",
              "    <tr style=\"text-align: right;\">\n",
              "      <th></th>\n",
              "      <th>ID</th>\n",
              "      <th>innings</th>\n",
              "      <th>overs</th>\n",
              "      <th>ballnumber</th>\n",
              "      <th>batter</th>\n",
              "      <th>bowler</th>\n",
              "      <th>non-striker</th>\n",
              "      <th>extra_type</th>\n",
              "      <th>batsman_run</th>\n",
              "      <th>extras_run</th>\n",
              "      <th>total_run</th>\n",
              "      <th>non_boundary</th>\n",
              "      <th>isWicketDelivery</th>\n",
              "      <th>player_out</th>\n",
              "      <th>kind</th>\n",
              "      <th>fielders_involved</th>\n",
              "      <th>BattingTeam</th>\n",
              "    </tr>\n",
              "  </thead>\n",
              "  <tbody>\n",
              "    <tr>\n",
              "      <th>225949</th>\n",
              "      <td>335982</td>\n",
              "      <td>2</td>\n",
              "      <td>14</td>\n",
              "      <td>5</td>\n",
              "      <td>P Kumar</td>\n",
              "      <td>I Sharma</td>\n",
              "      <td>SB Joshi</td>\n",
              "      <td>legbyes</td>\n",
              "      <td>0</td>\n",
              "      <td>1</td>\n",
              "      <td>1</td>\n",
              "      <td>0</td>\n",
              "      <td>0</td>\n",
              "      <td>NaN</td>\n",
              "      <td>NaN</td>\n",
              "      <td>NaN</td>\n",
              "      <td>Royal Challengers Bangalore</td>\n",
              "    </tr>\n",
              "    <tr>\n",
              "      <th>225950</th>\n",
              "      <td>335982</td>\n",
              "      <td>2</td>\n",
              "      <td>14</td>\n",
              "      <td>6</td>\n",
              "      <td>SB Joshi</td>\n",
              "      <td>I Sharma</td>\n",
              "      <td>P Kumar</td>\n",
              "      <td>NaN</td>\n",
              "      <td>1</td>\n",
              "      <td>0</td>\n",
              "      <td>1</td>\n",
              "      <td>0</td>\n",
              "      <td>0</td>\n",
              "      <td>NaN</td>\n",
              "      <td>NaN</td>\n",
              "      <td>NaN</td>\n",
              "      <td>Royal Challengers Bangalore</td>\n",
              "    </tr>\n",
              "    <tr>\n",
              "      <th>225951</th>\n",
              "      <td>335982</td>\n",
              "      <td>2</td>\n",
              "      <td>14</td>\n",
              "      <td>7</td>\n",
              "      <td>P Kumar</td>\n",
              "      <td>I Sharma</td>\n",
              "      <td>SB Joshi</td>\n",
              "      <td>NaN</td>\n",
              "      <td>0</td>\n",
              "      <td>0</td>\n",
              "      <td>0</td>\n",
              "      <td>0</td>\n",
              "      <td>0</td>\n",
              "      <td>NaN</td>\n",
              "      <td>NaN</td>\n",
              "      <td>NaN</td>\n",
              "      <td>Royal Challengers Bangalore</td>\n",
              "    </tr>\n",
              "    <tr>\n",
              "      <th>225952</th>\n",
              "      <td>335982</td>\n",
              "      <td>2</td>\n",
              "      <td>15</td>\n",
              "      <td>1</td>\n",
              "      <td>SB Joshi</td>\n",
              "      <td>LR Shukla</td>\n",
              "      <td>P Kumar</td>\n",
              "      <td>wides</td>\n",
              "      <td>0</td>\n",
              "      <td>1</td>\n",
              "      <td>1</td>\n",
              "      <td>0</td>\n",
              "      <td>0</td>\n",
              "      <td>NaN</td>\n",
              "      <td>NaN</td>\n",
              "      <td>NaN</td>\n",
              "      <td>Royal Challengers Bangalore</td>\n",
              "    </tr>\n",
              "    <tr>\n",
              "      <th>225953</th>\n",
              "      <td>335982</td>\n",
              "      <td>2</td>\n",
              "      <td>15</td>\n",
              "      <td>2</td>\n",
              "      <td>SB Joshi</td>\n",
              "      <td>LR Shukla</td>\n",
              "      <td>P Kumar</td>\n",
              "      <td>NaN</td>\n",
              "      <td>0</td>\n",
              "      <td>0</td>\n",
              "      <td>0</td>\n",
              "      <td>0</td>\n",
              "      <td>1</td>\n",
              "      <td>SB Joshi</td>\n",
              "      <td>caught</td>\n",
              "      <td>BB McCullum</td>\n",
              "      <td>Royal Challengers Bangalore</td>\n",
              "    </tr>\n",
              "  </tbody>\n",
              "</table>\n",
              "</div>"
            ],
            "text/plain": [
              "            ID  innings  overs  ballnumber    batter     bowler non-striker  \\\n",
              "225949  335982        2     14           5   P Kumar   I Sharma    SB Joshi   \n",
              "225950  335982        2     14           6  SB Joshi   I Sharma     P Kumar   \n",
              "225951  335982        2     14           7   P Kumar   I Sharma    SB Joshi   \n",
              "225952  335982        2     15           1  SB Joshi  LR Shukla     P Kumar   \n",
              "225953  335982        2     15           2  SB Joshi  LR Shukla     P Kumar   \n",
              "\n",
              "       extra_type  batsman_run  extras_run  total_run  non_boundary  \\\n",
              "225949    legbyes            0           1          1             0   \n",
              "225950        NaN            1           0          1             0   \n",
              "225951        NaN            0           0          0             0   \n",
              "225952      wides            0           1          1             0   \n",
              "225953        NaN            0           0          0             0   \n",
              "\n",
              "        isWicketDelivery player_out    kind fielders_involved  \\\n",
              "225949                 0        NaN     NaN               NaN   \n",
              "225950                 0        NaN     NaN               NaN   \n",
              "225951                 0        NaN     NaN               NaN   \n",
              "225952                 0        NaN     NaN               NaN   \n",
              "225953                 1   SB Joshi  caught       BB McCullum   \n",
              "\n",
              "                        BattingTeam  \n",
              "225949  Royal Challengers Bangalore  \n",
              "225950  Royal Challengers Bangalore  \n",
              "225951  Royal Challengers Bangalore  \n",
              "225952  Royal Challengers Bangalore  \n",
              "225953  Royal Challengers Bangalore  "
            ]
          },
          "execution_count": 5,
          "metadata": {},
          "output_type": "execute_result"
        }
      ],
      "source": [
        "iplbb.tail()"
      ]
    },
    {
      "cell_type": "code",
      "execution_count": 6,
      "id": "spugrK6uyk7v",
      "metadata": {
        "id": "spugrK6uyk7v"
      },
      "outputs": [],
      "source": [
        "players=sorted(iplbb.batter.unique())"
      ]
    },
    {
      "cell_type": "code",
      "execution_count": 7,
      "id": "NeoxAqItzE4q",
      "metadata": {
        "colab": {
          "base_uri": "https://localhost:8080/"
        },
        "id": "NeoxAqItzE4q",
        "outputId": "810d0b7e-3e61-49be-aa0b-58b1298d6db3"
      },
      "outputs": [
        {
          "name": "stdout",
          "output_type": "stream",
          "text": [
            "<class 'pandas.core.frame.DataFrame'>\n",
            "RangeIndex: 225954 entries, 0 to 225953\n",
            "Data columns (total 17 columns):\n",
            " #   Column             Non-Null Count   Dtype \n",
            "---  ------             --------------   ----- \n",
            " 0   ID                 225954 non-null  int64 \n",
            " 1   innings            225954 non-null  int64 \n",
            " 2   overs              225954 non-null  int64 \n",
            " 3   ballnumber         225954 non-null  int64 \n",
            " 4   batter             225954 non-null  object\n",
            " 5   bowler             225954 non-null  object\n",
            " 6   non-striker        225954 non-null  object\n",
            " 7   extra_type         12049 non-null   object\n",
            " 8   batsman_run        225954 non-null  int64 \n",
            " 9   extras_run         225954 non-null  int64 \n",
            " 10  total_run          225954 non-null  int64 \n",
            " 11  non_boundary       225954 non-null  int64 \n",
            " 12  isWicketDelivery   225954 non-null  int64 \n",
            " 13  player_out         11151 non-null   object\n",
            " 14  kind               11151 non-null   object\n",
            " 15  fielders_involved  7988 non-null    object\n",
            " 16  BattingTeam        225954 non-null  object\n",
            "dtypes: int64(9), object(8)\n",
            "memory usage: 29.3+ MB\n"
          ]
        }
      ],
      "source": [
        "iplbb.info()"
      ]
    },
    {
      "cell_type": "code",
      "execution_count": 8,
      "id": "0kQQkvBBzQkP",
      "metadata": {
        "id": "0kQQkvBBzQkP"
      },
      "outputs": [],
      "source": [
        "# iplbb['ID'].unique()"
      ]
    },
    {
      "cell_type": "code",
      "execution_count": 9,
      "id": "44lSmtVv04Mm",
      "metadata": {
        "id": "44lSmtVv04Mm"
      },
      "outputs": [],
      "source": [
        "def batsman30plus(batsman):\n",
        "  b=iplbb[iplbb['batter']==batsman]\n",
        "  d=b.groupby(['ID'])['batsman_run'].sum().reset_index()\n",
        "  return len(d[d.batsman_run>30])"
      ]
    },
    {
      "cell_type": "code",
      "execution_count": 10,
      "id": "hS50qCx7-n-J",
      "metadata": {
        "colab": {
          "base_uri": "https://localhost:8080/"
        },
        "id": "hS50qCx7-n-J",
        "outputId": "927e8c85-c021-4f94-eb8d-9ee591a44d9a"
      },
      "outputs": [
        {
          "name": "stdout",
          "output_type": "stream",
          "text": [
            "93\n"
          ]
        }
      ],
      "source": [
        "print(batsman30plus(\"V Kohli\"))"
      ]
    },
    {
      "cell_type": "code",
      "execution_count": 11,
      "id": "fswa8zqeStbN",
      "metadata": {
        "colab": {
          "base_uri": "https://localhost:8080/",
          "height": 788
        },
        "id": "fswa8zqeStbN",
        "outputId": "17e5f2de-51d1-40cb-9cec-952718a498a7"
      },
      "outputs": [
        {
          "ename": "AttributeError",
          "evalue": "'AxesSubplot' object has no attribute 'bar_label'",
          "output_type": "error",
          "traceback": [
            "\u001b[1;31m---------------------------------------------------------------------------\u001b[0m",
            "\u001b[1;31mAttributeError\u001b[0m                            Traceback (most recent call last)",
            "\u001b[1;32m<ipython-input-11-f13ed6cbafbc>\u001b[0m in \u001b[0;36m<module>\u001b[1;34m\u001b[0m\n\u001b[0;32m     10\u001b[0m \u001b[0mplt\u001b[0m\u001b[1;33m.\u001b[0m\u001b[0mtitle\u001b[0m\u001b[1;33m(\u001b[0m\u001b[1;34m\" No. of 30+ scores of Batsmans\"\u001b[0m\u001b[1;33m)\u001b[0m\u001b[1;33m\u001b[0m\u001b[1;33m\u001b[0m\u001b[0m\n\u001b[0;32m     11\u001b[0m \u001b[0msns\u001b[0m\u001b[1;33m.\u001b[0m\u001b[0mbarplot\u001b[0m\u001b[1;33m(\u001b[0m\u001b[0mx\u001b[0m\u001b[1;33m=\u001b[0m\u001b[0mbatsman\u001b[0m\u001b[1;33m,\u001b[0m\u001b[0my\u001b[0m\u001b[1;33m=\u001b[0m\u001b[0mplus30\u001b[0m\u001b[1;33m,\u001b[0m\u001b[0max\u001b[0m\u001b[1;33m=\u001b[0m\u001b[0max\u001b[0m\u001b[1;33m,\u001b[0m\u001b[0merrwidth\u001b[0m\u001b[1;33m=\u001b[0m\u001b[1;36m0\u001b[0m\u001b[1;33m)\u001b[0m\u001b[1;33m\u001b[0m\u001b[1;33m\u001b[0m\u001b[0m\n\u001b[1;32m---> 12\u001b[1;33m \u001b[0max\u001b[0m\u001b[1;33m.\u001b[0m\u001b[0mbar_label\u001b[0m\u001b[1;33m(\u001b[0m\u001b[0max\u001b[0m\u001b[1;33m.\u001b[0m\u001b[0mcontainers\u001b[0m\u001b[1;33m[\u001b[0m\u001b[1;36m0\u001b[0m\u001b[1;33m]\u001b[0m\u001b[1;33m)\u001b[0m\u001b[1;33m\u001b[0m\u001b[1;33m\u001b[0m\u001b[0m\n\u001b[0m",
            "\u001b[1;31mAttributeError\u001b[0m: 'AxesSubplot' object has no attribute 'bar_label'"
          ]
        },
        {
          "data": {
            "image/png": "[encoded data removed]",
            "text/plain": [
              "<Figure size 1008x432 with 1 Axes>"
            ]
          },
          "metadata": {
            "needs_background": "light"
          },
          "output_type": "display_data"
        }
      ],
      "source": [
        "plus30=[]\n",
        "batsman=[]\n",
        "for i in players:\n",
        "  r=batsman30plus(i)\n",
        "  if r>50:\n",
        "    plus30.append(r)\n",
        "    batsman.append(i)\n",
        "# df30plus=pd.DataFrame(batsman,plus30)\n",
        "fig, ax = plt.subplots(figsize=(14, 6))\n",
        "plt.title(\" No. of 30+ scores of Batsmans\")\n",
        "sns.barplot(x=batsman,y=plus30,ax=ax,errwidth=0)\n",
        "ax.bar_label(ax.containers[0])"
      ]
    },
    {
      "cell_type": "code",
      "execution_count": null,
      "id": "BUFqScjETgIb",
      "metadata": {
        "id": "BUFqScjETgIb"
      },
      "outputs": [],
      "source": [
        "# df30plus"
      ]
    },
    {
      "cell_type": "code",
      "execution_count": null,
      "id": "govUf2OxT8lP",
      "metadata": {
        "id": "govUf2OxT8lP"
      },
      "outputs": [],
      "source": [
        "def wickettakers(batter):\n",
        "  d=[]\n",
        "  b=iplbb[iplbb['batter']==batter]\n",
        "  b.drop(b[b['isWicketDelivery'] == 0].index, inplace = True)\n",
        "  w=[]\n",
        "  for i in b.bowler:\n",
        "    d.append(i)\n",
        "  print(w)\n",
        "  bowl=set(list(d))\n",
        "  for i in bowl:\n",
        "    w.append(d.count(i))\n",
        "  df=pd.DataFrame(list(zip(bowl,w)),columns=['bowlers','no.of Wickets'])\n",
        "  h=df[df['no.of Wickets']>3]\n",
        "  fig, ax = plt.subplots(figsize=(14, 6))\n",
        "  plt.title(\"{} wicket takers\".format(batter))\n",
        "  sns.barplot(x=h.bowlers,y=h['no.of Wickets'],ax=ax)\n",
        "  ax.bar_label(ax.containers[0])"
      ]
    },
    {
      "cell_type": "code",
      "execution_count": null,
      "id": "A_zOUCETea2A",
      "metadata": {
        "colab": {
          "base_uri": "https://localhost:8080/",
          "height": 668
        },
        "id": "A_zOUCETea2A",
        "outputId": "d67c6253-f20e-47b1-cd7e-ab81afa540e3"
      },
      "outputs": [
        {
          "name": "stderr",
          "output_type": "stream",
          "text": [
            "<ipython-input-16-b6b1d0b7914f>:4: SettingWithCopyWarning: \n",
            "A value is trying to be set on a copy of a slice from a DataFrame\n",
            "\n",
            "See the caveats in the documentation: https://pandas.pydata.org/pandas-docs/stable/user_guide/indexing.html#returning-a-view-versus-a-copy\n",
            "  b.drop(b[b['isWicketDelivery'] == 0].index, inplace = True)\n"
          ]
        },
        {
          "name": "stdout",
          "output_type": "stream",
          "text": [
            "[]\n"
          ]
        },
        {
          "data": {
            "image/png": "[encoded data removed]",
            "text/plain": [
              "<Figure size 1400x600 with 1 Axes>"
            ]
          },
          "metadata": {},
          "output_type": "display_data"
        }
      ],
      "source": [
        "wickettakers(\"V Kohli\")"
      ]
    },
    {
      "cell_type": "code",
      "execution_count": null,
      "id": "PqIlYT5fW6rt",
      "metadata": {
        "id": "PqIlYT5fW6rt"
      },
      "outputs": [],
      "source": [
        "# matchresult.sample(1)"
      ]
    },
    {
      "cell_type": "code",
      "execution_count": 12,
      "id": "rVFlwld-HhnR",
      "metadata": {
        "colab": {
          "base_uri": "https://localhost:8080/"
        },
        "id": "rVFlwld-HhnR",
        "outputId": "0a6815c1-d5be-47ee-f871-1d013f32eb70"
      },
      "outputs": [
        {
          "data": {
            "text/plain": [
              "array(['Rajasthan Royals', 'Gujarat Titans',\n",
              "       'Royal Challengers Bangalore', 'Lucknow Super Giants',\n",
              "       'Sunrisers Hyderabad', 'Punjab Kings', 'Delhi Capitals',\n",
              "       'Mumbai Indians', 'Chennai Super Kings', 'Kolkata Knight Riders',\n",
              "       'Kings XI Punjab', 'Delhi Daredevils', 'Rising Pune Supergiant',\n",
              "       'Gujarat Lions', 'Rising Pune Supergiants', 'Pune Warriors',\n",
              "       'Deccan Chargers', 'Kochi Tuskers Kerala'], dtype=object)"
            ]
          },
          "execution_count": 12,
          "metadata": {},
          "output_type": "execute_result"
        }
      ],
      "source": [
        "iplbb['BattingTeam'].unique()"
      ]
    },
    {
      "cell_type": "code",
      "execution_count": 13,
      "id": "0FBxblDDKElg",
      "metadata": {
        "id": "0FBxblDDKElg"
      },
      "outputs": [],
      "source": [
        "not_present_team=['Rising Pune Supergiant',\n",
        "       'Gujarat Lions', 'Rising Pune Supergiants', 'Pune Warriors',\n",
        "       'Deccan Chargers', 'Kochi Tuskers Kerala','Gujarat Titans','Lucknow Super Giants']\n",
        "iplbb_pre=iplbb\n",
        "for team in not_present_team:\n",
        "  iplbb_pre.drop(iplbb[iplbb['BattingTeam']==team].index,inplace=True)"
      ]
    },
    {
      "cell_type": "code",
      "execution_count": 14,
      "id": "ITJehac7KNHc",
      "metadata": {
        "colab": {
          "base_uri": "https://localhost:8080/"
        },
        "id": "ITJehac7KNHc",
        "outputId": "09a256e1-2bee-4c4e-cb01-47dbb3b176b0"
      },
      "outputs": [
        {
          "data": {
            "text/plain": [
              "array(['Rajasthan Royals', 'Royal Challengers Bangalore',\n",
              "       'Sunrisers Hyderabad', 'Punjab Kings', 'Delhi Capitals',\n",
              "       'Mumbai Indians', 'Chennai Super Kings', 'Kolkata Knight Riders',\n",
              "       'Kings XI Punjab', 'Delhi Daredevils'], dtype=object)"
            ]
          },
          "execution_count": 14,
          "metadata": {},
          "output_type": "execute_result"
        }
      ],
      "source": [
        "iplbb_pre['BattingTeam'].unique()"
      ]
    },
    {
      "cell_type": "code",
      "execution_count": 15,
      "id": "1IUZ5hQyLVnn",
      "metadata": {
        "id": "1IUZ5hQyLVnn"
      },
      "outputs": [],
      "source": [
        "iplbb_pre.replace('Delhi Daredevils','Delhi Capitals',inplace=True)\n",
        "iplbb_pre.replace('Kings XI Punjab','Punjab Kings',inplace=True)\n"
      ]
    },
    {
      "cell_type": "code",
      "execution_count": 16,
      "id": "xiHVvfhDNPx6",
      "metadata": {
        "colab": {
          "base_uri": "https://localhost:8080/"
        },
        "id": "xiHVvfhDNPx6",
        "outputId": "c29fee4b-fd42-4bab-8131-8b4279de7f51"
      },
      "outputs": [
        {
          "data": {
            "text/plain": [
              "array(['Rajasthan Royals', 'Royal Challengers Bangalore',\n",
              "       'Sunrisers Hyderabad', 'Punjab Kings', 'Delhi Capitals',\n",
              "       'Mumbai Indians', 'Chennai Super Kings', 'Kolkata Knight Riders'],\n",
              "      dtype=object)"
            ]
          },
          "execution_count": 16,
          "metadata": {},
          "output_type": "execute_result"
        }
      ],
      "source": [
        "iplbb_pre.BattingTeam.unique()"
      ]
    },
    {
      "cell_type": "code",
      "execution_count": 17,
      "id": "MdqcjVNhNnnr",
      "metadata": {
        "colab": {
          "base_uri": "https://localhost:8080/",
          "height": 409
        },
        "id": "MdqcjVNhNnnr",
        "outputId": "d9f49bb0-c08a-40f0-dba8-e15802cc2a57"
      },
      "outputs": [
        {
          "data": {
            "text/html": [
              "<div>\n",
              "<style scoped>\n",
              "    .dataframe tbody tr th:only-of-type {\n",
              "        vertical-align: middle;\n",
              "    }\n",
              "\n",
              "    .dataframe tbody tr th {\n",
              "        vertical-align: top;\n",
              "    }\n",
              "\n",
              "    .dataframe thead th {\n",
              "        text-align: right;\n",
              "    }\n",
              "</style>\n",
              "<table border=\"1\" class=\"dataframe\">\n",
              "  <thead>\n",
              "    <tr style=\"text-align: right;\">\n",
              "      <th></th>\n",
              "      <th>ID</th>\n",
              "      <th>innings</th>\n",
              "      <th>overs</th>\n",
              "      <th>ballnumber</th>\n",
              "      <th>batter</th>\n",
              "      <th>bowler</th>\n",
              "      <th>non-striker</th>\n",
              "      <th>extra_type</th>\n",
              "      <th>batsman_run</th>\n",
              "      <th>extras_run</th>\n",
              "      <th>total_run</th>\n",
              "      <th>non_boundary</th>\n",
              "      <th>isWicketDelivery</th>\n",
              "      <th>player_out</th>\n",
              "      <th>kind</th>\n",
              "      <th>fielders_involved</th>\n",
              "      <th>BattingTeam</th>\n",
              "    </tr>\n",
              "  </thead>\n",
              "  <tbody>\n",
              "    <tr>\n",
              "      <th>141576</th>\n",
              "      <td>598031</td>\n",
              "      <td>2</td>\n",
              "      <td>13</td>\n",
              "      <td>1</td>\n",
              "      <td>EJG Morgan</td>\n",
              "      <td>Azhar Mahmood</td>\n",
              "      <td>MS Bisla</td>\n",
              "      <td>NaN</td>\n",
              "      <td>0</td>\n",
              "      <td>0</td>\n",
              "      <td>0</td>\n",
              "      <td>0</td>\n",
              "      <td>0</td>\n",
              "      <td>NaN</td>\n",
              "      <td>NaN</td>\n",
              "      <td>NaN</td>\n",
              "      <td>Kolkata Knight Riders</td>\n",
              "    </tr>\n",
              "    <tr>\n",
              "      <th>12039</th>\n",
              "      <td>1304071</td>\n",
              "      <td>2</td>\n",
              "      <td>13</td>\n",
              "      <td>5</td>\n",
              "      <td>AK Markram</td>\n",
              "      <td>UT Yadav</td>\n",
              "      <td>RA Tripathi</td>\n",
              "      <td>NaN</td>\n",
              "      <td>4</td>\n",
              "      <td>0</td>\n",
              "      <td>4</td>\n",
              "      <td>0</td>\n",
              "      <td>0</td>\n",
              "      <td>NaN</td>\n",
              "      <td>NaN</td>\n",
              "      <td>NaN</td>\n",
              "      <td>Sunrisers Hyderabad</td>\n",
              "    </tr>\n",
              "    <tr>\n",
              "      <th>118455</th>\n",
              "      <td>734039</td>\n",
              "      <td>2</td>\n",
              "      <td>6</td>\n",
              "      <td>3</td>\n",
              "      <td>M Vohra</td>\n",
              "      <td>JP Duminy</td>\n",
              "      <td>DA Miller</td>\n",
              "      <td>NaN</td>\n",
              "      <td>4</td>\n",
              "      <td>0</td>\n",
              "      <td>4</td>\n",
              "      <td>0</td>\n",
              "      <td>0</td>\n",
              "      <td>NaN</td>\n",
              "      <td>NaN</td>\n",
              "      <td>NaN</td>\n",
              "      <td>Punjab Kings</td>\n",
              "    </tr>\n",
              "    <tr>\n",
              "      <th>85918</th>\n",
              "      <td>1082605</td>\n",
              "      <td>2</td>\n",
              "      <td>0</td>\n",
              "      <td>2</td>\n",
              "      <td>M Vohra</td>\n",
              "      <td>Z Khan</td>\n",
              "      <td>HM Amla</td>\n",
              "      <td>NaN</td>\n",
              "      <td>1</td>\n",
              "      <td>0</td>\n",
              "      <td>1</td>\n",
              "      <td>0</td>\n",
              "      <td>0</td>\n",
              "      <td>NaN</td>\n",
              "      <td>NaN</td>\n",
              "      <td>NaN</td>\n",
              "      <td>Punjab Kings</td>\n",
              "    </tr>\n",
              "    <tr>\n",
              "      <th>85037</th>\n",
              "      <td>1082609</td>\n",
              "      <td>2</td>\n",
              "      <td>18</td>\n",
              "      <td>7</td>\n",
              "      <td>Sandeep Sharma</td>\n",
              "      <td>B Kumar</td>\n",
              "      <td>I Sharma</td>\n",
              "      <td>NaN</td>\n",
              "      <td>1</td>\n",
              "      <td>0</td>\n",
              "      <td>1</td>\n",
              "      <td>0</td>\n",
              "      <td>0</td>\n",
              "      <td>NaN</td>\n",
              "      <td>NaN</td>\n",
              "      <td>NaN</td>\n",
              "      <td>Punjab Kings</td>\n",
              "    </tr>\n",
              "  </tbody>\n",
              "</table>\n",
              "</div>"
            ],
            "text/plain": [
              "             ID  innings  overs  ballnumber          batter         bowler  \\\n",
              "141576   598031        2     13           1      EJG Morgan  Azhar Mahmood   \n",
              "12039   1304071        2     13           5      AK Markram       UT Yadav   \n",
              "118455   734039        2      6           3         M Vohra      JP Duminy   \n",
              "85918   1082605        2      0           2         M Vohra         Z Khan   \n",
              "85037   1082609        2     18           7  Sandeep Sharma        B Kumar   \n",
              "\n",
              "        non-striker extra_type  batsman_run  extras_run  total_run  \\\n",
              "141576     MS Bisla        NaN            0           0          0   \n",
              "12039   RA Tripathi        NaN            4           0          4   \n",
              "118455    DA Miller        NaN            4           0          4   \n",
              "85918       HM Amla        NaN            1           0          1   \n",
              "85037      I Sharma        NaN            1           0          1   \n",
              "\n",
              "        non_boundary  isWicketDelivery player_out kind fielders_involved  \\\n",
              "141576             0                 0        NaN  NaN               NaN   \n",
              "12039              0                 0        NaN  NaN               NaN   \n",
              "118455             0                 0        NaN  NaN               NaN   \n",
              "85918              0                 0        NaN  NaN               NaN   \n",
              "85037              0                 0        NaN  NaN               NaN   \n",
              "\n",
              "                  BattingTeam  \n",
              "141576  Kolkata Knight Riders  \n",
              "12039     Sunrisers Hyderabad  \n",
              "118455           Punjab Kings  \n",
              "85918            Punjab Kings  \n",
              "85037            Punjab Kings  "
            ]
          },
          "execution_count": 17,
          "metadata": {},
          "output_type": "execute_result"
        }
      ],
      "source": [
        "iplbb_pre.sample(5)"
      ]
    },
    {
      "cell_type": "code",
      "execution_count": 18,
      "id": "a-XKXXmrhbaq",
      "metadata": {
        "id": "a-XKXXmrhbaq"
      },
      "outputs": [],
      "source": [
        "droped_col=[\"batter\",\"bowler\",\"non-striker\",\"extra_type\",\"batsman_run\",\"extras_run\",\n",
        "            \"non_boundary\",\"isWicketDelivery\",\"player_out\",\"kind\",\"fielders_involved\",\"BattingTeam\"]\n",
        "# for col in droped_col:\n",
        "iplbb_pre.drop(droped_col,inplace=True,axis=1)"
      ]
    },
    {
      "cell_type": "code",
      "execution_count": 19,
      "id": "ofHwvKYBQ2mA",
      "metadata": {
        "colab": {
          "base_uri": "https://localhost:8080/",
          "height": 363
        },
        "id": "ofHwvKYBQ2mA",
        "outputId": "eb6f6d04-7a9a-4d1a-cdb5-7e1ed2738bac"
      },
      "outputs": [
        {
          "data": {
            "text/html": [
              "<div>\n",
              "<style scoped>\n",
              "    .dataframe tbody tr th:only-of-type {\n",
              "        vertical-align: middle;\n",
              "    }\n",
              "\n",
              "    .dataframe tbody tr th {\n",
              "        vertical-align: top;\n",
              "    }\n",
              "\n",
              "    .dataframe thead th {\n",
              "        text-align: right;\n",
              "    }\n",
              "</style>\n",
              "<table border=\"1\" class=\"dataframe\">\n",
              "  <thead>\n",
              "    <tr style=\"text-align: right;\">\n",
              "      <th></th>\n",
              "      <th>ID</th>\n",
              "      <th>innings</th>\n",
              "      <th>overs</th>\n",
              "      <th>ballnumber</th>\n",
              "      <th>total_run</th>\n",
              "    </tr>\n",
              "  </thead>\n",
              "  <tbody>\n",
              "    <tr>\n",
              "      <th>45034</th>\n",
              "      <td>1216499</td>\n",
              "      <td>1</td>\n",
              "      <td>10</td>\n",
              "      <td>5</td>\n",
              "      <td>1</td>\n",
              "    </tr>\n",
              "    <tr>\n",
              "      <th>218707</th>\n",
              "      <td>336012</td>\n",
              "      <td>1</td>\n",
              "      <td>0</td>\n",
              "      <td>6</td>\n",
              "      <td>1</td>\n",
              "    </tr>\n",
              "    <tr>\n",
              "      <th>219351</th>\n",
              "      <td>336009</td>\n",
              "      <td>1</td>\n",
              "      <td>1</td>\n",
              "      <td>7</td>\n",
              "      <td>1</td>\n",
              "    </tr>\n",
              "    <tr>\n",
              "      <th>80893</th>\n",
              "      <td>1082627</td>\n",
              "      <td>1</td>\n",
              "      <td>7</td>\n",
              "      <td>2</td>\n",
              "      <td>1</td>\n",
              "    </tr>\n",
              "    <tr>\n",
              "      <th>41812</th>\n",
              "      <td>1216513</td>\n",
              "      <td>2</td>\n",
              "      <td>17</td>\n",
              "      <td>3</td>\n",
              "      <td>6</td>\n",
              "    </tr>\n",
              "    <tr>\n",
              "      <th>77226</th>\n",
              "      <td>1082643</td>\n",
              "      <td>2</td>\n",
              "      <td>13</td>\n",
              "      <td>2</td>\n",
              "      <td>2</td>\n",
              "    </tr>\n",
              "    <tr>\n",
              "      <th>76964</th>\n",
              "      <td>1082644</td>\n",
              "      <td>2</td>\n",
              "      <td>9</td>\n",
              "      <td>4</td>\n",
              "      <td>1</td>\n",
              "    </tr>\n",
              "    <tr>\n",
              "      <th>67182</th>\n",
              "      <td>1136596</td>\n",
              "      <td>2</td>\n",
              "      <td>16</td>\n",
              "      <td>2</td>\n",
              "      <td>1</td>\n",
              "    </tr>\n",
              "    <tr>\n",
              "      <th>74245</th>\n",
              "      <td>1136566</td>\n",
              "      <td>1</td>\n",
              "      <td>15</td>\n",
              "      <td>7</td>\n",
              "      <td>2</td>\n",
              "    </tr>\n",
              "    <tr>\n",
              "      <th>189148</th>\n",
              "      <td>419145</td>\n",
              "      <td>1</td>\n",
              "      <td>3</td>\n",
              "      <td>7</td>\n",
              "      <td>1</td>\n",
              "    </tr>\n",
              "  </tbody>\n",
              "</table>\n",
              "</div>"
            ],
            "text/plain": [
              "             ID  innings  overs  ballnumber  total_run\n",
              "45034   1216499        1     10           5          1\n",
              "218707   336012        1      0           6          1\n",
              "219351   336009        1      1           7          1\n",
              "80893   1082627        1      7           2          1\n",
              "41812   1216513        2     17           3          6\n",
              "77226   1082643        2     13           2          2\n",
              "76964   1082644        2      9           4          1\n",
              "67182   1136596        2     16           2          1\n",
              "74245   1136566        1     15           7          2\n",
              "189148   419145        1      3           7          1"
            ]
          },
          "execution_count": 19,
          "metadata": {},
          "output_type": "execute_result"
        }
      ],
      "source": [
        "iplbb_pre.sample(10)"
      ]
    },
    {
      "cell_type": "code",
      "execution_count": 20,
      "id": "4UTe9yV4RDgK",
      "metadata": {
        "id": "4UTe9yV4RDgK"
      },
      "outputs": [],
      "source": [
        "iplbb_pre=iplbb_pre[iplbb_pre.overs<=6]\n",
        "iplbb_pre1=iplbb_pre.groupby(iplbb_pre.ID)[\"total_run\"].sum().reset_index()"
      ]
    },
    {
      "cell_type": "code",
      "execution_count": 21,
      "id": "iZ9qnEXpLZpz",
      "metadata": {
        "id": "iZ9qnEXpLZpz"
      },
      "outputs": [],
      "source": [
        "iplbb_pre1.total_run/=2\n",
        "iplbb_pre1.rename(columns = {'total_run':'innings_avg_score'}, inplace = True)"
      ]
    },
    {
      "cell_type": "code",
      "execution_count": 22,
      "id": "j2olqvXnMh36",
      "metadata": {
        "colab": {
          "base_uri": "https://localhost:8080/",
          "height": 423
        },
        "id": "j2olqvXnMh36",
        "outputId": "94e41c36-2836-4e0d-b2db-4a009a0ffcad"
      },
      "outputs": [
        {
          "data": {
            "text/html": [
              "<div>\n",
              "<style scoped>\n",
              "    .dataframe tbody tr th:only-of-type {\n",
              "        vertical-align: middle;\n",
              "    }\n",
              "\n",
              "    .dataframe tbody tr th {\n",
              "        vertical-align: top;\n",
              "    }\n",
              "\n",
              "    .dataframe thead th {\n",
              "        text-align: right;\n",
              "    }\n",
              "</style>\n",
              "<table border=\"1\" class=\"dataframe\">\n",
              "  <thead>\n",
              "    <tr style=\"text-align: right;\">\n",
              "      <th></th>\n",
              "      <th>ID</th>\n",
              "      <th>innings_avg_score</th>\n",
              "    </tr>\n",
              "  </thead>\n",
              "  <tbody>\n",
              "    <tr>\n",
              "      <th>0</th>\n",
              "      <td>335982</td>\n",
              "      <td>50.5</td>\n",
              "    </tr>\n",
              "    <tr>\n",
              "      <th>1</th>\n",
              "      <td>335983</td>\n",
              "      <td>65.5</td>\n",
              "    </tr>\n",
              "    <tr>\n",
              "      <th>2</th>\n",
              "      <td>335984</td>\n",
              "      <td>51.5</td>\n",
              "    </tr>\n",
              "    <tr>\n",
              "      <th>3</th>\n",
              "      <td>335985</td>\n",
              "      <td>50.0</td>\n",
              "    </tr>\n",
              "    <tr>\n",
              "      <th>4</th>\n",
              "      <td>335986</td>\n",
              "      <td>16.5</td>\n",
              "    </tr>\n",
              "    <tr>\n",
              "      <th>...</th>\n",
              "      <td>...</td>\n",
              "      <td>...</td>\n",
              "    </tr>\n",
              "    <tr>\n",
              "      <th>933</th>\n",
              "      <td>1304116</td>\n",
              "      <td>60.0</td>\n",
              "    </tr>\n",
              "    <tr>\n",
              "      <th>934</th>\n",
              "      <td>1312197</td>\n",
              "      <td>30.5</td>\n",
              "    </tr>\n",
              "    <tr>\n",
              "      <th>935</th>\n",
              "      <td>1312198</td>\n",
              "      <td>30.0</td>\n",
              "    </tr>\n",
              "    <tr>\n",
              "      <th>936</th>\n",
              "      <td>1312199</td>\n",
              "      <td>64.5</td>\n",
              "    </tr>\n",
              "    <tr>\n",
              "      <th>937</th>\n",
              "      <td>1312200</td>\n",
              "      <td>27.0</td>\n",
              "    </tr>\n",
              "  </tbody>\n",
              "</table>\n",
              "<p>938 rows × 2 columns</p>\n",
              "</div>"
            ],
            "text/plain": [
              "          ID  innings_avg_score\n",
              "0     335982               50.5\n",
              "1     335983               65.5\n",
              "2     335984               51.5\n",
              "3     335985               50.0\n",
              "4     335986               16.5\n",
              "..       ...                ...\n",
              "933  1304116               60.0\n",
              "934  1312197               30.5\n",
              "935  1312198               30.0\n",
              "936  1312199               64.5\n",
              "937  1312200               27.0\n",
              "\n",
              "[938 rows x 2 columns]"
            ]
          },
          "execution_count": 22,
          "metadata": {},
          "output_type": "execute_result"
        }
      ],
      "source": [
        "iplbb_pre1"
      ]
    },
    {
      "cell_type": "code",
      "execution_count": 24,
      "id": "_pWV9oFE0OFq",
      "metadata": {
        "colab": {
          "base_uri": "https://localhost:8080/",
          "height": 565
        },
        "id": "_pWV9oFE0OFq",
        "outputId": "4bcc6e6b-fbb4-4459-fdf2-019bcc13ebc9"
      },
      "outputs": [
        {
          "data": {
            "text/html": [
              "<div>\n",
              "<style scoped>\n",
              "    .dataframe tbody tr th:only-of-type {\n",
              "        vertical-align: middle;\n",
              "    }\n",
              "\n",
              "    .dataframe tbody tr th {\n",
              "        vertical-align: top;\n",
              "    }\n",
              "\n",
              "    .dataframe thead th {\n",
              "        text-align: right;\n",
              "    }\n",
              "</style>\n",
              "<table border=\"1\" class=\"dataframe\">\n",
              "  <thead>\n",
              "    <tr style=\"text-align: right;\">\n",
              "      <th></th>\n",
              "      <th>ID</th>\n",
              "      <th>City</th>\n",
              "      <th>Date</th>\n",
              "      <th>Season</th>\n",
              "      <th>MatchNumber</th>\n",
              "      <th>Team1</th>\n",
              "      <th>Team2</th>\n",
              "      <th>Venue</th>\n",
              "      <th>TossWinner</th>\n",
              "      <th>TossDecision</th>\n",
              "      <th>SuperOver</th>\n",
              "      <th>WinningTeam</th>\n",
              "      <th>WonBy</th>\n",
              "      <th>Margin</th>\n",
              "      <th>method</th>\n",
              "      <th>Player_of_Match</th>\n",
              "      <th>Team1Players</th>\n",
              "      <th>Team2Players</th>\n",
              "      <th>Umpire1</th>\n",
              "      <th>Umpire2</th>\n",
              "    </tr>\n",
              "  </thead>\n",
              "  <tbody>\n",
              "    <tr>\n",
              "      <th>0</th>\n",
              "      <td>1312200</td>\n",
              "      <td>Ahmedabad</td>\n",
              "      <td>2022-05-29</td>\n",
              "      <td>2022</td>\n",
              "      <td>Final</td>\n",
              "      <td>Rajasthan Royals</td>\n",
              "      <td>Gujarat Titans</td>\n",
              "      <td>Narendra Modi Stadium, Ahmedabad</td>\n",
              "      <td>Rajasthan Royals</td>\n",
              "      <td>bat</td>\n",
              "      <td>N</td>\n",
              "      <td>Gujarat Titans</td>\n",
              "      <td>Wickets</td>\n",
              "      <td>7.0</td>\n",
              "      <td>NaN</td>\n",
              "      <td>HH Pandya</td>\n",
              "      <td>['YBK Jaiswal', 'JC Buttler', 'SV Samson', 'D ...</td>\n",
              "      <td>['WP Saha', 'Shubman Gill', 'MS Wade', 'HH Pan...</td>\n",
              "      <td>CB Gaffaney</td>\n",
              "      <td>Nitin Menon</td>\n",
              "    </tr>\n",
              "    <tr>\n",
              "      <th>1</th>\n",
              "      <td>1312199</td>\n",
              "      <td>Ahmedabad</td>\n",
              "      <td>2022-05-27</td>\n",
              "      <td>2022</td>\n",
              "      <td>Qualifier 2</td>\n",
              "      <td>Royal Challengers Bangalore</td>\n",
              "      <td>Rajasthan Royals</td>\n",
              "      <td>Narendra Modi Stadium, Ahmedabad</td>\n",
              "      <td>Rajasthan Royals</td>\n",
              "      <td>field</td>\n",
              "      <td>N</td>\n",
              "      <td>Rajasthan Royals</td>\n",
              "      <td>Wickets</td>\n",
              "      <td>7.0</td>\n",
              "      <td>NaN</td>\n",
              "      <td>JC Buttler</td>\n",
              "      <td>['V Kohli', 'F du Plessis', 'RM Patidar', 'GJ ...</td>\n",
              "      <td>['YBK Jaiswal', 'JC Buttler', 'SV Samson', 'D ...</td>\n",
              "      <td>CB Gaffaney</td>\n",
              "      <td>Nitin Menon</td>\n",
              "    </tr>\n",
              "    <tr>\n",
              "      <th>2</th>\n",
              "      <td>1312198</td>\n",
              "      <td>Kolkata</td>\n",
              "      <td>2022-05-25</td>\n",
              "      <td>2022</td>\n",
              "      <td>Eliminator</td>\n",
              "      <td>Royal Challengers Bangalore</td>\n",
              "      <td>Lucknow Super Giants</td>\n",
              "      <td>Eden Gardens, Kolkata</td>\n",
              "      <td>Lucknow Super Giants</td>\n",
              "      <td>field</td>\n",
              "      <td>N</td>\n",
              "      <td>Royal Challengers Bangalore</td>\n",
              "      <td>Runs</td>\n",
              "      <td>14.0</td>\n",
              "      <td>NaN</td>\n",
              "      <td>RM Patidar</td>\n",
              "      <td>['V Kohli', 'F du Plessis', 'RM Patidar', 'GJ ...</td>\n",
              "      <td>['Q de Kock', 'KL Rahul', 'M Vohra', 'DJ Hooda...</td>\n",
              "      <td>J Madanagopal</td>\n",
              "      <td>MA Gough</td>\n",
              "    </tr>\n",
              "    <tr>\n",
              "      <th>3</th>\n",
              "      <td>1312197</td>\n",
              "      <td>Kolkata</td>\n",
              "      <td>2022-05-24</td>\n",
              "      <td>2022</td>\n",
              "      <td>Qualifier 1</td>\n",
              "      <td>Rajasthan Royals</td>\n",
              "      <td>Gujarat Titans</td>\n",
              "      <td>Eden Gardens, Kolkata</td>\n",
              "      <td>Gujarat Titans</td>\n",
              "      <td>field</td>\n",
              "      <td>N</td>\n",
              "      <td>Gujarat Titans</td>\n",
              "      <td>Wickets</td>\n",
              "      <td>7.0</td>\n",
              "      <td>NaN</td>\n",
              "      <td>DA Miller</td>\n",
              "      <td>['YBK Jaiswal', 'JC Buttler', 'SV Samson', 'D ...</td>\n",
              "      <td>['WP Saha', 'Shubman Gill', 'MS Wade', 'HH Pan...</td>\n",
              "      <td>BNJ Oxenford</td>\n",
              "      <td>VK Sharma</td>\n",
              "    </tr>\n",
              "    <tr>\n",
              "      <th>4</th>\n",
              "      <td>1304116</td>\n",
              "      <td>Mumbai</td>\n",
              "      <td>2022-05-22</td>\n",
              "      <td>2022</td>\n",
              "      <td>70</td>\n",
              "      <td>Sunrisers Hyderabad</td>\n",
              "      <td>Punjab Kings</td>\n",
              "      <td>Wankhede Stadium, Mumbai</td>\n",
              "      <td>Sunrisers Hyderabad</td>\n",
              "      <td>bat</td>\n",
              "      <td>N</td>\n",
              "      <td>Punjab Kings</td>\n",
              "      <td>Wickets</td>\n",
              "      <td>5.0</td>\n",
              "      <td>NaN</td>\n",
              "      <td>Harpreet Brar</td>\n",
              "      <td>['PK Garg', 'Abhishek Sharma', 'RA Tripathi', ...</td>\n",
              "      <td>['JM Bairstow', 'S Dhawan', 'M Shahrukh Khan',...</td>\n",
              "      <td>AK Chaudhary</td>\n",
              "      <td>NA Patwardhan</td>\n",
              "    </tr>\n",
              "  </tbody>\n",
              "</table>\n",
              "</div>"
            ],
            "text/plain": [
              "        ID       City        Date Season  MatchNumber  \\\n",
              "0  1312200  Ahmedabad  2022-05-29   2022        Final   \n",
              "1  1312199  Ahmedabad  2022-05-27   2022  Qualifier 2   \n",
              "2  1312198    Kolkata  2022-05-25   2022   Eliminator   \n",
              "3  1312197    Kolkata  2022-05-24   2022  Qualifier 1   \n",
              "4  1304116     Mumbai  2022-05-22   2022           70   \n",
              "\n",
              "                         Team1                 Team2  \\\n",
              "0             Rajasthan Royals        Gujarat Titans   \n",
              "1  Royal Challengers Bangalore      Rajasthan Royals   \n",
              "2  Royal Challengers Bangalore  Lucknow Super Giants   \n",
              "3             Rajasthan Royals        Gujarat Titans   \n",
              "4          Sunrisers Hyderabad          Punjab Kings   \n",
              "\n",
              "                              Venue            TossWinner TossDecision  \\\n",
              "0  Narendra Modi Stadium, Ahmedabad      Rajasthan Royals          bat   \n",
              "1  Narendra Modi Stadium, Ahmedabad      Rajasthan Royals        field   \n",
              "2             Eden Gardens, Kolkata  Lucknow Super Giants        field   \n",
              "3             Eden Gardens, Kolkata        Gujarat Titans        field   \n",
              "4          Wankhede Stadium, Mumbai   Sunrisers Hyderabad          bat   \n",
              "\n",
              "  SuperOver                  WinningTeam    WonBy  Margin method  \\\n",
              "0         N               Gujarat Titans  Wickets     7.0    NaN   \n",
              "1         N             Rajasthan Royals  Wickets     7.0    NaN   \n",
              "2         N  Royal Challengers Bangalore     Runs    14.0    NaN   \n",
              "3         N               Gujarat Titans  Wickets     7.0    NaN   \n",
              "4         N                 Punjab Kings  Wickets     5.0    NaN   \n",
              "\n",
              "  Player_of_Match                                       Team1Players  \\\n",
              "0       HH Pandya  ['YBK Jaiswal', 'JC Buttler', 'SV Samson', 'D ...   \n",
              "1      JC Buttler  ['V Kohli', 'F du Plessis', 'RM Patidar', 'GJ ...   \n",
              "2      RM Patidar  ['V Kohli', 'F du Plessis', 'RM Patidar', 'GJ ...   \n",
              "3       DA Miller  ['YBK Jaiswal', 'JC Buttler', 'SV Samson', 'D ...   \n",
              "4   Harpreet Brar  ['PK Garg', 'Abhishek Sharma', 'RA Tripathi', ...   \n",
              "\n",
              "                                        Team2Players        Umpire1  \\\n",
              "0  ['WP Saha', 'Shubman Gill', 'MS Wade', 'HH Pan...    CB Gaffaney   \n",
              "1  ['YBK Jaiswal', 'JC Buttler', 'SV Samson', 'D ...    CB Gaffaney   \n",
              "2  ['Q de Kock', 'KL Rahul', 'M Vohra', 'DJ Hooda...  J Madanagopal   \n",
              "3  ['WP Saha', 'Shubman Gill', 'MS Wade', 'HH Pan...   BNJ Oxenford   \n",
              "4  ['JM Bairstow', 'S Dhawan', 'M Shahrukh Khan',...   AK Chaudhary   \n",
              "\n",
              "         Umpire2  \n",
              "0    Nitin Menon  \n",
              "1    Nitin Menon  \n",
              "2       MA Gough  \n",
              "3      VK Sharma  \n",
              "4  NA Patwardhan  "
            ]
          },
          "execution_count": 24,
          "metadata": {},
          "output_type": "execute_result"
        }
      ],
      "source": [
        "matchresult=pd.read_csv(\"./IPL_Matches_Result_2008_2022.csv\")\n",
        "matchresult.head()"
      ]
    },
    {
      "cell_type": "code",
      "execution_count": 25,
      "id": "bkx8UZFQLNQB",
      "metadata": {
        "colab": {
          "base_uri": "https://localhost:8080/"
        },
        "id": "bkx8UZFQLNQB",
        "outputId": "eab9ad87-4afd-49d9-e102-bce652f1b2d2"
      },
      "outputs": [
        {
          "data": {
            "text/plain": [
              "array(['Ahmedabad', 'Kolkata', 'Mumbai', 'Navi Mumbai', 'Pune', 'Dubai',\n",
              "       'Sharjah', 'Abu Dhabi', 'Delhi', 'Chennai', nan, 'Hyderabad',\n",
              "       'Visakhapatnam', 'Chandigarh', 'Bengaluru', 'Jaipur', 'Indore',\n",
              "       'Bangalore', 'Kanpur', 'Rajkot', 'Raipur', 'Ranchi', 'Cuttack',\n",
              "       'Dharamsala', 'Kochi', 'Nagpur', 'Johannesburg', 'Centurion',\n",
              "       'Durban', 'Bloemfontein', 'Port Elizabeth', 'Kimberley',\n",
              "       'East London', 'Cape Town'], dtype=object)"
            ]
          },
          "execution_count": 25,
          "metadata": {},
          "output_type": "execute_result"
        }
      ],
      "source": [
        "matchresult['City'].unique()"
      ]
    },
    {
      "cell_type": "code",
      "execution_count": 26,
      "id": "oNdUcTDuMJx7",
      "metadata": {
        "id": "oNdUcTDuMJx7"
      },
      "outputs": [],
      "source": [
        "drop_city=['Ahmedabad','Dubai','Sharjah', 'Abu Dhabi','Visakhapatnam', 'Chandigarh', 'Indore',\n",
        "            'Kanpur', 'Rajkot', 'Raipur', 'Ranchi', 'Cuttack','Kochi', 'Nagpur', 'Johannesburg', 'Centurion',\n",
        "       'Durban', 'Bloemfontein', 'Port Elizabeth', 'Kimberley','East London', 'Cape Town']\n",
        "matchresult_pre=matchresult\n",
        "matchresult_pre['City'].replace('Navi Mumbai','Mumbai',inplace=True)\n",
        "matchresult_pre['City'].replace('Bengaluru','Bangalore',inplace=True)\n",
        "for city in drop_city:\n",
        "  matchresult_pre.drop(matchresult_pre[matchresult_pre.City==city].index,inplace=True)"
      ]
    },
    {
      "cell_type": "code",
      "execution_count": 27,
      "id": "7nZAcIYFLrnq",
      "metadata": {
        "colab": {
          "base_uri": "https://localhost:8080/"
        },
        "id": "7nZAcIYFLrnq",
        "outputId": "6de9f7e0-13bc-4127-c778-037a65d2d100"
      },
      "outputs": [
        {
          "data": {
            "text/plain": [
              "array(['Kolkata', 'Mumbai', 'Pune', 'Delhi', 'Chennai', nan, 'Hyderabad',\n",
              "       'Bangalore', 'Jaipur', 'Dharamsala'], dtype=object)"
            ]
          },
          "execution_count": 27,
          "metadata": {},
          "output_type": "execute_result"
        }
      ],
      "source": [
        "matchresult_pre['City'].unique()"
      ]
    },
    {
      "cell_type": "code",
      "execution_count": 28,
      "id": "YH6Dopylw-lX",
      "metadata": {
        "colab": {
          "base_uri": "https://localhost:8080/"
        },
        "id": "YH6Dopylw-lX",
        "outputId": "fdbf1205-a791-46dc-9698-ece5e5aeb4d5"
      },
      "outputs": [
        {
          "data": {
            "text/plain": [
              "array(['Royal Challengers Bangalore', 'Rajasthan Royals',\n",
              "       'Sunrisers Hyderabad', 'Delhi Capitals', 'Chennai Super Kings',\n",
              "       'Gujarat Titans', 'Lucknow Super Giants', 'Kolkata Knight Riders',\n",
              "       'Punjab Kings', 'Mumbai Indians', 'Kings XI Punjab',\n",
              "       'Delhi Daredevils', 'Rising Pune Supergiant', 'Gujarat Lions',\n",
              "       'Rising Pune Supergiants', 'Pune Warriors', 'Deccan Chargers'],\n",
              "      dtype=object)"
            ]
          },
          "execution_count": 28,
          "metadata": {},
          "output_type": "execute_result"
        }
      ],
      "source": [
        "matchresult_pre.Team1.unique()"
      ]
    },
    {
      "cell_type": "code",
      "execution_count": 29,
      "id": "k5-p8XDrRIh0",
      "metadata": {
        "colab": {
          "base_uri": "https://localhost:8080/"
        },
        "id": "k5-p8XDrRIh0",
        "outputId": "33b5fa81-8c60-4fe1-9124-d8ded5e85f3a"
      },
      "outputs": [
        {
          "name": "stderr",
          "output_type": "stream",
          "text": [
            "c:\\Users\\haris\\anaconda3\\envs\\gpu2\\lib\\site-packages\\pandas\\core\\frame.py:4174: SettingWithCopyWarning: \n",
            "A value is trying to be set on a copy of a slice from a DataFrame\n",
            "\n",
            "See the caveats in the documentation: https://pandas.pydata.org/pandas-docs/stable/user_guide/indexing.html#returning-a-view-versus-a-copy\n",
            "  errors=errors,\n",
            "c:\\Users\\haris\\anaconda3\\envs\\gpu2\\lib\\site-packages\\pandas\\core\\frame.py:4389: SettingWithCopyWarning: \n",
            "A value is trying to be set on a copy of a slice from a DataFrame\n",
            "\n",
            "See the caveats in the documentation: https://pandas.pydata.org/pandas-docs/stable/user_guide/indexing.html#returning-a-view-versus-a-copy\n",
            "  method=method,\n"
          ]
        }
      ],
      "source": [
        "matchresult_pre=matchresult_pre[['ID','Team1',\"Team2\",'City']]\n",
        "not_present_team=['Rising Pune Supergiant',\n",
        "       'Gujarat Lions', 'Rising Pune Supergiants', 'Pune Warriors',\n",
        "       'Deccan Chargers', 'Kochi Tuskers Kerala','Gujarat Titans','Lucknow Super Giants']\n",
        "for team in not_present_team:\n",
        "  matchresult_pre.drop(matchresult_pre[matchresult_pre['Team1']==team].index,inplace=True)\n",
        "  matchresult_pre.drop(matchresult_pre[matchresult_pre['Team2']==team].index,inplace=True)\n",
        "matchresult_pre.replace('Delhi Daredevils','Delhi Capitals',inplace=True)\n",
        "matchresult_pre.replace('Kings XI Punjab','Punjab Kings',inplace=True)"
      ]
    },
    {
      "cell_type": "code",
      "execution_count": 30,
      "id": "4AVQrbGXxvoW",
      "metadata": {
        "colab": {
          "base_uri": "https://localhost:8080/"
        },
        "id": "4AVQrbGXxvoW",
        "outputId": "bc5b737c-3f4c-4b17-ee85-9d6168d207e4"
      },
      "outputs": [
        {
          "data": {
            "text/plain": [
              "array(['Sunrisers Hyderabad', 'Delhi Capitals', 'Chennai Super Kings',\n",
              "       'Kolkata Knight Riders', 'Punjab Kings', 'Rajasthan Royals',\n",
              "       'Royal Challengers Bangalore', 'Mumbai Indians'], dtype=object)"
            ]
          },
          "execution_count": 30,
          "metadata": {},
          "output_type": "execute_result"
        }
      ],
      "source": [
        "matchresult_pre.Team1.unique()"
      ]
    },
    {
      "cell_type": "code",
      "execution_count": 53,
      "id": "F393DuplPNgW",
      "metadata": {
        "id": "F393DuplPNgW"
      },
      "outputs": [],
      "source": [
        "avg_inn=iplbb_pre1.merge(matchresult_pre,on='ID',how='right')"
      ]
    },
    {
      "cell_type": "code",
      "execution_count": 54,
      "id": "sCSAkNl3RlJU",
      "metadata": {
        "colab": {
          "base_uri": "https://localhost:8080/",
          "height": 423
        },
        "id": "sCSAkNl3RlJU",
        "outputId": "ef034e2c-dfb1-45f7-d612-519e4642a98e"
      },
      "outputs": [
        {
          "data": {
            "text/html": [
              "<div>\n",
              "<style scoped>\n",
              "    .dataframe tbody tr th:only-of-type {\n",
              "        vertical-align: middle;\n",
              "    }\n",
              "\n",
              "    .dataframe tbody tr th {\n",
              "        vertical-align: top;\n",
              "    }\n",
              "\n",
              "    .dataframe thead th {\n",
              "        text-align: right;\n",
              "    }\n",
              "</style>\n",
              "<table border=\"1\" class=\"dataframe\">\n",
              "  <thead>\n",
              "    <tr style=\"text-align: right;\">\n",
              "      <th></th>\n",
              "      <th>ID</th>\n",
              "      <th>innings_avg_score</th>\n",
              "      <th>Team1</th>\n",
              "      <th>Team2</th>\n",
              "      <th>City</th>\n",
              "    </tr>\n",
              "  </thead>\n",
              "  <tbody>\n",
              "    <tr>\n",
              "      <th>0</th>\n",
              "      <td>1304116</td>\n",
              "      <td>60.0</td>\n",
              "      <td>Sunrisers Hyderabad</td>\n",
              "      <td>Punjab Kings</td>\n",
              "      <td>Mumbai</td>\n",
              "    </tr>\n",
              "    <tr>\n",
              "      <th>1</th>\n",
              "      <td>1304115</td>\n",
              "      <td>37.0</td>\n",
              "      <td>Delhi Capitals</td>\n",
              "      <td>Mumbai Indians</td>\n",
              "      <td>Mumbai</td>\n",
              "    </tr>\n",
              "    <tr>\n",
              "      <th>2</th>\n",
              "      <td>1304114</td>\n",
              "      <td>71.0</td>\n",
              "      <td>Chennai Super Kings</td>\n",
              "      <td>Rajasthan Royals</td>\n",
              "      <td>Mumbai</td>\n",
              "    </tr>\n",
              "    <tr>\n",
              "      <th>3</th>\n",
              "      <td>1304111</td>\n",
              "      <td>59.0</td>\n",
              "      <td>Sunrisers Hyderabad</td>\n",
              "      <td>Mumbai Indians</td>\n",
              "      <td>Mumbai</td>\n",
              "    </tr>\n",
              "    <tr>\n",
              "      <th>4</th>\n",
              "      <td>1304110</td>\n",
              "      <td>63.0</td>\n",
              "      <td>Delhi Capitals</td>\n",
              "      <td>Punjab Kings</td>\n",
              "      <td>Mumbai</td>\n",
              "    </tr>\n",
              "    <tr>\n",
              "      <th>...</th>\n",
              "      <td>...</td>\n",
              "      <td>...</td>\n",
              "      <td>...</td>\n",
              "      <td>...</td>\n",
              "      <td>...</td>\n",
              "    </tr>\n",
              "    <tr>\n",
              "      <th>537</th>\n",
              "      <td>335989</td>\n",
              "      <td>58.0</td>\n",
              "      <td>Chennai Super Kings</td>\n",
              "      <td>Mumbai Indians</td>\n",
              "      <td>Chennai</td>\n",
              "    </tr>\n",
              "    <tr>\n",
              "      <th>538</th>\n",
              "      <td>335987</td>\n",
              "      <td>59.5</td>\n",
              "      <td>Rajasthan Royals</td>\n",
              "      <td>Punjab Kings</td>\n",
              "      <td>Jaipur</td>\n",
              "    </tr>\n",
              "    <tr>\n",
              "      <th>539</th>\n",
              "      <td>335985</td>\n",
              "      <td>50.0</td>\n",
              "      <td>Mumbai Indians</td>\n",
              "      <td>Royal Challengers Bangalore</td>\n",
              "      <td>Mumbai</td>\n",
              "    </tr>\n",
              "    <tr>\n",
              "      <th>540</th>\n",
              "      <td>335984</td>\n",
              "      <td>51.5</td>\n",
              "      <td>Delhi Capitals</td>\n",
              "      <td>Rajasthan Royals</td>\n",
              "      <td>Delhi</td>\n",
              "    </tr>\n",
              "    <tr>\n",
              "      <th>541</th>\n",
              "      <td>335982</td>\n",
              "      <td>50.5</td>\n",
              "      <td>Royal Challengers Bangalore</td>\n",
              "      <td>Kolkata Knight Riders</td>\n",
              "      <td>Bangalore</td>\n",
              "    </tr>\n",
              "  </tbody>\n",
              "</table>\n",
              "<p>542 rows × 5 columns</p>\n",
              "</div>"
            ],
            "text/plain": [
              "          ID  innings_avg_score                        Team1  \\\n",
              "0    1304116               60.0          Sunrisers Hyderabad   \n",
              "1    1304115               37.0               Delhi Capitals   \n",
              "2    1304114               71.0          Chennai Super Kings   \n",
              "3    1304111               59.0          Sunrisers Hyderabad   \n",
              "4    1304110               63.0               Delhi Capitals   \n",
              "..       ...                ...                          ...   \n",
              "537   335989               58.0          Chennai Super Kings   \n",
              "538   335987               59.5             Rajasthan Royals   \n",
              "539   335985               50.0               Mumbai Indians   \n",
              "540   335984               51.5               Delhi Capitals   \n",
              "541   335982               50.5  Royal Challengers Bangalore   \n",
              "\n",
              "                           Team2       City  \n",
              "0                   Punjab Kings     Mumbai  \n",
              "1                 Mumbai Indians     Mumbai  \n",
              "2               Rajasthan Royals     Mumbai  \n",
              "3                 Mumbai Indians     Mumbai  \n",
              "4                   Punjab Kings     Mumbai  \n",
              "..                           ...        ...  \n",
              "537               Mumbai Indians    Chennai  \n",
              "538                 Punjab Kings     Jaipur  \n",
              "539  Royal Challengers Bangalore     Mumbai  \n",
              "540             Rajasthan Royals      Delhi  \n",
              "541        Kolkata Knight Riders  Bangalore  \n",
              "\n",
              "[542 rows x 5 columns]"
            ]
          },
          "execution_count": 54,
          "metadata": {},
          "output_type": "execute_result"
        }
      ],
      "source": [
        "avg_inn"
      ]
    },
    {
      "cell_type": "code",
      "execution_count": 55,
      "id": "leqjwdmMYR3l",
      "metadata": {
        "colab": {
          "base_uri": "https://localhost:8080/"
        },
        "id": "leqjwdmMYR3l",
        "outputId": "64f46f6b-2a6f-4ef0-b65c-f2eb63b975dd"
      },
      "outputs": [
        {
          "data": {
            "text/plain": [
              "array(['Sunrisers Hyderabad', 'Delhi Capitals', 'Chennai Super Kings',\n",
              "       'Kolkata Knight Riders', 'Punjab Kings', 'Rajasthan Royals',\n",
              "       'Royal Challengers Bangalore', 'Mumbai Indians'], dtype=object)"
            ]
          },
          "execution_count": 55,
          "metadata": {},
          "output_type": "execute_result"
        }
      ],
      "source": [
        "avg_inn.Team1.unique()"
      ]
    },
    {
      "cell_type": "code",
      "execution_count": 56,
      "id": "DwpXcKk3R4GK",
      "metadata": {
        "id": "DwpXcKk3R4GK"
      },
      "outputs": [],
      "source": [
        "avg_inn.dropna()\n",
        "avg_inn=pd.get_dummies(avg_inn)"
      ]
    },
    {
      "cell_type": "code",
      "execution_count": 57,
      "id": "paVl_0EMXrmn",
      "metadata": {
        "id": "paVl_0EMXrmn"
      },
      "outputs": [],
      "source": [
        "avg_inn.drop('ID',inplace=True,axis=1)"
      ]
    },
    {
      "cell_type": "code",
      "execution_count": 58,
      "id": "tE2nBXzRyUzK",
      "metadata": {
        "colab": {
          "base_uri": "https://localhost:8080/",
          "height": 334
        },
        "id": "tE2nBXzRyUzK",
        "outputId": "f0c9bc96-f818-4083-ec54-ba5164125c14"
      },
      "outputs": [
        {
          "data": {
            "text/html": [
              "<div>\n",
              "<style scoped>\n",
              "    .dataframe tbody tr th:only-of-type {\n",
              "        vertical-align: middle;\n",
              "    }\n",
              "\n",
              "    .dataframe tbody tr th {\n",
              "        vertical-align: top;\n",
              "    }\n",
              "\n",
              "    .dataframe thead th {\n",
              "        text-align: right;\n",
              "    }\n",
              "</style>\n",
              "<table border=\"1\" class=\"dataframe\">\n",
              "  <thead>\n",
              "    <tr style=\"text-align: right;\">\n",
              "      <th></th>\n",
              "      <th>innings_avg_score</th>\n",
              "      <th>Team1_Chennai Super Kings</th>\n",
              "      <th>Team1_Delhi Capitals</th>\n",
              "      <th>Team1_Kolkata Knight Riders</th>\n",
              "      <th>Team1_Mumbai Indians</th>\n",
              "      <th>Team1_Punjab Kings</th>\n",
              "      <th>Team1_Rajasthan Royals</th>\n",
              "      <th>Team1_Royal Challengers Bangalore</th>\n",
              "      <th>Team1_Sunrisers Hyderabad</th>\n",
              "      <th>Team2_Chennai Super Kings</th>\n",
              "      <th>...</th>\n",
              "      <th>Team2_Sunrisers Hyderabad</th>\n",
              "      <th>City_Bangalore</th>\n",
              "      <th>City_Chennai</th>\n",
              "      <th>City_Delhi</th>\n",
              "      <th>City_Dharamsala</th>\n",
              "      <th>City_Hyderabad</th>\n",
              "      <th>City_Jaipur</th>\n",
              "      <th>City_Kolkata</th>\n",
              "      <th>City_Mumbai</th>\n",
              "      <th>City_Pune</th>\n",
              "    </tr>\n",
              "  </thead>\n",
              "  <tbody>\n",
              "    <tr>\n",
              "      <th>0</th>\n",
              "      <td>60.0</td>\n",
              "      <td>0</td>\n",
              "      <td>0</td>\n",
              "      <td>0</td>\n",
              "      <td>0</td>\n",
              "      <td>0</td>\n",
              "      <td>0</td>\n",
              "      <td>0</td>\n",
              "      <td>1</td>\n",
              "      <td>0</td>\n",
              "      <td>...</td>\n",
              "      <td>0</td>\n",
              "      <td>0</td>\n",
              "      <td>0</td>\n",
              "      <td>0</td>\n",
              "      <td>0</td>\n",
              "      <td>0</td>\n",
              "      <td>0</td>\n",
              "      <td>0</td>\n",
              "      <td>1</td>\n",
              "      <td>0</td>\n",
              "    </tr>\n",
              "    <tr>\n",
              "      <th>1</th>\n",
              "      <td>37.0</td>\n",
              "      <td>0</td>\n",
              "      <td>1</td>\n",
              "      <td>0</td>\n",
              "      <td>0</td>\n",
              "      <td>0</td>\n",
              "      <td>0</td>\n",
              "      <td>0</td>\n",
              "      <td>0</td>\n",
              "      <td>0</td>\n",
              "      <td>...</td>\n",
              "      <td>0</td>\n",
              "      <td>0</td>\n",
              "      <td>0</td>\n",
              "      <td>0</td>\n",
              "      <td>0</td>\n",
              "      <td>0</td>\n",
              "      <td>0</td>\n",
              "      <td>0</td>\n",
              "      <td>1</td>\n",
              "      <td>0</td>\n",
              "    </tr>\n",
              "    <tr>\n",
              "      <th>2</th>\n",
              "      <td>71.0</td>\n",
              "      <td>1</td>\n",
              "      <td>0</td>\n",
              "      <td>0</td>\n",
              "      <td>0</td>\n",
              "      <td>0</td>\n",
              "      <td>0</td>\n",
              "      <td>0</td>\n",
              "      <td>0</td>\n",
              "      <td>0</td>\n",
              "      <td>...</td>\n",
              "      <td>0</td>\n",
              "      <td>0</td>\n",
              "      <td>0</td>\n",
              "      <td>0</td>\n",
              "      <td>0</td>\n",
              "      <td>0</td>\n",
              "      <td>0</td>\n",
              "      <td>0</td>\n",
              "      <td>1</td>\n",
              "      <td>0</td>\n",
              "    </tr>\n",
              "    <tr>\n",
              "      <th>3</th>\n",
              "      <td>59.0</td>\n",
              "      <td>0</td>\n",
              "      <td>0</td>\n",
              "      <td>0</td>\n",
              "      <td>0</td>\n",
              "      <td>0</td>\n",
              "      <td>0</td>\n",
              "      <td>0</td>\n",
              "      <td>1</td>\n",
              "      <td>0</td>\n",
              "      <td>...</td>\n",
              "      <td>0</td>\n",
              "      <td>0</td>\n",
              "      <td>0</td>\n",
              "      <td>0</td>\n",
              "      <td>0</td>\n",
              "      <td>0</td>\n",
              "      <td>0</td>\n",
              "      <td>0</td>\n",
              "      <td>1</td>\n",
              "      <td>0</td>\n",
              "    </tr>\n",
              "    <tr>\n",
              "      <th>4</th>\n",
              "      <td>63.0</td>\n",
              "      <td>0</td>\n",
              "      <td>1</td>\n",
              "      <td>0</td>\n",
              "      <td>0</td>\n",
              "      <td>0</td>\n",
              "      <td>0</td>\n",
              "      <td>0</td>\n",
              "      <td>0</td>\n",
              "      <td>0</td>\n",
              "      <td>...</td>\n",
              "      <td>0</td>\n",
              "      <td>0</td>\n",
              "      <td>0</td>\n",
              "      <td>0</td>\n",
              "      <td>0</td>\n",
              "      <td>0</td>\n",
              "      <td>0</td>\n",
              "      <td>0</td>\n",
              "      <td>1</td>\n",
              "      <td>0</td>\n",
              "    </tr>\n",
              "  </tbody>\n",
              "</table>\n",
              "<p>5 rows × 26 columns</p>\n",
              "</div>"
            ],
            "text/plain": [
              "   innings_avg_score  Team1_Chennai Super Kings  Team1_Delhi Capitals  \\\n",
              "0               60.0                          0                     0   \n",
              "1               37.0                          0                     1   \n",
              "2               71.0                          1                     0   \n",
              "3               59.0                          0                     0   \n",
              "4               63.0                          0                     1   \n",
              "\n",
              "   Team1_Kolkata Knight Riders  Team1_Mumbai Indians  Team1_Punjab Kings  \\\n",
              "0                            0                     0                   0   \n",
              "1                            0                     0                   0   \n",
              "2                            0                     0                   0   \n",
              "3                            0                     0                   0   \n",
              "4                            0                     0                   0   \n",
              "\n",
              "   Team1_Rajasthan Royals  Team1_Royal Challengers Bangalore  \\\n",
              "0                       0                                  0   \n",
              "1                       0                                  0   \n",
              "2                       0                                  0   \n",
              "3                       0                                  0   \n",
              "4                       0                                  0   \n",
              "\n",
              "   Team1_Sunrisers Hyderabad  Team2_Chennai Super Kings  ...  \\\n",
              "0                          1                          0  ...   \n",
              "1                          0                          0  ...   \n",
              "2                          0                          0  ...   \n",
              "3                          1                          0  ...   \n",
              "4                          0                          0  ...   \n",
              "\n",
              "   Team2_Sunrisers Hyderabad  City_Bangalore  City_Chennai  City_Delhi  \\\n",
              "0                          0               0             0           0   \n",
              "1                          0               0             0           0   \n",
              "2                          0               0             0           0   \n",
              "3                          0               0             0           0   \n",
              "4                          0               0             0           0   \n",
              "\n",
              "   City_Dharamsala  City_Hyderabad  City_Jaipur  City_Kolkata  City_Mumbai  \\\n",
              "0                0               0            0             0            1   \n",
              "1                0               0            0             0            1   \n",
              "2                0               0            0             0            1   \n",
              "3                0               0            0             0            1   \n",
              "4                0               0            0             0            1   \n",
              "\n",
              "   City_Pune  \n",
              "0          0  \n",
              "1          0  \n",
              "2          0  \n",
              "3          0  \n",
              "4          0  \n",
              "\n",
              "[5 rows x 26 columns]"
            ]
          },
          "execution_count": 58,
          "metadata": {},
          "output_type": "execute_result"
        }
      ],
      "source": [
        "avg_inn.head()"
      ]
    },
    {
      "cell_type": "code",
      "execution_count": 59,
      "id": "81BhooIUSI9b",
      "metadata": {
        "id": "81BhooIUSI9b"
      },
      "outputs": [],
      "source": [
        "x=avg_inn.drop('innings_avg_score',axis=1)\n",
        "y=avg_inn['innings_avg_score']"
      ]
    },
    {
      "cell_type": "code",
      "execution_count": 60,
      "id": "Ylrun4GbOQYE",
      "metadata": {
        "colab": {
          "base_uri": "https://localhost:8080/"
        },
        "id": "Ylrun4GbOQYE",
        "outputId": "61982bed-3d5e-480d-bd87-01c680e083f1"
      },
      "outputs": [
        {
          "name": "stdout",
          "output_type": "stream",
          "text": [
            "<class 'pandas.core.frame.DataFrame'>\n",
            "Int64Index: 542 entries, 0 to 541\n",
            "Data columns (total 26 columns):\n",
            " #   Column                             Non-Null Count  Dtype  \n",
            "---  ------                             --------------  -----  \n",
            " 0   innings_avg_score                  542 non-null    float64\n",
            " 1   Team1_Chennai Super Kings          542 non-null    uint8  \n",
            " 2   Team1_Delhi Capitals               542 non-null    uint8  \n",
            " 3   Team1_Kolkata Knight Riders        542 non-null    uint8  \n",
            " 4   Team1_Mumbai Indians               542 non-null    uint8  \n",
            " 5   Team1_Punjab Kings                 542 non-null    uint8  \n",
            " 6   Team1_Rajasthan Royals             542 non-null    uint8  \n",
            " 7   Team1_Royal Challengers Bangalore  542 non-null    uint8  \n",
            " 8   Team1_Sunrisers Hyderabad          542 non-null    uint8  \n",
            " 9   Team2_Chennai Super Kings          542 non-null    uint8  \n",
            " 10  Team2_Delhi Capitals               542 non-null    uint8  \n",
            " 11  Team2_Kolkata Knight Riders        542 non-null    uint8  \n",
            " 12  Team2_Mumbai Indians               542 non-null    uint8  \n",
            " 13  Team2_Punjab Kings                 542 non-null    uint8  \n",
            " 14  Team2_Rajasthan Royals             542 non-null    uint8  \n",
            " 15  Team2_Royal Challengers Bangalore  542 non-null    uint8  \n",
            " 16  Team2_Sunrisers Hyderabad          542 non-null    uint8  \n",
            " 17  City_Bangalore                     542 non-null    uint8  \n",
            " 18  City_Chennai                       542 non-null    uint8  \n",
            " 19  City_Delhi                         542 non-null    uint8  \n",
            " 20  City_Dharamsala                    542 non-null    uint8  \n",
            " 21  City_Hyderabad                     542 non-null    uint8  \n",
            " 22  City_Jaipur                        542 non-null    uint8  \n",
            " 23  City_Kolkata                       542 non-null    uint8  \n",
            " 24  City_Mumbai                        542 non-null    uint8  \n",
            " 25  City_Pune                          542 non-null    uint8  \n",
            "dtypes: float64(1), uint8(25)\n",
            "memory usage: 21.7 KB\n"
          ]
        }
      ],
      "source": [
        "avg_inn.info()"
      ]
    },
    {
      "cell_type": "code",
      "execution_count": 61,
      "id": "UA6rkyaQQpaU",
      "metadata": {
        "id": "UA6rkyaQQpaU"
      },
      "outputs": [],
      "source": [
        "from sklearn.model_selection import train_test_split\n",
        "x1,x2,y1,y2=train_test_split(x,y)"
      ]
    },
    {
      "cell_type": "code",
      "execution_count": 62,
      "id": "iHc7IrWSVyg0",
      "metadata": {
        "colab": {
          "base_uri": "https://localhost:8080/",
          "height": 74
        },
        "id": "iHc7IrWSVyg0",
        "outputId": "3aeafd20-703b-4d94-b7ae-555f00b2e297"
      },
      "outputs": [
        {
          "data": {
            "text/plain": [
              "LinearRegression()"
            ]
          },
          "execution_count": 62,
          "metadata": {},
          "output_type": "execute_result"
        }
      ],
      "source": [
        "from sklearn.linear_model import LinearRegression\n",
        "m=LinearRegression()\n",
        "m.fit(x1,y1)"
      ]
    },
    {
      "cell_type": "code",
      "execution_count": 63,
      "id": "gNo0IOwXRfe2",
      "metadata": {
        "colab": {
          "base_uri": "https://localhost:8080/"
        },
        "id": "gNo0IOwXRfe2",
        "outputId": "fe87fcdd-3685-46d1-c9db-a174e279028b"
      },
      "outputs": [
        {
          "name": "stdout",
          "output_type": "stream",
          "text": [
            "---- Linear Regression - Model Evaluation ----\n",
            "Mean Absolute Error (MAE): 8.422334558823529\n",
            "Mean Squared Error (MSE): 105.43600643382354\n",
            "Root Mean Squared Error (RMSE): 10.268203661489363\n"
          ]
        }
      ],
      "source": [
        "# Linear Regression - Model Evaluation\n",
        "from sklearn.metrics import mean_absolute_error as mae, mean_squared_error as mse, accuracy_score\n",
        "print(\"---- Linear Regression - Model Evaluation ----\")\n",
        "print(\"Mean Absolute Error (MAE): {}\".format(mae(y2,m.predict(x2))))\n",
        "print(\"Mean Squared Error (MSE): {}\".format(mse(y2,m.predict(x2))))\n",
        "print(\"Root Mean Squared Error (RMSE): {}\".format(np.sqrt(mse(y2,m.predict(x2)))))"
      ]
    },
    {
      "cell_type": "code",
      "execution_count": 64,
      "id": "MPqW0LYzRrwo",
      "metadata": {
        "colab": {
          "base_uri": "https://localhost:8080/",
          "height": 74
        },
        "id": "MPqW0LYzRrwo",
        "outputId": "295c3f1f-eb3c-4da7-a846-78a1dfa2b03f"
      },
      "outputs": [
        {
          "data": {
            "text/plain": [
              "DecisionTreeRegressor()"
            ]
          },
          "execution_count": 64,
          "metadata": {},
          "output_type": "execute_result"
        }
      ],
      "source": [
        "# Decision Tree Regression Model\n",
        "from sklearn.tree import DecisionTreeRegressor\n",
        "decision_regressor = DecisionTreeRegressor()\n",
        "decision_regressor.fit(x1,y1)"
      ]
    },
    {
      "cell_type": "code",
      "execution_count": 65,
      "id": "vCP1WB8LR8T4",
      "metadata": {
        "colab": {
          "base_uri": "https://localhost:8080/"
        },
        "id": "vCP1WB8LR8T4",
        "outputId": "71f52817-c750-48c2-eb8b-1850b75a7487"
      },
      "outputs": [
        {
          "name": "stdout",
          "output_type": "stream",
          "text": [
            "---- Decision Tree Regression - Model Evaluation ----\n",
            "Mean Absolute Error (MAE): 10.152249649859943\n",
            "Mean Squared Error (MSE): 152.78333922342085\n",
            "Root Mean Squared Error (RMSE): 12.360555781332037\n"
          ]
        }
      ],
      "source": [
        "# Predicting results\n",
        "y_pred_dt = decision_regressor.predict(x2)\n",
        "\n",
        "\n",
        "# Decision Tree Regression - Model Evaluation\n",
        "print(\"---- Decision Tree Regression - Model Evaluation ----\")\n",
        "print(\"Mean Absolute Error (MAE): {}\".format(mae(y2, y_pred_dt)))\n",
        "print(\"Mean Squared Error (MSE): {}\".format(mse(y2, y_pred_dt)))\n",
        "print(\"Root Mean Squared Error (RMSE): {}\".format(np.sqrt(mse(y2, y_pred_dt))))"
      ]
    },
    {
      "cell_type": "code",
      "execution_count": 66,
      "id": "9Hd_pzL_XsaO",
      "metadata": {
        "colab": {
          "base_uri": "https://localhost:8080/",
          "height": 74
        },
        "id": "9Hd_pzL_XsaO",
        "outputId": "d7ecf170-d6f5-4092-8742-19b173f8054f"
      },
      "outputs": [
        {
          "data": {
            "text/plain": [
              "RandomForestRegressor()"
            ]
          },
          "execution_count": 66,
          "metadata": {},
          "output_type": "execute_result"
        }
      ],
      "source": [
        "# Random Forest Regression Model\n",
        "from sklearn.ensemble import RandomForestRegressor\n",
        "random_regressor = RandomForestRegressor()\n",
        "random_regressor.fit(x1,y1)"
      ]
    },
    {
      "cell_type": "code",
      "execution_count": 67,
      "id": "f2_awvCAX-5g",
      "metadata": {
        "colab": {
          "base_uri": "https://localhost:8080/"
        },
        "id": "f2_awvCAX-5g",
        "outputId": "eeb7014c-daa0-4213-dd6d-866c9d69d6ca"
      },
      "outputs": [
        {
          "name": "stdout",
          "output_type": "stream",
          "text": [
            "---- Random Forest Regression - Model Evaluation ----\n",
            "Mean Absolute Error (MAE): 9.37286718236936\n",
            "Mean Squared Error (MSE): 129.75415347244342\n",
            "Root Mean Squared Error (RMSE): 11.390968065640577\n"
          ]
        }
      ],
      "source": [
        "# Predicting results\n",
        "y_pred_rf = random_regressor.predict(x2)\n",
        "\n",
        "\n",
        "# Random Forest Regression - Model Evaluation\n",
        "print(\"---- Random Forest Regression - Model Evaluation ----\")\n",
        "print(\"Mean Absolute Error (MAE): {}\".format(mae(y2, y_pred_rf)))\n",
        "print(\"Mean Squared Error (MSE): {}\".format(mse(y2, y_pred_rf)))\n",
        "print(\"Root Mean Squared Error (RMSE): {}\".format(np.sqrt(mse(y2, y_pred_rf))))\n"
      ]
    },
    {
      "cell_type": "markdown",
      "id": "7GdTxh5sYa_l",
      "metadata": {
        "id": "7GdTxh5sYa_l"
      },
      "source": [
        "Note: Since Linear Regression model performs best as compared to other two, we use this model and boost it's performance using AdaBoost Algorithm"
      ]
    },
    {
      "cell_type": "code",
      "execution_count": 68,
      "id": "7CYoEMLdYPUT",
      "metadata": {
        "colab": {
          "base_uri": "https://localhost:8080/",
          "height": 171
        },
        "id": "7CYoEMLdYPUT",
        "outputId": "31262e6b-5034-4cc8-b563-a3c70c8d6712"
      },
      "outputs": [
        {
          "data": {
            "text/plain": [
              "AdaBoostRegressor(base_estimator=LinearRegression(), n_estimators=100)"
            ]
          },
          "execution_count": 68,
          "metadata": {},
          "output_type": "execute_result"
        }
      ],
      "source": [
        "# AdaBoost Model using Linear Regression as the base learner\n",
        "from sklearn.ensemble import AdaBoostRegressor\n",
        "adb_regressor = AdaBoostRegressor(base_estimator=m, n_estimators=100)\n",
        "adb_regressor.fit(x1, y1)"
      ]
    },
    {
      "cell_type": "code",
      "execution_count": 69,
      "id": "UUliJnrrYyd_",
      "metadata": {
        "colab": {
          "base_uri": "https://localhost:8080/"
        },
        "id": "UUliJnrrYyd_",
        "outputId": "75cd4399-2d7b-4ea3-f24d-dcd0d2e5a94e"
      },
      "outputs": [
        {
          "name": "stdout",
          "output_type": "stream",
          "text": [
            "---- AdaBoost Regression - Model Evaluation ----\n",
            "Mean Absolute Error (MAE): 8.397977941176471\n",
            "Mean Squared Error (MSE): 106.16492417279412\n",
            "Root Mean Squared Error (RMSE): 10.303636453834836\n"
          ]
        }
      ],
      "source": [
        "# Predicting results\n",
        "y_pred_adb = adb_regressor.predict(x2)\n",
        "\n",
        "\n",
        "# AdaBoost Regression - Model Evaluation\n",
        "print(\"---- AdaBoost Regression - Model Evaluation ----\")\n",
        "print(\"Mean Absolute Error (MAE): {}\".format(mae(y2, y_pred_adb)))\n",
        "print(\"Mean Squared Error (MSE): {}\".format(mse(y2, y_pred_adb)))\n",
        "print(\"Root Mean Squared Error (RMSE): {}\".format(np.sqrt(mse(y2, y_pred_adb))))"
      ]
    },
    {
      "cell_type": "code",
      "execution_count": 70,
      "id": "bvmGSdwfZjKG",
      "metadata": {
        "id": "bvmGSdwfZjKG"
      },
      "outputs": [],
      "source": [
        "import numpy as np\n",
        "import tensorflow as tf\n",
        "from tensorflow import keras"
      ]
    },
    {
      "cell_type": "code",
      "execution_count": 71,
      "id": "2pml36e3GNwH",
      "metadata": {
        "colab": {
          "base_uri": "https://localhost:8080/"
        },
        "id": "2pml36e3GNwH",
        "outputId": "7fced49e-9f39-4f2a-abc9-14a2a4e0e879"
      },
      "outputs": [
        {
          "name": "stdout",
          "output_type": "stream",
          "text": [
            "Epoch 1/60\n",
            "11/11 [==============================] - 0s 16ms/step - loss: 2864.7947 - val_loss: 2740.9905\n",
            "Epoch 2/60\n",
            "11/11 [==============================] - 0s 2ms/step - loss: 2664.5552 - val_loss: 2392.7661\n",
            "Epoch 3/60\n",
            "11/11 [==============================] - 0s 2ms/step - loss: 2113.4387 - val_loss: 1465.6343\n",
            "Epoch 4/60\n",
            "11/11 [==============================] - 0s 2ms/step - loss: 890.2039 - val_loss: 161.1319\n",
            "Epoch 5/60\n",
            "11/11 [==============================] - 0s 2ms/step - loss: 352.1302 - val_loss: 149.9038\n",
            "Epoch 6/60\n",
            "11/11 [==============================] - 0s 2ms/step - loss: 237.6639 - val_loss: 169.1444\n",
            "Epoch 7/60\n",
            "11/11 [==============================] - 0s 2ms/step - loss: 235.2629 - val_loss: 108.7112\n",
            "Epoch 8/60\n",
            "11/11 [==============================] - 0s 2ms/step - loss: 191.9538 - val_loss: 95.9983\n",
            "Epoch 9/60\n",
            "11/11 [==============================] - 0s 2ms/step - loss: 227.5195 - val_loss: 99.2333\n",
            "Epoch 10/60\n",
            "11/11 [==============================] - 0s 2ms/step - loss: 192.3491 - val_loss: 94.8657\n",
            "Epoch 11/60\n",
            "11/11 [==============================] - 0s 4ms/step - loss: 203.5410 - val_loss: 94.6681\n",
            "Epoch 12/60\n",
            "11/11 [==============================] - 0s 2ms/step - loss: 179.1875 - val_loss: 90.2501\n",
            "Epoch 13/60\n",
            "11/11 [==============================] - 0s 2ms/step - loss: 183.9854 - val_loss: 92.5551\n",
            "Epoch 14/60\n",
            "11/11 [==============================] - 0s 2ms/step - loss: 192.6821 - val_loss: 87.4873\n",
            "Epoch 15/60\n",
            "11/11 [==============================] - 0s 2ms/step - loss: 193.1551 - val_loss: 96.2601\n",
            "Epoch 16/60\n",
            "11/11 [==============================] - 0s 3ms/step - loss: 203.0197 - val_loss: 88.8282\n",
            "Epoch 17/60\n",
            "11/11 [==============================] - 0s 3ms/step - loss: 191.7107 - val_loss: 92.5392\n",
            "Epoch 18/60\n",
            "11/11 [==============================] - 0s 3ms/step - loss: 179.0578 - val_loss: 89.5570\n",
            "Epoch 19/60\n",
            "11/11 [==============================] - 0s 2ms/step - loss: 178.1665 - val_loss: 93.3529\n",
            "Epoch 20/60\n",
            "11/11 [==============================] - 0s 2ms/step - loss: 176.8799 - val_loss: 86.3837\n",
            "Epoch 21/60\n",
            "11/11 [==============================] - 0s 2ms/step - loss: 183.6496 - val_loss: 88.4074\n",
            "Epoch 22/60\n",
            "11/11 [==============================] - 0s 2ms/step - loss: 185.4750 - val_loss: 103.6632\n",
            "Epoch 23/60\n",
            "11/11 [==============================] - 0s 2ms/step - loss: 170.6966 - val_loss: 89.3977\n",
            "Epoch 24/60\n",
            "11/11 [==============================] - 0s 2ms/step - loss: 177.0931 - val_loss: 91.5123\n",
            "Epoch 25/60\n",
            "11/11 [==============================] - 0s 2ms/step - loss: 173.7776 - val_loss: 89.1781\n",
            "Epoch 26/60\n",
            "11/11 [==============================] - 0s 2ms/step - loss: 161.8553 - val_loss: 87.5221\n",
            "Epoch 27/60\n",
            "11/11 [==============================] - 0s 2ms/step - loss: 181.1993 - val_loss: 86.6526\n",
            "Epoch 28/60\n",
            "11/11 [==============================] - 0s 2ms/step - loss: 189.4709 - val_loss: 85.3120\n",
            "Epoch 29/60\n",
            "11/11 [==============================] - 0s 3ms/step - loss: 172.7231 - val_loss: 86.6621\n",
            "Epoch 30/60\n",
            "11/11 [==============================] - 0s 2ms/step - loss: 173.2483 - val_loss: 89.0040\n",
            "Epoch 31/60\n",
            "11/11 [==============================] - 0s 2ms/step - loss: 168.3986 - val_loss: 84.6369\n",
            "Epoch 32/60\n",
            "11/11 [==============================] - 0s 2ms/step - loss: 160.7236 - val_loss: 92.4392\n",
            "Epoch 33/60\n",
            "11/11 [==============================] - 0s 2ms/step - loss: 165.2219 - val_loss: 84.2443\n",
            "Epoch 34/60\n",
            "11/11 [==============================] - 0s 3ms/step - loss: 163.8861 - val_loss: 84.9437\n",
            "Epoch 35/60\n",
            "11/11 [==============================] - 0s 2ms/step - loss: 165.3569 - val_loss: 88.0830\n",
            "Epoch 36/60\n",
            "11/11 [==============================] - 0s 2ms/step - loss: 161.2768 - val_loss: 92.9842\n",
            "Epoch 37/60\n",
            "11/11 [==============================] - 0s 2ms/step - loss: 167.4800 - val_loss: 92.4576\n",
            "Epoch 38/60\n",
            "11/11 [==============================] - 0s 2ms/step - loss: 160.4601 - val_loss: 88.3056\n",
            "Epoch 39/60\n",
            "11/11 [==============================] - 0s 2ms/step - loss: 148.3678 - val_loss: 95.7757\n",
            "Epoch 40/60\n",
            "11/11 [==============================] - 0s 2ms/step - loss: 162.2634 - val_loss: 90.0807\n",
            "Epoch 41/60\n",
            "11/11 [==============================] - 0s 2ms/step - loss: 157.0269 - val_loss: 90.9267\n",
            "Epoch 42/60\n",
            "11/11 [==============================] - 0s 2ms/step - loss: 163.6633 - val_loss: 88.1940\n",
            "Epoch 43/60\n",
            "11/11 [==============================] - 0s 2ms/step - loss: 175.8456 - val_loss: 88.7953\n",
            "Epoch 44/60\n",
            "11/11 [==============================] - 0s 2ms/step - loss: 175.3166 - val_loss: 93.1283\n",
            "Epoch 45/60\n",
            "11/11 [==============================] - 0s 4ms/step - loss: 158.6257 - val_loss: 87.1188\n",
            "Epoch 46/60\n",
            "11/11 [==============================] - 0s 2ms/step - loss: 164.2644 - val_loss: 94.2914\n",
            "Epoch 47/60\n",
            "11/11 [==============================] - 0s 2ms/step - loss: 130.8605 - val_loss: 89.8473\n",
            "Epoch 48/60\n",
            "11/11 [==============================] - 0s 2ms/step - loss: 164.4610 - val_loss: 92.5693\n",
            "Epoch 49/60\n",
            "11/11 [==============================] - 0s 2ms/step - loss: 151.5697 - val_loss: 90.4689\n",
            "Epoch 50/60\n",
            "11/11 [==============================] - 0s 2ms/step - loss: 157.3357 - val_loss: 91.6946\n",
            "Epoch 51/60\n",
            "11/11 [==============================] - 0s 2ms/step - loss: 151.8108 - val_loss: 87.0934\n",
            "Epoch 52/60\n",
            "11/11 [==============================] - 0s 2ms/step - loss: 163.3140 - val_loss: 99.1604\n",
            "Epoch 53/60\n",
            "11/11 [==============================] - 0s 2ms/step - loss: 169.8747 - val_loss: 89.6915\n",
            "Epoch 54/60\n",
            "11/11 [==============================] - 0s 2ms/step - loss: 146.6149 - val_loss: 92.5671\n",
            "Epoch 55/60\n",
            "11/11 [==============================] - 0s 2ms/step - loss: 159.5941 - val_loss: 90.9636\n",
            "Epoch 56/60\n",
            "11/11 [==============================] - 0s 2ms/step - loss: 156.7940 - val_loss: 91.0794\n",
            "Epoch 57/60\n",
            "11/11 [==============================] - 0s 3ms/step - loss: 141.0501 - val_loss: 97.9638\n",
            "Epoch 58/60\n",
            "11/11 [==============================] - 0s 2ms/step - loss: 176.5536 - val_loss: 94.8653\n",
            "Epoch 59/60\n",
            "11/11 [==============================] - 0s 2ms/step - loss: 175.0753 - val_loss: 95.4388\n",
            "Epoch 60/60\n",
            "11/11 [==============================] - 0s 2ms/step - loss: 134.4658 - val_loss: 94.0498\n"
          ]
        },
        {
          "data": {
            "text/plain": [
              "<tensorflow.python.keras.callbacks.History at 0x1e673ba1a58>"
            ]
          },
          "execution_count": 71,
          "metadata": {},
          "output_type": "execute_result"
        }
      ],
      "source": [
        "model = keras.Sequential([\n",
        "    keras.layers.Dense(75, activation='relu', input_dim=x.shape[1]),\n",
        "    keras.layers.Dropout(0.2),\n",
        "    keras.layers.Dense(150, activation='relu'),\n",
        "    keras.layers.Dense(75, activation='relu'),\n",
        "    keras.layers.Dense(36, activation='relu'),\n",
        "    keras.layers.Dropout(0.2),\n",
        "    keras.layers.Dense(1,activation='linear')  # Output layer with a single neuron for regression\n",
        "])\n",
        "\n",
        "# Compile the model\n",
        "model.compile(optimizer='adam', loss='mean_squared_error')\n",
        "\n",
        "# Train the model\n",
        "model.fit(x1, y1, epochs=60,batch_size=32, validation_split=0.2)\n"
      ]
    },
    {
      "cell_type": "code",
      "execution_count": 72,
      "id": "c3tjB-aPHdW9",
      "metadata": {
        "colab": {
          "base_uri": "https://localhost:8080/"
        },
        "id": "c3tjB-aPHdW9",
        "outputId": "9ecfc6e5-b4ee-4609-b552-cca140a54fb8"
      },
      "outputs": [
        {
          "name": "stdout",
          "output_type": "stream",
          "text": [
            "Mean Absolute Error (MAE): 8.845032551709343\n",
            "Mean Squared Error (MSE): 118.3039099533593\n",
            "Root Mean Squared Error (RMSE): 10.87676008530846\n"
          ]
        }
      ],
      "source": [
        "y_pred_ann = model.predict(x2)\n",
        "print(\"Mean Absolute Error (MAE): {}\".format(mae(y2, y_pred_ann)))\n",
        "print(\"Mean Squared Error (MSE): {}\".format(mse(y2, y_pred_ann)))\n",
        "print(\"Root Mean Squared Error (RMSE): {}\".format(np.sqrt(mse(y2, y_pred_ann))))"
      ]
    },
    {
      "cell_type": "markdown",
      "id": "PtjbuFt7f6DH",
      "metadata": {
        "id": "PtjbuFt7f6DH"
      },
      "source": [
        "<h1>Adaboost Regressor gives best results"
      ]
    },
    {
      "cell_type": "code",
      "execution_count": 73,
      "id": "l7t0NVv3Hohr",
      "metadata": {
        "id": "l7t0NVv3Hohr"
      },
      "outputs": [],
      "source": [
        "import pickle\n",
        "filename = 'trained_model.sav'\n",
        "pickle.dump(adb_regressor, open(filename, 'wb'))"
      ]
    },
    {
      "cell_type": "code",
      "execution_count": null,
      "id": "53ad5f04",
      "metadata": {},
      "outputs": [],
      "source": []
    }
  ],
  "metadata": {
    "colab": {
      "provenance": []
    },
    "kernelspec": {
      "display_name": "GPU",
      "language": "python",
      "name": "gpu"
    },
    "language_info": {
      "codemirror_mode": {
        "name": "ipython",
        "version": 3
      },
      "file_extension": ".py",
      "mimetype": "text/x-python",
      "name": "python",
      "nbconvert_exporter": "python",
      "pygments_lexer": "ipython3",
      "version": "3.6.13"
    }
  },
  "nbformat": 4,
  "nbformat_minor": 5
}
